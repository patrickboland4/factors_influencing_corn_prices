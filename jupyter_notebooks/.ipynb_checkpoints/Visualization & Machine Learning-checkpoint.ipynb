{
 "cells": [
  {
   "cell_type": "markdown",
   "metadata": {},
   "source": [
    "### Import visualization and machine learning libraries "
   ]
  },
  {
   "cell_type": "code",
   "execution_count": 149,
   "metadata": {
    "collapsed": true
   },
   "outputs": [],
   "source": [
    "import pandas as pd\n",
    "import numpy as np\n",
    "import seaborn as sns\n",
    "import matplotlib.pyplot as plt\n",
    "%matplotlib inline"
   ]
  },
  {
   "cell_type": "markdown",
   "metadata": {},
   "source": [
    "Set path"
   ]
  },
  {
   "cell_type": "code",
   "execution_count": 150,
   "metadata": {
    "collapsed": true
   },
   "outputs": [],
   "source": [
    "corn_path = \"/Users/patrickboland4/p_code/projects/factors_influencing_corn_prices/data/csvs_from_jupyter_nb/corn.csv\""
   ]
  },
  {
   "cell_type": "markdown",
   "metadata": {},
   "source": [
    "### Importing the csv file we created in the \"Preparing the climate, corn, ethanol data\" Jupyter notebook"
   ]
  },
  {
   "cell_type": "markdown",
   "metadata": {},
   "source": [
    "** Let's import the file **"
   ]
  },
  {
   "cell_type": "code",
   "execution_count": 151,
   "metadata": {
    "collapsed": true
   },
   "outputs": [],
   "source": [
    "corn = pd.read_csv(corn_path)"
   ]
  },
  {
   "cell_type": "code",
   "execution_count": 152,
   "metadata": {
    "collapsed": false
   },
   "outputs": [
    {
     "data": {
      "text/html": [
       "<div>\n",
       "<table border=\"1\" class=\"dataframe\">\n",
       "  <thead>\n",
       "    <tr style=\"text-align: right;\">\n",
       "      <th></th>\n",
       "      <th>Year</th>\n",
       "      <th>Jan_tmax</th>\n",
       "      <th>Feb_tmax</th>\n",
       "      <th>Mar_tmax</th>\n",
       "      <th>Apr_tmax</th>\n",
       "      <th>May_tmax</th>\n",
       "      <th>Jun_tmax</th>\n",
       "      <th>Jul_tmax</th>\n",
       "      <th>Aug_tmax</th>\n",
       "      <th>Sep_tmax</th>\n",
       "      <th>...</th>\n",
       "      <th>PRODUCED</th>\n",
       "      <th>BEGIN</th>\n",
       "      <th>TOTSUP</th>\n",
       "      <th>EXPORTS</th>\n",
       "      <th>FEED</th>\n",
       "      <th>FSI</th>\n",
       "      <th>CONS</th>\n",
       "      <th>ENDING</th>\n",
       "      <th>FPRICE</th>\n",
       "      <th>Ethanol</th>\n",
       "    </tr>\n",
       "  </thead>\n",
       "  <tbody>\n",
       "    <tr>\n",
       "      <th>0</th>\n",
       "      <td>1980.0</td>\n",
       "      <td>304.604651</td>\n",
       "      <td>298.058140</td>\n",
       "      <td>419.250000</td>\n",
       "      <td>611.581395</td>\n",
       "      <td>741.034884</td>\n",
       "      <td>816.360465</td>\n",
       "      <td>894.093023</td>\n",
       "      <td>853.906977</td>\n",
       "      <td>772.098837</td>\n",
       "      <td>...</td>\n",
       "      <td>6639.0</td>\n",
       "      <td>2034.0</td>\n",
       "      <td>8675.0</td>\n",
       "      <td>2391.0</td>\n",
       "      <td>4232.0</td>\n",
       "      <td>659.0</td>\n",
       "      <td>7282.0</td>\n",
       "      <td>1392.0</td>\n",
       "      <td>3.12</td>\n",
       "      <td>35.0</td>\n",
       "    </tr>\n",
       "    <tr>\n",
       "      <th>1</th>\n",
       "      <td>1981.0</td>\n",
       "      <td>347.028902</td>\n",
       "      <td>399.289017</td>\n",
       "      <td>513.040462</td>\n",
       "      <td>666.930636</td>\n",
       "      <td>686.184971</td>\n",
       "      <td>818.265896</td>\n",
       "      <td>838.728324</td>\n",
       "      <td>810.294798</td>\n",
       "      <td>749.173410</td>\n",
       "      <td>...</td>\n",
       "      <td>8119.0</td>\n",
       "      <td>1392.0</td>\n",
       "      <td>9511.0</td>\n",
       "      <td>1997.0</td>\n",
       "      <td>4245.0</td>\n",
       "      <td>733.0</td>\n",
       "      <td>6975.0</td>\n",
       "      <td>2537.0</td>\n",
       "      <td>2.47</td>\n",
       "      <td>86.0</td>\n",
       "    </tr>\n",
       "    <tr>\n",
       "      <th>2</th>\n",
       "      <td>1982.0</td>\n",
       "      <td>222.075000</td>\n",
       "      <td>319.181250</td>\n",
       "      <td>448.562500</td>\n",
       "      <td>569.743750</td>\n",
       "      <td>738.812500</td>\n",
       "      <td>756.750000</td>\n",
       "      <td>851.362500</td>\n",
       "      <td>811.625000</td>\n",
       "      <td>729.931250</td>\n",
       "      <td>...</td>\n",
       "      <td>8235.0</td>\n",
       "      <td>2537.0</td>\n",
       "      <td>10772.0</td>\n",
       "      <td>1821.0</td>\n",
       "      <td>4573.0</td>\n",
       "      <td>855.0</td>\n",
       "      <td>7249.0</td>\n",
       "      <td>3523.0</td>\n",
       "      <td>2.55</td>\n",
       "      <td>140.0</td>\n",
       "    </tr>\n",
       "    <tr>\n",
       "      <th>3</th>\n",
       "      <td>1983.0</td>\n",
       "      <td>325.353659</td>\n",
       "      <td>391.920732</td>\n",
       "      <td>458.615854</td>\n",
       "      <td>535.060976</td>\n",
       "      <td>675.115854</td>\n",
       "      <td>802.621951</td>\n",
       "      <td>890.926829</td>\n",
       "      <td>900.695122</td>\n",
       "      <td>778.585366</td>\n",
       "      <td>...</td>\n",
       "      <td>4174.0</td>\n",
       "      <td>3523.0</td>\n",
       "      <td>7699.0</td>\n",
       "      <td>1886.0</td>\n",
       "      <td>3876.0</td>\n",
       "      <td>930.0</td>\n",
       "      <td>6693.0</td>\n",
       "      <td>1006.0</td>\n",
       "      <td>3.21</td>\n",
       "      <td>160.0</td>\n",
       "    </tr>\n",
       "    <tr>\n",
       "      <th>4</th>\n",
       "      <td>1984.0</td>\n",
       "      <td>279.734177</td>\n",
       "      <td>420.525316</td>\n",
       "      <td>386.132911</td>\n",
       "      <td>567.702532</td>\n",
       "      <td>686.575949</td>\n",
       "      <td>824.164557</td>\n",
       "      <td>844.221519</td>\n",
       "      <td>863.170886</td>\n",
       "      <td>731.164557</td>\n",
       "      <td>...</td>\n",
       "      <td>7672.0</td>\n",
       "      <td>1006.0</td>\n",
       "      <td>8680.0</td>\n",
       "      <td>1850.0</td>\n",
       "      <td>4115.0</td>\n",
       "      <td>1067.0</td>\n",
       "      <td>7032.0</td>\n",
       "      <td>1648.0</td>\n",
       "      <td>2.63</td>\n",
       "      <td>232.0</td>\n",
       "    </tr>\n",
       "  </tbody>\n",
       "</table>\n",
       "<p>5 rows × 53 columns</p>\n",
       "</div>"
      ],
      "text/plain": [
       "     Year    Jan_tmax    Feb_tmax    Mar_tmax    Apr_tmax    May_tmax  \\\n",
       "0  1980.0  304.604651  298.058140  419.250000  611.581395  741.034884   \n",
       "1  1981.0  347.028902  399.289017  513.040462  666.930636  686.184971   \n",
       "2  1982.0  222.075000  319.181250  448.562500  569.743750  738.812500   \n",
       "3  1983.0  325.353659  391.920732  458.615854  535.060976  675.115854   \n",
       "4  1984.0  279.734177  420.525316  386.132911  567.702532  686.575949   \n",
       "\n",
       "     Jun_tmax    Jul_tmax    Aug_tmax    Sep_tmax   ...     PRODUCED   BEGIN  \\\n",
       "0  816.360465  894.093023  853.906977  772.098837   ...       6639.0  2034.0   \n",
       "1  818.265896  838.728324  810.294798  749.173410   ...       8119.0  1392.0   \n",
       "2  756.750000  851.362500  811.625000  729.931250   ...       8235.0  2537.0   \n",
       "3  802.621951  890.926829  900.695122  778.585366   ...       4174.0  3523.0   \n",
       "4  824.164557  844.221519  863.170886  731.164557   ...       7672.0  1006.0   \n",
       "\n",
       "    TOTSUP  EXPORTS    FEED     FSI    CONS  ENDING  FPRICE  Ethanol  \n",
       "0   8675.0   2391.0  4232.0   659.0  7282.0  1392.0    3.12     35.0  \n",
       "1   9511.0   1997.0  4245.0   733.0  6975.0  2537.0    2.47     86.0  \n",
       "2  10772.0   1821.0  4573.0   855.0  7249.0  3523.0    2.55    140.0  \n",
       "3   7699.0   1886.0  3876.0   930.0  6693.0  1006.0    3.21    160.0  \n",
       "4   8680.0   1850.0  4115.0  1067.0  7032.0  1648.0    2.63    232.0  \n",
       "\n",
       "[5 rows x 53 columns]"
      ]
     },
     "execution_count": 152,
     "metadata": {},
     "output_type": "execute_result"
    }
   ],
   "source": [
    "corn.head()"
   ]
  },
  {
   "cell_type": "markdown",
   "metadata": {},
   "source": [
    "Our goal is to to have 'Year' be represented in the index as a datetime object. Let's have a look at the dtype of the 'Year' column"
   ]
  },
  {
   "cell_type": "code",
   "execution_count": 153,
   "metadata": {
    "collapsed": false
   },
   "outputs": [
    {
     "data": {
      "text/plain": [
       "numpy.float64"
      ]
     },
     "execution_count": 153,
     "metadata": {},
     "output_type": "execute_result"
    }
   ],
   "source": [
    "type(corn['Year'][0])"
   ]
  },
  {
   "cell_type": "markdown",
   "metadata": {},
   "source": [
    "Let's convert objects within the 'Year' column to string"
   ]
  },
  {
   "cell_type": "code",
   "execution_count": 154,
   "metadata": {
    "collapsed": true
   },
   "outputs": [],
   "source": [
    "corn['Year'] = corn['Year'].apply(str)"
   ]
  },
  {
   "cell_type": "markdown",
   "metadata": {},
   "source": [
    "Verifying the above code worked"
   ]
  },
  {
   "cell_type": "code",
   "execution_count": 155,
   "metadata": {
    "collapsed": false
   },
   "outputs": [
    {
     "data": {
      "text/plain": [
       "str"
      ]
     },
     "execution_count": 155,
     "metadata": {},
     "output_type": "execute_result"
    }
   ],
   "source": [
    "type(corn['Year'][0])"
   ]
  },
  {
   "cell_type": "code",
   "execution_count": 156,
   "metadata": {
    "collapsed": false
   },
   "outputs": [
    {
     "data": {
      "text/plain": [
       "'1980.0'"
      ]
     },
     "execution_count": 156,
     "metadata": {},
     "output_type": "execute_result"
    }
   ],
   "source": [
    "corn['Year'][0]"
   ]
  },
  {
   "cell_type": "code",
   "execution_count": 157,
   "metadata": {
    "collapsed": true
   },
   "outputs": [],
   "source": [
    "corn['Year'] = corn['Year'].apply(lambda x: x.split('.')[0])"
   ]
  },
  {
   "cell_type": "code",
   "execution_count": 158,
   "metadata": {
    "collapsed": false
   },
   "outputs": [
    {
     "data": {
      "text/plain": [
       "'1980'"
      ]
     },
     "execution_count": 158,
     "metadata": {},
     "output_type": "execute_result"
    }
   ],
   "source": [
    "corn['Year'][0]"
   ]
  },
  {
   "cell_type": "markdown",
   "metadata": {},
   "source": [
    "** Convert the 'Year' column to a datetime object **"
   ]
  },
  {
   "cell_type": "code",
   "execution_count": 159,
   "metadata": {
    "collapsed": false
   },
   "outputs": [],
   "source": [
    "corn['Year'] = pd.to_datetime(corn['Year'], infer_datetime_format=True)"
   ]
  },
  {
   "cell_type": "code",
   "execution_count": 160,
   "metadata": {
    "collapsed": false
   },
   "outputs": [
    {
     "data": {
      "text/html": [
       "<div>\n",
       "<table border=\"1\" class=\"dataframe\">\n",
       "  <thead>\n",
       "    <tr style=\"text-align: right;\">\n",
       "      <th></th>\n",
       "      <th>Year</th>\n",
       "      <th>Jan_tmax</th>\n",
       "      <th>Feb_tmax</th>\n",
       "      <th>Mar_tmax</th>\n",
       "      <th>Apr_tmax</th>\n",
       "      <th>May_tmax</th>\n",
       "      <th>Jun_tmax</th>\n",
       "      <th>Jul_tmax</th>\n",
       "      <th>Aug_tmax</th>\n",
       "      <th>Sep_tmax</th>\n",
       "      <th>...</th>\n",
       "      <th>PRODUCED</th>\n",
       "      <th>BEGIN</th>\n",
       "      <th>TOTSUP</th>\n",
       "      <th>EXPORTS</th>\n",
       "      <th>FEED</th>\n",
       "      <th>FSI</th>\n",
       "      <th>CONS</th>\n",
       "      <th>ENDING</th>\n",
       "      <th>FPRICE</th>\n",
       "      <th>Ethanol</th>\n",
       "    </tr>\n",
       "  </thead>\n",
       "  <tbody>\n",
       "    <tr>\n",
       "      <th>0</th>\n",
       "      <td>1980-01-01</td>\n",
       "      <td>304.604651</td>\n",
       "      <td>298.058140</td>\n",
       "      <td>419.250000</td>\n",
       "      <td>611.581395</td>\n",
       "      <td>741.034884</td>\n",
       "      <td>816.360465</td>\n",
       "      <td>894.093023</td>\n",
       "      <td>853.906977</td>\n",
       "      <td>772.098837</td>\n",
       "      <td>...</td>\n",
       "      <td>6639.0</td>\n",
       "      <td>2034.0</td>\n",
       "      <td>8675.0</td>\n",
       "      <td>2391.0</td>\n",
       "      <td>4232.0</td>\n",
       "      <td>659.0</td>\n",
       "      <td>7282.0</td>\n",
       "      <td>1392.0</td>\n",
       "      <td>3.12</td>\n",
       "      <td>35.0</td>\n",
       "    </tr>\n",
       "    <tr>\n",
       "      <th>1</th>\n",
       "      <td>1981-01-01</td>\n",
       "      <td>347.028902</td>\n",
       "      <td>399.289017</td>\n",
       "      <td>513.040462</td>\n",
       "      <td>666.930636</td>\n",
       "      <td>686.184971</td>\n",
       "      <td>818.265896</td>\n",
       "      <td>838.728324</td>\n",
       "      <td>810.294798</td>\n",
       "      <td>749.173410</td>\n",
       "      <td>...</td>\n",
       "      <td>8119.0</td>\n",
       "      <td>1392.0</td>\n",
       "      <td>9511.0</td>\n",
       "      <td>1997.0</td>\n",
       "      <td>4245.0</td>\n",
       "      <td>733.0</td>\n",
       "      <td>6975.0</td>\n",
       "      <td>2537.0</td>\n",
       "      <td>2.47</td>\n",
       "      <td>86.0</td>\n",
       "    </tr>\n",
       "    <tr>\n",
       "      <th>2</th>\n",
       "      <td>1982-01-01</td>\n",
       "      <td>222.075000</td>\n",
       "      <td>319.181250</td>\n",
       "      <td>448.562500</td>\n",
       "      <td>569.743750</td>\n",
       "      <td>738.812500</td>\n",
       "      <td>756.750000</td>\n",
       "      <td>851.362500</td>\n",
       "      <td>811.625000</td>\n",
       "      <td>729.931250</td>\n",
       "      <td>...</td>\n",
       "      <td>8235.0</td>\n",
       "      <td>2537.0</td>\n",
       "      <td>10772.0</td>\n",
       "      <td>1821.0</td>\n",
       "      <td>4573.0</td>\n",
       "      <td>855.0</td>\n",
       "      <td>7249.0</td>\n",
       "      <td>3523.0</td>\n",
       "      <td>2.55</td>\n",
       "      <td>140.0</td>\n",
       "    </tr>\n",
       "    <tr>\n",
       "      <th>3</th>\n",
       "      <td>1983-01-01</td>\n",
       "      <td>325.353659</td>\n",
       "      <td>391.920732</td>\n",
       "      <td>458.615854</td>\n",
       "      <td>535.060976</td>\n",
       "      <td>675.115854</td>\n",
       "      <td>802.621951</td>\n",
       "      <td>890.926829</td>\n",
       "      <td>900.695122</td>\n",
       "      <td>778.585366</td>\n",
       "      <td>...</td>\n",
       "      <td>4174.0</td>\n",
       "      <td>3523.0</td>\n",
       "      <td>7699.0</td>\n",
       "      <td>1886.0</td>\n",
       "      <td>3876.0</td>\n",
       "      <td>930.0</td>\n",
       "      <td>6693.0</td>\n",
       "      <td>1006.0</td>\n",
       "      <td>3.21</td>\n",
       "      <td>160.0</td>\n",
       "    </tr>\n",
       "    <tr>\n",
       "      <th>4</th>\n",
       "      <td>1984-01-01</td>\n",
       "      <td>279.734177</td>\n",
       "      <td>420.525316</td>\n",
       "      <td>386.132911</td>\n",
       "      <td>567.702532</td>\n",
       "      <td>686.575949</td>\n",
       "      <td>824.164557</td>\n",
       "      <td>844.221519</td>\n",
       "      <td>863.170886</td>\n",
       "      <td>731.164557</td>\n",
       "      <td>...</td>\n",
       "      <td>7672.0</td>\n",
       "      <td>1006.0</td>\n",
       "      <td>8680.0</td>\n",
       "      <td>1850.0</td>\n",
       "      <td>4115.0</td>\n",
       "      <td>1067.0</td>\n",
       "      <td>7032.0</td>\n",
       "      <td>1648.0</td>\n",
       "      <td>2.63</td>\n",
       "      <td>232.0</td>\n",
       "    </tr>\n",
       "  </tbody>\n",
       "</table>\n",
       "<p>5 rows × 53 columns</p>\n",
       "</div>"
      ],
      "text/plain": [
       "        Year    Jan_tmax    Feb_tmax    Mar_tmax    Apr_tmax    May_tmax  \\\n",
       "0 1980-01-01  304.604651  298.058140  419.250000  611.581395  741.034884   \n",
       "1 1981-01-01  347.028902  399.289017  513.040462  666.930636  686.184971   \n",
       "2 1982-01-01  222.075000  319.181250  448.562500  569.743750  738.812500   \n",
       "3 1983-01-01  325.353659  391.920732  458.615854  535.060976  675.115854   \n",
       "4 1984-01-01  279.734177  420.525316  386.132911  567.702532  686.575949   \n",
       "\n",
       "     Jun_tmax    Jul_tmax    Aug_tmax    Sep_tmax   ...     PRODUCED   BEGIN  \\\n",
       "0  816.360465  894.093023  853.906977  772.098837   ...       6639.0  2034.0   \n",
       "1  818.265896  838.728324  810.294798  749.173410   ...       8119.0  1392.0   \n",
       "2  756.750000  851.362500  811.625000  729.931250   ...       8235.0  2537.0   \n",
       "3  802.621951  890.926829  900.695122  778.585366   ...       4174.0  3523.0   \n",
       "4  824.164557  844.221519  863.170886  731.164557   ...       7672.0  1006.0   \n",
       "\n",
       "    TOTSUP  EXPORTS    FEED     FSI    CONS  ENDING  FPRICE  Ethanol  \n",
       "0   8675.0   2391.0  4232.0   659.0  7282.0  1392.0    3.12     35.0  \n",
       "1   9511.0   1997.0  4245.0   733.0  6975.0  2537.0    2.47     86.0  \n",
       "2  10772.0   1821.0  4573.0   855.0  7249.0  3523.0    2.55    140.0  \n",
       "3   7699.0   1886.0  3876.0   930.0  6693.0  1006.0    3.21    160.0  \n",
       "4   8680.0   1850.0  4115.0  1067.0  7032.0  1648.0    2.63    232.0  \n",
       "\n",
       "[5 rows x 53 columns]"
      ]
     },
     "execution_count": 160,
     "metadata": {},
     "output_type": "execute_result"
    }
   ],
   "source": [
    "corn.head()"
   ]
  },
  {
   "cell_type": "markdown",
   "metadata": {},
   "source": [
    "** Set the index on the corn df to the 'Year' column **"
   ]
  },
  {
   "cell_type": "code",
   "execution_count": 161,
   "metadata": {
    "collapsed": true
   },
   "outputs": [],
   "source": [
    "corn = corn.set_index('Year')"
   ]
  },
  {
   "cell_type": "code",
   "execution_count": 162,
   "metadata": {
    "collapsed": false
   },
   "outputs": [
    {
     "data": {
      "text/html": [
       "<div>\n",
       "<table border=\"1\" class=\"dataframe\">\n",
       "  <thead>\n",
       "    <tr style=\"text-align: right;\">\n",
       "      <th></th>\n",
       "      <th>Jan_tmax</th>\n",
       "      <th>Feb_tmax</th>\n",
       "      <th>Mar_tmax</th>\n",
       "      <th>Apr_tmax</th>\n",
       "      <th>May_tmax</th>\n",
       "      <th>Jun_tmax</th>\n",
       "      <th>Jul_tmax</th>\n",
       "      <th>Aug_tmax</th>\n",
       "      <th>Sep_tmax</th>\n",
       "      <th>Oct_tmax</th>\n",
       "      <th>...</th>\n",
       "      <th>PRODUCED</th>\n",
       "      <th>BEGIN</th>\n",
       "      <th>TOTSUP</th>\n",
       "      <th>EXPORTS</th>\n",
       "      <th>FEED</th>\n",
       "      <th>FSI</th>\n",
       "      <th>CONS</th>\n",
       "      <th>ENDING</th>\n",
       "      <th>FPRICE</th>\n",
       "      <th>Ethanol</th>\n",
       "    </tr>\n",
       "    <tr>\n",
       "      <th>Year</th>\n",
       "      <th></th>\n",
       "      <th></th>\n",
       "      <th></th>\n",
       "      <th></th>\n",
       "      <th></th>\n",
       "      <th></th>\n",
       "      <th></th>\n",
       "      <th></th>\n",
       "      <th></th>\n",
       "      <th></th>\n",
       "      <th></th>\n",
       "      <th></th>\n",
       "      <th></th>\n",
       "      <th></th>\n",
       "      <th></th>\n",
       "      <th></th>\n",
       "      <th></th>\n",
       "      <th></th>\n",
       "      <th></th>\n",
       "      <th></th>\n",
       "      <th></th>\n",
       "    </tr>\n",
       "  </thead>\n",
       "  <tbody>\n",
       "    <tr>\n",
       "      <th>1980-01-01</th>\n",
       "      <td>304.604651</td>\n",
       "      <td>298.058140</td>\n",
       "      <td>419.250000</td>\n",
       "      <td>611.581395</td>\n",
       "      <td>741.034884</td>\n",
       "      <td>816.360465</td>\n",
       "      <td>894.093023</td>\n",
       "      <td>853.906977</td>\n",
       "      <td>772.098837</td>\n",
       "      <td>613.279070</td>\n",
       "      <td>...</td>\n",
       "      <td>6639.0</td>\n",
       "      <td>2034.0</td>\n",
       "      <td>8675.0</td>\n",
       "      <td>2391.0</td>\n",
       "      <td>4232.0</td>\n",
       "      <td>659.0</td>\n",
       "      <td>7282.0</td>\n",
       "      <td>1392.0</td>\n",
       "      <td>3.12</td>\n",
       "      <td>35.0</td>\n",
       "    </tr>\n",
       "    <tr>\n",
       "      <th>1981-01-01</th>\n",
       "      <td>347.028902</td>\n",
       "      <td>399.289017</td>\n",
       "      <td>513.040462</td>\n",
       "      <td>666.930636</td>\n",
       "      <td>686.184971</td>\n",
       "      <td>818.265896</td>\n",
       "      <td>838.728324</td>\n",
       "      <td>810.294798</td>\n",
       "      <td>749.173410</td>\n",
       "      <td>605.335260</td>\n",
       "      <td>...</td>\n",
       "      <td>8119.0</td>\n",
       "      <td>1392.0</td>\n",
       "      <td>9511.0</td>\n",
       "      <td>1997.0</td>\n",
       "      <td>4245.0</td>\n",
       "      <td>733.0</td>\n",
       "      <td>6975.0</td>\n",
       "      <td>2537.0</td>\n",
       "      <td>2.47</td>\n",
       "      <td>86.0</td>\n",
       "    </tr>\n",
       "    <tr>\n",
       "      <th>1982-01-01</th>\n",
       "      <td>222.075000</td>\n",
       "      <td>319.181250</td>\n",
       "      <td>448.562500</td>\n",
       "      <td>569.743750</td>\n",
       "      <td>738.812500</td>\n",
       "      <td>756.750000</td>\n",
       "      <td>851.362500</td>\n",
       "      <td>811.625000</td>\n",
       "      <td>729.931250</td>\n",
       "      <td>636.381250</td>\n",
       "      <td>...</td>\n",
       "      <td>8235.0</td>\n",
       "      <td>2537.0</td>\n",
       "      <td>10772.0</td>\n",
       "      <td>1821.0</td>\n",
       "      <td>4573.0</td>\n",
       "      <td>855.0</td>\n",
       "      <td>7249.0</td>\n",
       "      <td>3523.0</td>\n",
       "      <td>2.55</td>\n",
       "      <td>140.0</td>\n",
       "    </tr>\n",
       "    <tr>\n",
       "      <th>1983-01-01</th>\n",
       "      <td>325.353659</td>\n",
       "      <td>391.920732</td>\n",
       "      <td>458.615854</td>\n",
       "      <td>535.060976</td>\n",
       "      <td>675.115854</td>\n",
       "      <td>802.621951</td>\n",
       "      <td>890.926829</td>\n",
       "      <td>900.695122</td>\n",
       "      <td>778.585366</td>\n",
       "      <td>626.939024</td>\n",
       "      <td>...</td>\n",
       "      <td>4174.0</td>\n",
       "      <td>3523.0</td>\n",
       "      <td>7699.0</td>\n",
       "      <td>1886.0</td>\n",
       "      <td>3876.0</td>\n",
       "      <td>930.0</td>\n",
       "      <td>6693.0</td>\n",
       "      <td>1006.0</td>\n",
       "      <td>3.21</td>\n",
       "      <td>160.0</td>\n",
       "    </tr>\n",
       "    <tr>\n",
       "      <th>1984-01-01</th>\n",
       "      <td>279.734177</td>\n",
       "      <td>420.525316</td>\n",
       "      <td>386.132911</td>\n",
       "      <td>567.702532</td>\n",
       "      <td>686.575949</td>\n",
       "      <td>824.164557</td>\n",
       "      <td>844.221519</td>\n",
       "      <td>863.170886</td>\n",
       "      <td>731.164557</td>\n",
       "      <td>632.987342</td>\n",
       "      <td>...</td>\n",
       "      <td>7672.0</td>\n",
       "      <td>1006.0</td>\n",
       "      <td>8680.0</td>\n",
       "      <td>1850.0</td>\n",
       "      <td>4115.0</td>\n",
       "      <td>1067.0</td>\n",
       "      <td>7032.0</td>\n",
       "      <td>1648.0</td>\n",
       "      <td>2.63</td>\n",
       "      <td>232.0</td>\n",
       "    </tr>\n",
       "  </tbody>\n",
       "</table>\n",
       "<p>5 rows × 52 columns</p>\n",
       "</div>"
      ],
      "text/plain": [
       "              Jan_tmax    Feb_tmax    Mar_tmax    Apr_tmax    May_tmax  \\\n",
       "Year                                                                     \n",
       "1980-01-01  304.604651  298.058140  419.250000  611.581395  741.034884   \n",
       "1981-01-01  347.028902  399.289017  513.040462  666.930636  686.184971   \n",
       "1982-01-01  222.075000  319.181250  448.562500  569.743750  738.812500   \n",
       "1983-01-01  325.353659  391.920732  458.615854  535.060976  675.115854   \n",
       "1984-01-01  279.734177  420.525316  386.132911  567.702532  686.575949   \n",
       "\n",
       "              Jun_tmax    Jul_tmax    Aug_tmax    Sep_tmax    Oct_tmax  \\\n",
       "Year                                                                     \n",
       "1980-01-01  816.360465  894.093023  853.906977  772.098837  613.279070   \n",
       "1981-01-01  818.265896  838.728324  810.294798  749.173410  605.335260   \n",
       "1982-01-01  756.750000  851.362500  811.625000  729.931250  636.381250   \n",
       "1983-01-01  802.621951  890.926829  900.695122  778.585366  626.939024   \n",
       "1984-01-01  824.164557  844.221519  863.170886  731.164557  632.987342   \n",
       "\n",
       "             ...     PRODUCED   BEGIN   TOTSUP  EXPORTS    FEED     FSI  \\\n",
       "Year         ...                                                          \n",
       "1980-01-01   ...       6639.0  2034.0   8675.0   2391.0  4232.0   659.0   \n",
       "1981-01-01   ...       8119.0  1392.0   9511.0   1997.0  4245.0   733.0   \n",
       "1982-01-01   ...       8235.0  2537.0  10772.0   1821.0  4573.0   855.0   \n",
       "1983-01-01   ...       4174.0  3523.0   7699.0   1886.0  3876.0   930.0   \n",
       "1984-01-01   ...       7672.0  1006.0   8680.0   1850.0  4115.0  1067.0   \n",
       "\n",
       "              CONS  ENDING  FPRICE  Ethanol  \n",
       "Year                                         \n",
       "1980-01-01  7282.0  1392.0    3.12     35.0  \n",
       "1981-01-01  6975.0  2537.0    2.47     86.0  \n",
       "1982-01-01  7249.0  3523.0    2.55    140.0  \n",
       "1983-01-01  6693.0  1006.0    3.21    160.0  \n",
       "1984-01-01  7032.0  1648.0    2.63    232.0  \n",
       "\n",
       "[5 rows x 52 columns]"
      ]
     },
     "execution_count": 162,
     "metadata": {},
     "output_type": "execute_result"
    }
   ],
   "source": [
    "corn.head()"
   ]
  },
  {
   "cell_type": "markdown",
   "metadata": {},
   "source": [
    "Verfiy that were now working with a timeseries index"
   ]
  },
  {
   "cell_type": "code",
   "execution_count": 163,
   "metadata": {
    "collapsed": false
   },
   "outputs": [
    {
     "data": {
      "text/plain": [
       "pandas.tseries.index.DatetimeIndex"
      ]
     },
     "execution_count": 163,
     "metadata": {},
     "output_type": "execute_result"
    }
   ],
   "source": [
    "type(corn.index)"
   ]
  },
  {
   "cell_type": "code",
   "execution_count": 164,
   "metadata": {
    "collapsed": false
   },
   "outputs": [
    {
     "name": "stdout",
     "output_type": "stream",
     "text": [
      "<class 'pandas.core.frame.DataFrame'>\n",
      "DatetimeIndex: 35 entries, 1980-01-01 to 2014-01-01\n",
      "Data columns (total 52 columns):\n",
      "Jan_tmax          35 non-null float64\n",
      "Feb_tmax          35 non-null float64\n",
      "Mar_tmax          35 non-null float64\n",
      "Apr_tmax          35 non-null float64\n",
      "May_tmax          35 non-null float64\n",
      "Jun_tmax          35 non-null float64\n",
      "Jul_tmax          35 non-null float64\n",
      "Aug_tmax          35 non-null float64\n",
      "Sep_tmax          35 non-null float64\n",
      "Oct_tmax          35 non-null float64\n",
      "Nov_tmax          35 non-null float64\n",
      "Dec_tmax          35 non-null float64\n",
      "Avg/Total_tmax    35 non-null float64\n",
      "Jan_tmin          35 non-null float64\n",
      "Feb_tmin          35 non-null float64\n",
      "Mar_tmin          35 non-null float64\n",
      "Apr_tmin          35 non-null float64\n",
      "May_tmin          35 non-null float64\n",
      "Jun_tmin          35 non-null float64\n",
      "Jul_tmin          35 non-null float64\n",
      "Aug_tmin          35 non-null float64\n",
      "Sep_tmin          35 non-null float64\n",
      "Oct_tmin          35 non-null float64\n",
      "Nov_tmin          35 non-null float64\n",
      "Dec_tmin          35 non-null float64\n",
      "Avg/Total_tmin    35 non-null float64\n",
      "Jan_pr            35 non-null float64\n",
      "Feb_pr            35 non-null float64\n",
      "Mar_pr            35 non-null float64\n",
      "Apr_pr            35 non-null float64\n",
      "May_pr            35 non-null float64\n",
      "Jun_pr            35 non-null float64\n",
      "Jul_pr            35 non-null float64\n",
      "Aug_pr            35 non-null float64\n",
      "Sep_pr            35 non-null float64\n",
      "Oct_pr            35 non-null float64\n",
      "Nov_pr            35 non-null float64\n",
      "Dec_pr            35 non-null float64\n",
      "Avg/Total_pr      35 non-null float64\n",
      "PLANTED           35 non-null float64\n",
      "HARVEST           35 non-null float64\n",
      "YIELD             35 non-null float64\n",
      "PRODUCED          35 non-null float64\n",
      "BEGIN             35 non-null float64\n",
      "TOTSUP            35 non-null float64\n",
      "EXPORTS           35 non-null float64\n",
      "FEED              35 non-null float64\n",
      "FSI               35 non-null float64\n",
      "CONS              35 non-null float64\n",
      "ENDING            35 non-null float64\n",
      "FPRICE            35 non-null float64\n",
      "Ethanol           35 non-null float64\n",
      "dtypes: float64(52)\n",
      "memory usage: 14.5 KB\n"
     ]
    }
   ],
   "source": [
    "corn.info()"
   ]
  },
  {
   "cell_type": "markdown",
   "metadata": {},
   "source": [
    "### Standardizing the feature columns within the corn dataframe"
   ]
  },
  {
   "cell_type": "markdown",
   "metadata": {},
   "source": [
    "Import StandardScaler from Scikitlearn"
   ]
  },
  {
   "cell_type": "code",
   "execution_count": 165,
   "metadata": {
    "collapsed": true
   },
   "outputs": [],
   "source": [
    "from sklearn.preprocessing import StandardScaler"
   ]
  },
  {
   "cell_type": "markdown",
   "metadata": {},
   "source": [
    "Create a StandardScaler() object called scaler"
   ]
  },
  {
   "cell_type": "code",
   "execution_count": 166,
   "metadata": {
    "collapsed": true
   },
   "outputs": [],
   "source": [
    "scaler = StandardScaler()"
   ]
  },
  {
   "cell_type": "markdown",
   "metadata": {},
   "source": [
    "Fit scaler to the features"
   ]
  },
  {
   "cell_type": "code",
   "execution_count": 167,
   "metadata": {
    "collapsed": false
   },
   "outputs": [
    {
     "data": {
      "text/plain": [
       "StandardScaler(copy=True, with_mean=True, with_std=True)"
      ]
     },
     "execution_count": 167,
     "metadata": {},
     "output_type": "execute_result"
    }
   ],
   "source": [
    "scaler.fit(corn.drop('FPRICE', axis=1))"
   ]
  },
  {
   "cell_type": "markdown",
   "metadata": {},
   "source": [
    "Use the `.transform()` method to to transform the features to a scaled version"
   ]
  },
  {
   "cell_type": "code",
   "execution_count": 168,
   "metadata": {
    "collapsed": false
   },
   "outputs": [],
   "source": [
    "scaled_features = scaler.transform(corn.drop('FPRICE', axis=1))"
   ]
  },
  {
   "cell_type": "markdown",
   "metadata": {},
   "source": [
    "Check out the scaled_features matrix"
   ]
  },
  {
   "cell_type": "code",
   "execution_count": 169,
   "metadata": {
    "collapsed": false
   },
   "outputs": [
    {
     "data": {
      "text/plain": [
       "array([[-0.26156849, -1.20877877, -1.27155066, ..., -1.03205732,\n",
       "        -0.37630039, -0.81849771],\n",
       "       [ 0.59875655,  0.69404477,  0.67393433, ..., -1.17526904,\n",
       "         0.78945703, -0.78946075],\n",
       "       [-1.93519441, -0.81173043, -0.66352478, ..., -1.04745142,\n",
       "         1.79333198, -0.75871573],\n",
       "       ..., \n",
       "       [ 1.44096928,  0.82981423,  3.32171282, ...,  0.74106231,\n",
       "        -0.9576519 ,  1.80401101],\n",
       "       [ 0.51445838, -0.22055481, -1.49345807, ...,  1.84710458,\n",
       "        -0.53920099,  2.07875933],\n",
       "       [-0.53291587, -1.66234984, -0.88461284, ...,  1.98425196,\n",
       "        -0.03115474,  2.12225784]])"
      ]
     },
     "execution_count": 169,
     "metadata": {},
     "output_type": "execute_result"
    }
   ],
   "source": [
    "scaled_features"
   ]
  },
  {
   "cell_type": "markdown",
   "metadata": {},
   "source": [
    "Convert scaled_features to a dataframe and check the head"
   ]
  },
  {
   "cell_type": "code",
   "execution_count": 170,
   "metadata": {
    "collapsed": false
   },
   "outputs": [],
   "source": [
    "cs = pd.DataFrame(scaled_features, columns=corn.drop('FPRICE', axis=1).columns)"
   ]
  },
  {
   "cell_type": "code",
   "execution_count": 171,
   "metadata": {
    "collapsed": false
   },
   "outputs": [
    {
     "data": {
      "text/html": [
       "<div>\n",
       "<table border=\"1\" class=\"dataframe\">\n",
       "  <thead>\n",
       "    <tr style=\"text-align: right;\">\n",
       "      <th></th>\n",
       "      <th>Jan_tmax</th>\n",
       "      <th>Feb_tmax</th>\n",
       "      <th>Mar_tmax</th>\n",
       "      <th>Apr_tmax</th>\n",
       "      <th>May_tmax</th>\n",
       "      <th>Jun_tmax</th>\n",
       "      <th>Jul_tmax</th>\n",
       "      <th>Aug_tmax</th>\n",
       "      <th>Sep_tmax</th>\n",
       "      <th>Oct_tmax</th>\n",
       "      <th>...</th>\n",
       "      <th>YIELD</th>\n",
       "      <th>PRODUCED</th>\n",
       "      <th>BEGIN</th>\n",
       "      <th>TOTSUP</th>\n",
       "      <th>EXPORTS</th>\n",
       "      <th>FEED</th>\n",
       "      <th>FSI</th>\n",
       "      <th>CONS</th>\n",
       "      <th>ENDING</th>\n",
       "      <th>Ethanol</th>\n",
       "    </tr>\n",
       "  </thead>\n",
       "  <tbody>\n",
       "    <tr>\n",
       "      <th>0</th>\n",
       "      <td>-0.261568</td>\n",
       "      <td>-1.208779</td>\n",
       "      <td>-1.271551</td>\n",
       "      <td>-0.053803</td>\n",
       "      <td>0.672712</td>\n",
       "      <td>0.240736</td>\n",
       "      <td>1.489350</td>\n",
       "      <td>0.789751</td>\n",
       "      <td>0.541470</td>\n",
       "      <td>-0.622868</td>\n",
       "      <td>...</td>\n",
       "      <td>-1.728805</td>\n",
       "      <td>-1.190893</td>\n",
       "      <td>0.268244</td>\n",
       "      <td>-1.269583</td>\n",
       "      <td>1.664195</td>\n",
       "      <td>-1.206803</td>\n",
       "      <td>-1.043144</td>\n",
       "      <td>-1.032057</td>\n",
       "      <td>-0.376300</td>\n",
       "      <td>-0.818498</td>\n",
       "    </tr>\n",
       "    <tr>\n",
       "      <th>1</th>\n",
       "      <td>0.598757</td>\n",
       "      <td>0.694045</td>\n",
       "      <td>0.673934</td>\n",
       "      <td>1.498129</td>\n",
       "      <td>-1.093146</td>\n",
       "      <td>0.320190</td>\n",
       "      <td>-0.459213</td>\n",
       "      <td>-0.831874</td>\n",
       "      <td>-0.332024</td>\n",
       "      <td>-0.901915</td>\n",
       "      <td>...</td>\n",
       "      <td>-0.915242</td>\n",
       "      <td>-0.568289</td>\n",
       "      <td>-0.384712</td>\n",
       "      <td>-0.858376</td>\n",
       "      <td>0.482341</td>\n",
       "      <td>-1.186625</td>\n",
       "      <td>-1.004344</td>\n",
       "      <td>-1.175269</td>\n",
       "      <td>0.789457</td>\n",
       "      <td>-0.789461</td>\n",
       "    </tr>\n",
       "    <tr>\n",
       "      <th>2</th>\n",
       "      <td>-1.935194</td>\n",
       "      <td>-0.811730</td>\n",
       "      <td>-0.663525</td>\n",
       "      <td>-1.226884</td>\n",
       "      <td>0.601164</td>\n",
       "      <td>-2.244956</td>\n",
       "      <td>-0.014553</td>\n",
       "      <td>-0.782413</td>\n",
       "      <td>-1.065179</td>\n",
       "      <td>0.188657</td>\n",
       "      <td>...</td>\n",
       "      <td>-0.719805</td>\n",
       "      <td>-0.519490</td>\n",
       "      <td>0.779828</td>\n",
       "      <td>-0.238123</td>\n",
       "      <td>-0.045594</td>\n",
       "      <td>-0.677527</td>\n",
       "      <td>-0.940378</td>\n",
       "      <td>-1.047451</td>\n",
       "      <td>1.793332</td>\n",
       "      <td>-0.758716</td>\n",
       "    </tr>\n",
       "    <tr>\n",
       "      <th>3</th>\n",
       "      <td>0.159202</td>\n",
       "      <td>0.555544</td>\n",
       "      <td>-0.454989</td>\n",
       "      <td>-2.199351</td>\n",
       "      <td>-1.449509</td>\n",
       "      <td>-0.332145</td>\n",
       "      <td>1.377915</td>\n",
       "      <td>2.529468</td>\n",
       "      <td>0.788616</td>\n",
       "      <td>-0.143026</td>\n",
       "      <td>...</td>\n",
       "      <td>-2.178764</td>\n",
       "      <td>-2.227866</td>\n",
       "      <td>1.782654</td>\n",
       "      <td>-1.749652</td>\n",
       "      <td>0.149382</td>\n",
       "      <td>-1.759361</td>\n",
       "      <td>-0.901055</td>\n",
       "      <td>-1.306819</td>\n",
       "      <td>-0.769298</td>\n",
       "      <td>-0.747329</td>\n",
       "    </tr>\n",
       "    <tr>\n",
       "      <th>4</th>\n",
       "      <td>-0.765919</td>\n",
       "      <td>1.093221</td>\n",
       "      <td>-1.958495</td>\n",
       "      <td>-1.284118</td>\n",
       "      <td>-1.080558</td>\n",
       "      <td>0.566158</td>\n",
       "      <td>-0.265880</td>\n",
       "      <td>1.134210</td>\n",
       "      <td>-1.018188</td>\n",
       "      <td>0.069437</td>\n",
       "      <td>...</td>\n",
       "      <td>-1.015233</td>\n",
       "      <td>-0.756332</td>\n",
       "      <td>-0.777299</td>\n",
       "      <td>-1.267123</td>\n",
       "      <td>0.041395</td>\n",
       "      <td>-1.388402</td>\n",
       "      <td>-0.829224</td>\n",
       "      <td>-1.148679</td>\n",
       "      <td>-0.115659</td>\n",
       "      <td>-0.706335</td>\n",
       "    </tr>\n",
       "  </tbody>\n",
       "</table>\n",
       "<p>5 rows × 51 columns</p>\n",
       "</div>"
      ],
      "text/plain": [
       "   Jan_tmax  Feb_tmax  Mar_tmax  Apr_tmax  May_tmax  Jun_tmax  Jul_tmax  \\\n",
       "0 -0.261568 -1.208779 -1.271551 -0.053803  0.672712  0.240736  1.489350   \n",
       "1  0.598757  0.694045  0.673934  1.498129 -1.093146  0.320190 -0.459213   \n",
       "2 -1.935194 -0.811730 -0.663525 -1.226884  0.601164 -2.244956 -0.014553   \n",
       "3  0.159202  0.555544 -0.454989 -2.199351 -1.449509 -0.332145  1.377915   \n",
       "4 -0.765919  1.093221 -1.958495 -1.284118 -1.080558  0.566158 -0.265880   \n",
       "\n",
       "   Aug_tmax  Sep_tmax  Oct_tmax    ...        YIELD  PRODUCED     BEGIN  \\\n",
       "0  0.789751  0.541470 -0.622868    ...    -1.728805 -1.190893  0.268244   \n",
       "1 -0.831874 -0.332024 -0.901915    ...    -0.915242 -0.568289 -0.384712   \n",
       "2 -0.782413 -1.065179  0.188657    ...    -0.719805 -0.519490  0.779828   \n",
       "3  2.529468  0.788616 -0.143026    ...    -2.178764 -2.227866  1.782654   \n",
       "4  1.134210 -1.018188  0.069437    ...    -1.015233 -0.756332 -0.777299   \n",
       "\n",
       "     TOTSUP   EXPORTS      FEED       FSI      CONS    ENDING   Ethanol  \n",
       "0 -1.269583  1.664195 -1.206803 -1.043144 -1.032057 -0.376300 -0.818498  \n",
       "1 -0.858376  0.482341 -1.186625 -1.004344 -1.175269  0.789457 -0.789461  \n",
       "2 -0.238123 -0.045594 -0.677527 -0.940378 -1.047451  1.793332 -0.758716  \n",
       "3 -1.749652  0.149382 -1.759361 -0.901055 -1.306819 -0.769298 -0.747329  \n",
       "4 -1.267123  0.041395 -1.388402 -0.829224 -1.148679 -0.115659 -0.706335  \n",
       "\n",
       "[5 rows x 51 columns]"
      ]
     },
     "execution_count": 171,
     "metadata": {},
     "output_type": "execute_result"
    }
   ],
   "source": [
    "cs.head()"
   ]
  },
  {
   "cell_type": "markdown",
   "metadata": {},
   "source": [
    "Call the `.set_index()` method to persist the corn.index"
   ]
  },
  {
   "cell_type": "code",
   "execution_count": 172,
   "metadata": {
    "collapsed": false
   },
   "outputs": [],
   "source": [
    "cs = cs.set_index(corn.index)"
   ]
  },
  {
   "cell_type": "code",
   "execution_count": 173,
   "metadata": {
    "collapsed": false
   },
   "outputs": [
    {
     "data": {
      "text/html": [
       "<div>\n",
       "<table border=\"1\" class=\"dataframe\">\n",
       "  <thead>\n",
       "    <tr style=\"text-align: right;\">\n",
       "      <th></th>\n",
       "      <th>Jan_tmax</th>\n",
       "      <th>Feb_tmax</th>\n",
       "      <th>Mar_tmax</th>\n",
       "      <th>Apr_tmax</th>\n",
       "      <th>May_tmax</th>\n",
       "      <th>Jun_tmax</th>\n",
       "      <th>Jul_tmax</th>\n",
       "      <th>Aug_tmax</th>\n",
       "      <th>Sep_tmax</th>\n",
       "      <th>Oct_tmax</th>\n",
       "      <th>...</th>\n",
       "      <th>YIELD</th>\n",
       "      <th>PRODUCED</th>\n",
       "      <th>BEGIN</th>\n",
       "      <th>TOTSUP</th>\n",
       "      <th>EXPORTS</th>\n",
       "      <th>FEED</th>\n",
       "      <th>FSI</th>\n",
       "      <th>CONS</th>\n",
       "      <th>ENDING</th>\n",
       "      <th>Ethanol</th>\n",
       "    </tr>\n",
       "    <tr>\n",
       "      <th>Year</th>\n",
       "      <th></th>\n",
       "      <th></th>\n",
       "      <th></th>\n",
       "      <th></th>\n",
       "      <th></th>\n",
       "      <th></th>\n",
       "      <th></th>\n",
       "      <th></th>\n",
       "      <th></th>\n",
       "      <th></th>\n",
       "      <th></th>\n",
       "      <th></th>\n",
       "      <th></th>\n",
       "      <th></th>\n",
       "      <th></th>\n",
       "      <th></th>\n",
       "      <th></th>\n",
       "      <th></th>\n",
       "      <th></th>\n",
       "      <th></th>\n",
       "      <th></th>\n",
       "    </tr>\n",
       "  </thead>\n",
       "  <tbody>\n",
       "    <tr>\n",
       "      <th>1980-01-01</th>\n",
       "      <td>-0.261568</td>\n",
       "      <td>-1.208779</td>\n",
       "      <td>-1.271551</td>\n",
       "      <td>-0.053803</td>\n",
       "      <td>0.672712</td>\n",
       "      <td>0.240736</td>\n",
       "      <td>1.489350</td>\n",
       "      <td>0.789751</td>\n",
       "      <td>0.541470</td>\n",
       "      <td>-0.622868</td>\n",
       "      <td>...</td>\n",
       "      <td>-1.728805</td>\n",
       "      <td>-1.190893</td>\n",
       "      <td>0.268244</td>\n",
       "      <td>-1.269583</td>\n",
       "      <td>1.664195</td>\n",
       "      <td>-1.206803</td>\n",
       "      <td>-1.043144</td>\n",
       "      <td>-1.032057</td>\n",
       "      <td>-0.376300</td>\n",
       "      <td>-0.818498</td>\n",
       "    </tr>\n",
       "    <tr>\n",
       "      <th>1981-01-01</th>\n",
       "      <td>0.598757</td>\n",
       "      <td>0.694045</td>\n",
       "      <td>0.673934</td>\n",
       "      <td>1.498129</td>\n",
       "      <td>-1.093146</td>\n",
       "      <td>0.320190</td>\n",
       "      <td>-0.459213</td>\n",
       "      <td>-0.831874</td>\n",
       "      <td>-0.332024</td>\n",
       "      <td>-0.901915</td>\n",
       "      <td>...</td>\n",
       "      <td>-0.915242</td>\n",
       "      <td>-0.568289</td>\n",
       "      <td>-0.384712</td>\n",
       "      <td>-0.858376</td>\n",
       "      <td>0.482341</td>\n",
       "      <td>-1.186625</td>\n",
       "      <td>-1.004344</td>\n",
       "      <td>-1.175269</td>\n",
       "      <td>0.789457</td>\n",
       "      <td>-0.789461</td>\n",
       "    </tr>\n",
       "    <tr>\n",
       "      <th>1982-01-01</th>\n",
       "      <td>-1.935194</td>\n",
       "      <td>-0.811730</td>\n",
       "      <td>-0.663525</td>\n",
       "      <td>-1.226884</td>\n",
       "      <td>0.601164</td>\n",
       "      <td>-2.244956</td>\n",
       "      <td>-0.014553</td>\n",
       "      <td>-0.782413</td>\n",
       "      <td>-1.065179</td>\n",
       "      <td>0.188657</td>\n",
       "      <td>...</td>\n",
       "      <td>-0.719805</td>\n",
       "      <td>-0.519490</td>\n",
       "      <td>0.779828</td>\n",
       "      <td>-0.238123</td>\n",
       "      <td>-0.045594</td>\n",
       "      <td>-0.677527</td>\n",
       "      <td>-0.940378</td>\n",
       "      <td>-1.047451</td>\n",
       "      <td>1.793332</td>\n",
       "      <td>-0.758716</td>\n",
       "    </tr>\n",
       "    <tr>\n",
       "      <th>1983-01-01</th>\n",
       "      <td>0.159202</td>\n",
       "      <td>0.555544</td>\n",
       "      <td>-0.454989</td>\n",
       "      <td>-2.199351</td>\n",
       "      <td>-1.449509</td>\n",
       "      <td>-0.332145</td>\n",
       "      <td>1.377915</td>\n",
       "      <td>2.529468</td>\n",
       "      <td>0.788616</td>\n",
       "      <td>-0.143026</td>\n",
       "      <td>...</td>\n",
       "      <td>-2.178764</td>\n",
       "      <td>-2.227866</td>\n",
       "      <td>1.782654</td>\n",
       "      <td>-1.749652</td>\n",
       "      <td>0.149382</td>\n",
       "      <td>-1.759361</td>\n",
       "      <td>-0.901055</td>\n",
       "      <td>-1.306819</td>\n",
       "      <td>-0.769298</td>\n",
       "      <td>-0.747329</td>\n",
       "    </tr>\n",
       "    <tr>\n",
       "      <th>1984-01-01</th>\n",
       "      <td>-0.765919</td>\n",
       "      <td>1.093221</td>\n",
       "      <td>-1.958495</td>\n",
       "      <td>-1.284118</td>\n",
       "      <td>-1.080558</td>\n",
       "      <td>0.566158</td>\n",
       "      <td>-0.265880</td>\n",
       "      <td>1.134210</td>\n",
       "      <td>-1.018188</td>\n",
       "      <td>0.069437</td>\n",
       "      <td>...</td>\n",
       "      <td>-1.015233</td>\n",
       "      <td>-0.756332</td>\n",
       "      <td>-0.777299</td>\n",
       "      <td>-1.267123</td>\n",
       "      <td>0.041395</td>\n",
       "      <td>-1.388402</td>\n",
       "      <td>-0.829224</td>\n",
       "      <td>-1.148679</td>\n",
       "      <td>-0.115659</td>\n",
       "      <td>-0.706335</td>\n",
       "    </tr>\n",
       "  </tbody>\n",
       "</table>\n",
       "<p>5 rows × 51 columns</p>\n",
       "</div>"
      ],
      "text/plain": [
       "            Jan_tmax  Feb_tmax  Mar_tmax  Apr_tmax  May_tmax  Jun_tmax  \\\n",
       "Year                                                                     \n",
       "1980-01-01 -0.261568 -1.208779 -1.271551 -0.053803  0.672712  0.240736   \n",
       "1981-01-01  0.598757  0.694045  0.673934  1.498129 -1.093146  0.320190   \n",
       "1982-01-01 -1.935194 -0.811730 -0.663525 -1.226884  0.601164 -2.244956   \n",
       "1983-01-01  0.159202  0.555544 -0.454989 -2.199351 -1.449509 -0.332145   \n",
       "1984-01-01 -0.765919  1.093221 -1.958495 -1.284118 -1.080558  0.566158   \n",
       "\n",
       "            Jul_tmax  Aug_tmax  Sep_tmax  Oct_tmax    ...        YIELD  \\\n",
       "Year                                                  ...                \n",
       "1980-01-01  1.489350  0.789751  0.541470 -0.622868    ...    -1.728805   \n",
       "1981-01-01 -0.459213 -0.831874 -0.332024 -0.901915    ...    -0.915242   \n",
       "1982-01-01 -0.014553 -0.782413 -1.065179  0.188657    ...    -0.719805   \n",
       "1983-01-01  1.377915  2.529468  0.788616 -0.143026    ...    -2.178764   \n",
       "1984-01-01 -0.265880  1.134210 -1.018188  0.069437    ...    -1.015233   \n",
       "\n",
       "            PRODUCED     BEGIN    TOTSUP   EXPORTS      FEED       FSI  \\\n",
       "Year                                                                     \n",
       "1980-01-01 -1.190893  0.268244 -1.269583  1.664195 -1.206803 -1.043144   \n",
       "1981-01-01 -0.568289 -0.384712 -0.858376  0.482341 -1.186625 -1.004344   \n",
       "1982-01-01 -0.519490  0.779828 -0.238123 -0.045594 -0.677527 -0.940378   \n",
       "1983-01-01 -2.227866  1.782654 -1.749652  0.149382 -1.759361 -0.901055   \n",
       "1984-01-01 -0.756332 -0.777299 -1.267123  0.041395 -1.388402 -0.829224   \n",
       "\n",
       "                CONS    ENDING   Ethanol  \n",
       "Year                                      \n",
       "1980-01-01 -1.032057 -0.376300 -0.818498  \n",
       "1981-01-01 -1.175269  0.789457 -0.789461  \n",
       "1982-01-01 -1.047451  1.793332 -0.758716  \n",
       "1983-01-01 -1.306819 -0.769298 -0.747329  \n",
       "1984-01-01 -1.148679 -0.115659 -0.706335  \n",
       "\n",
       "[5 rows x 51 columns]"
      ]
     },
     "execution_count": 173,
     "metadata": {},
     "output_type": "execute_result"
    }
   ],
   "source": [
    "cs.head()"
   ]
  },
  {
   "cell_type": "markdown",
   "metadata": {},
   "source": [
    "** Reattach the FPRICE column **"
   ]
  },
  {
   "cell_type": "markdown",
   "metadata": {},
   "source": [
    "To make this operation a bit simpler, we will assign the 'FPRICE' to its own dataframe (fp)"
   ]
  },
  {
   "cell_type": "code",
   "execution_count": 174,
   "metadata": {
    "collapsed": true
   },
   "outputs": [],
   "source": [
    "fp = corn[['FPRICE']]"
   ]
  },
  {
   "cell_type": "code",
   "execution_count": 175,
   "metadata": {
    "collapsed": false
   },
   "outputs": [
    {
     "data": {
      "text/html": [
       "<div>\n",
       "<table border=\"1\" class=\"dataframe\">\n",
       "  <thead>\n",
       "    <tr style=\"text-align: right;\">\n",
       "      <th></th>\n",
       "      <th>FPRICE</th>\n",
       "    </tr>\n",
       "    <tr>\n",
       "      <th>Year</th>\n",
       "      <th></th>\n",
       "    </tr>\n",
       "  </thead>\n",
       "  <tbody>\n",
       "    <tr>\n",
       "      <th>1980-01-01</th>\n",
       "      <td>3.12</td>\n",
       "    </tr>\n",
       "    <tr>\n",
       "      <th>1981-01-01</th>\n",
       "      <td>2.47</td>\n",
       "    </tr>\n",
       "    <tr>\n",
       "      <th>1982-01-01</th>\n",
       "      <td>2.55</td>\n",
       "    </tr>\n",
       "    <tr>\n",
       "      <th>1983-01-01</th>\n",
       "      <td>3.21</td>\n",
       "    </tr>\n",
       "    <tr>\n",
       "      <th>1984-01-01</th>\n",
       "      <td>2.63</td>\n",
       "    </tr>\n",
       "  </tbody>\n",
       "</table>\n",
       "</div>"
      ],
      "text/plain": [
       "            FPRICE\n",
       "Year              \n",
       "1980-01-01    3.12\n",
       "1981-01-01    2.47\n",
       "1982-01-01    2.55\n",
       "1983-01-01    3.21\n",
       "1984-01-01    2.63"
      ]
     },
     "execution_count": 175,
     "metadata": {},
     "output_type": "execute_result"
    }
   ],
   "source": [
    "fp.head()"
   ]
  },
  {
   "cell_type": "code",
   "execution_count": 184,
   "metadata": {
    "collapsed": false
   },
   "outputs": [],
   "source": [
    "cs = cs.merge(fp,left_index=True, right_index=True)"
   ]
  },
  {
   "cell_type": "code",
   "execution_count": 185,
   "metadata": {
    "collapsed": false
   },
   "outputs": [
    {
     "data": {
      "text/html": [
       "<div>\n",
       "<table border=\"1\" class=\"dataframe\">\n",
       "  <thead>\n",
       "    <tr style=\"text-align: right;\">\n",
       "      <th></th>\n",
       "      <th>Jan_tmax</th>\n",
       "      <th>Feb_tmax</th>\n",
       "      <th>Mar_tmax</th>\n",
       "      <th>Apr_tmax</th>\n",
       "      <th>May_tmax</th>\n",
       "      <th>Jun_tmax</th>\n",
       "      <th>Jul_tmax</th>\n",
       "      <th>Aug_tmax</th>\n",
       "      <th>Sep_tmax</th>\n",
       "      <th>Oct_tmax</th>\n",
       "      <th>...</th>\n",
       "      <th>PRODUCED</th>\n",
       "      <th>BEGIN</th>\n",
       "      <th>TOTSUP</th>\n",
       "      <th>EXPORTS</th>\n",
       "      <th>FEED</th>\n",
       "      <th>FSI</th>\n",
       "      <th>CONS</th>\n",
       "      <th>ENDING</th>\n",
       "      <th>Ethanol</th>\n",
       "      <th>FPRICE</th>\n",
       "    </tr>\n",
       "    <tr>\n",
       "      <th>Year</th>\n",
       "      <th></th>\n",
       "      <th></th>\n",
       "      <th></th>\n",
       "      <th></th>\n",
       "      <th></th>\n",
       "      <th></th>\n",
       "      <th></th>\n",
       "      <th></th>\n",
       "      <th></th>\n",
       "      <th></th>\n",
       "      <th></th>\n",
       "      <th></th>\n",
       "      <th></th>\n",
       "      <th></th>\n",
       "      <th></th>\n",
       "      <th></th>\n",
       "      <th></th>\n",
       "      <th></th>\n",
       "      <th></th>\n",
       "      <th></th>\n",
       "      <th></th>\n",
       "    </tr>\n",
       "  </thead>\n",
       "  <tbody>\n",
       "    <tr>\n",
       "      <th>1980-01-01</th>\n",
       "      <td>-0.261568</td>\n",
       "      <td>-1.208779</td>\n",
       "      <td>-1.271551</td>\n",
       "      <td>-0.053803</td>\n",
       "      <td>0.672712</td>\n",
       "      <td>0.240736</td>\n",
       "      <td>1.489350</td>\n",
       "      <td>0.789751</td>\n",
       "      <td>0.541470</td>\n",
       "      <td>-0.622868</td>\n",
       "      <td>...</td>\n",
       "      <td>-1.190893</td>\n",
       "      <td>0.268244</td>\n",
       "      <td>-1.269583</td>\n",
       "      <td>1.664195</td>\n",
       "      <td>-1.206803</td>\n",
       "      <td>-1.043144</td>\n",
       "      <td>-1.032057</td>\n",
       "      <td>-0.376300</td>\n",
       "      <td>-0.818498</td>\n",
       "      <td>3.12</td>\n",
       "    </tr>\n",
       "    <tr>\n",
       "      <th>1981-01-01</th>\n",
       "      <td>0.598757</td>\n",
       "      <td>0.694045</td>\n",
       "      <td>0.673934</td>\n",
       "      <td>1.498129</td>\n",
       "      <td>-1.093146</td>\n",
       "      <td>0.320190</td>\n",
       "      <td>-0.459213</td>\n",
       "      <td>-0.831874</td>\n",
       "      <td>-0.332024</td>\n",
       "      <td>-0.901915</td>\n",
       "      <td>...</td>\n",
       "      <td>-0.568289</td>\n",
       "      <td>-0.384712</td>\n",
       "      <td>-0.858376</td>\n",
       "      <td>0.482341</td>\n",
       "      <td>-1.186625</td>\n",
       "      <td>-1.004344</td>\n",
       "      <td>-1.175269</td>\n",
       "      <td>0.789457</td>\n",
       "      <td>-0.789461</td>\n",
       "      <td>2.47</td>\n",
       "    </tr>\n",
       "    <tr>\n",
       "      <th>1982-01-01</th>\n",
       "      <td>-1.935194</td>\n",
       "      <td>-0.811730</td>\n",
       "      <td>-0.663525</td>\n",
       "      <td>-1.226884</td>\n",
       "      <td>0.601164</td>\n",
       "      <td>-2.244956</td>\n",
       "      <td>-0.014553</td>\n",
       "      <td>-0.782413</td>\n",
       "      <td>-1.065179</td>\n",
       "      <td>0.188657</td>\n",
       "      <td>...</td>\n",
       "      <td>-0.519490</td>\n",
       "      <td>0.779828</td>\n",
       "      <td>-0.238123</td>\n",
       "      <td>-0.045594</td>\n",
       "      <td>-0.677527</td>\n",
       "      <td>-0.940378</td>\n",
       "      <td>-1.047451</td>\n",
       "      <td>1.793332</td>\n",
       "      <td>-0.758716</td>\n",
       "      <td>2.55</td>\n",
       "    </tr>\n",
       "    <tr>\n",
       "      <th>1983-01-01</th>\n",
       "      <td>0.159202</td>\n",
       "      <td>0.555544</td>\n",
       "      <td>-0.454989</td>\n",
       "      <td>-2.199351</td>\n",
       "      <td>-1.449509</td>\n",
       "      <td>-0.332145</td>\n",
       "      <td>1.377915</td>\n",
       "      <td>2.529468</td>\n",
       "      <td>0.788616</td>\n",
       "      <td>-0.143026</td>\n",
       "      <td>...</td>\n",
       "      <td>-2.227866</td>\n",
       "      <td>1.782654</td>\n",
       "      <td>-1.749652</td>\n",
       "      <td>0.149382</td>\n",
       "      <td>-1.759361</td>\n",
       "      <td>-0.901055</td>\n",
       "      <td>-1.306819</td>\n",
       "      <td>-0.769298</td>\n",
       "      <td>-0.747329</td>\n",
       "      <td>3.21</td>\n",
       "    </tr>\n",
       "    <tr>\n",
       "      <th>1984-01-01</th>\n",
       "      <td>-0.765919</td>\n",
       "      <td>1.093221</td>\n",
       "      <td>-1.958495</td>\n",
       "      <td>-1.284118</td>\n",
       "      <td>-1.080558</td>\n",
       "      <td>0.566158</td>\n",
       "      <td>-0.265880</td>\n",
       "      <td>1.134210</td>\n",
       "      <td>-1.018188</td>\n",
       "      <td>0.069437</td>\n",
       "      <td>...</td>\n",
       "      <td>-0.756332</td>\n",
       "      <td>-0.777299</td>\n",
       "      <td>-1.267123</td>\n",
       "      <td>0.041395</td>\n",
       "      <td>-1.388402</td>\n",
       "      <td>-0.829224</td>\n",
       "      <td>-1.148679</td>\n",
       "      <td>-0.115659</td>\n",
       "      <td>-0.706335</td>\n",
       "      <td>2.63</td>\n",
       "    </tr>\n",
       "  </tbody>\n",
       "</table>\n",
       "<p>5 rows × 52 columns</p>\n",
       "</div>"
      ],
      "text/plain": [
       "            Jan_tmax  Feb_tmax  Mar_tmax  Apr_tmax  May_tmax  Jun_tmax  \\\n",
       "Year                                                                     \n",
       "1980-01-01 -0.261568 -1.208779 -1.271551 -0.053803  0.672712  0.240736   \n",
       "1981-01-01  0.598757  0.694045  0.673934  1.498129 -1.093146  0.320190   \n",
       "1982-01-01 -1.935194 -0.811730 -0.663525 -1.226884  0.601164 -2.244956   \n",
       "1983-01-01  0.159202  0.555544 -0.454989 -2.199351 -1.449509 -0.332145   \n",
       "1984-01-01 -0.765919  1.093221 -1.958495 -1.284118 -1.080558  0.566158   \n",
       "\n",
       "            Jul_tmax  Aug_tmax  Sep_tmax  Oct_tmax   ...    PRODUCED  \\\n",
       "Year                                                 ...               \n",
       "1980-01-01  1.489350  0.789751  0.541470 -0.622868   ...   -1.190893   \n",
       "1981-01-01 -0.459213 -0.831874 -0.332024 -0.901915   ...   -0.568289   \n",
       "1982-01-01 -0.014553 -0.782413 -1.065179  0.188657   ...   -0.519490   \n",
       "1983-01-01  1.377915  2.529468  0.788616 -0.143026   ...   -2.227866   \n",
       "1984-01-01 -0.265880  1.134210 -1.018188  0.069437   ...   -0.756332   \n",
       "\n",
       "               BEGIN    TOTSUP   EXPORTS      FEED       FSI      CONS  \\\n",
       "Year                                                                     \n",
       "1980-01-01  0.268244 -1.269583  1.664195 -1.206803 -1.043144 -1.032057   \n",
       "1981-01-01 -0.384712 -0.858376  0.482341 -1.186625 -1.004344 -1.175269   \n",
       "1982-01-01  0.779828 -0.238123 -0.045594 -0.677527 -0.940378 -1.047451   \n",
       "1983-01-01  1.782654 -1.749652  0.149382 -1.759361 -0.901055 -1.306819   \n",
       "1984-01-01 -0.777299 -1.267123  0.041395 -1.388402 -0.829224 -1.148679   \n",
       "\n",
       "              ENDING   Ethanol  FPRICE  \n",
       "Year                                    \n",
       "1980-01-01 -0.376300 -0.818498    3.12  \n",
       "1981-01-01  0.789457 -0.789461    2.47  \n",
       "1982-01-01  1.793332 -0.758716    2.55  \n",
       "1983-01-01 -0.769298 -0.747329    3.21  \n",
       "1984-01-01 -0.115659 -0.706335    2.63  \n",
       "\n",
       "[5 rows x 52 columns]"
      ]
     },
     "execution_count": 185,
     "metadata": {},
     "output_type": "execute_result"
    }
   ],
   "source": [
    "cs.head()"
   ]
  },
  {
   "cell_type": "code",
   "execution_count": 186,
   "metadata": {
    "collapsed": false
   },
   "outputs": [
    {
     "name": "stdout",
     "output_type": "stream",
     "text": [
      "<class 'pandas.core.frame.DataFrame'>\n",
      "DatetimeIndex: 35 entries, 1980-01-01 to 2014-01-01\n",
      "Data columns (total 52 columns):\n",
      "Jan_tmax          35 non-null float64\n",
      "Feb_tmax          35 non-null float64\n",
      "Mar_tmax          35 non-null float64\n",
      "Apr_tmax          35 non-null float64\n",
      "May_tmax          35 non-null float64\n",
      "Jun_tmax          35 non-null float64\n",
      "Jul_tmax          35 non-null float64\n",
      "Aug_tmax          35 non-null float64\n",
      "Sep_tmax          35 non-null float64\n",
      "Oct_tmax          35 non-null float64\n",
      "Nov_tmax          35 non-null float64\n",
      "Dec_tmax          35 non-null float64\n",
      "Avg/Total_tmax    35 non-null float64\n",
      "Jan_tmin          35 non-null float64\n",
      "Feb_tmin          35 non-null float64\n",
      "Mar_tmin          35 non-null float64\n",
      "Apr_tmin          35 non-null float64\n",
      "May_tmin          35 non-null float64\n",
      "Jun_tmin          35 non-null float64\n",
      "Jul_tmin          35 non-null float64\n",
      "Aug_tmin          35 non-null float64\n",
      "Sep_tmin          35 non-null float64\n",
      "Oct_tmin          35 non-null float64\n",
      "Nov_tmin          35 non-null float64\n",
      "Dec_tmin          35 non-null float64\n",
      "Avg/Total_tmin    35 non-null float64\n",
      "Jan_pr            35 non-null float64\n",
      "Feb_pr            35 non-null float64\n",
      "Mar_pr            35 non-null float64\n",
      "Apr_pr            35 non-null float64\n",
      "May_pr            35 non-null float64\n",
      "Jun_pr            35 non-null float64\n",
      "Jul_pr            35 non-null float64\n",
      "Aug_pr            35 non-null float64\n",
      "Sep_pr            35 non-null float64\n",
      "Oct_pr            35 non-null float64\n",
      "Nov_pr            35 non-null float64\n",
      "Dec_pr            35 non-null float64\n",
      "Avg/Total_pr      35 non-null float64\n",
      "PLANTED           35 non-null float64\n",
      "HARVEST           35 non-null float64\n",
      "YIELD             35 non-null float64\n",
      "PRODUCED          35 non-null float64\n",
      "BEGIN             35 non-null float64\n",
      "TOTSUP            35 non-null float64\n",
      "EXPORTS           35 non-null float64\n",
      "FEED              35 non-null float64\n",
      "FSI               35 non-null float64\n",
      "CONS              35 non-null float64\n",
      "ENDING            35 non-null float64\n",
      "Ethanol           35 non-null float64\n",
      "FPRICE            35 non-null float64\n",
      "dtypes: float64(52)\n",
      "memory usage: 14.5 KB\n"
     ]
    }
   ],
   "source": [
    "cs.info()"
   ]
  },
  {
   "cell_type": "markdown",
   "metadata": {},
   "source": [
    "## Data analysis and visualization\n",
    "**Note** - We currently have two dataframes, one with unscaled features (corn), and the other with scaled features (cs)"
   ]
  },
  {
   "cell_type": "code",
   "execution_count": 58,
   "metadata": {
    "collapsed": true
   },
   "outputs": [],
   "source": [
    "sns.set_style('whitegrid')"
   ]
  },
  {
   "cell_type": "markdown",
   "metadata": {},
   "source": [
    "Let's visualize the movement of price over time"
   ]
  },
  {
   "cell_type": "code",
   "execution_count": 201,
   "metadata": {
    "collapsed": false
   },
   "outputs": [
    {
     "data": {
      "text/plain": [
       "<matplotlib.text.Text at 0x122cdf2b0>"
      ]
     },
     "execution_count": 201,
     "metadata": {},
     "output_type": "execute_result"
    },
    {
     "data": {
      "image/png": "[encoded data removed]",
      "text/plain": [
       "<matplotlib.figure.Figure at 0x122e214e0>"
      ]
     },
     "metadata": {},
     "output_type": "display_data"
    }
   ],
   "source": [
    "plt.figure(figsize=(8,4.5))\n",
    "plt.plot(corn['FPRICE'])\n",
    "plt.title('Corn Prices (1980-2014)')\n",
    "plt.xlabel('Year')\n",
    "plt.ylabel('$/Bushel')"
   ]
  },
  {
   "cell_type": "markdown",
   "metadata": {},
   "source": [
    "Create a heatmap of features"
   ]
  },
  {
   "cell_type": "code",
   "execution_count": 206,
   "metadata": {
    "collapsed": false
   },
   "outputs": [
    {
     "data": {
      "text/plain": [
       "<matplotlib.axes._subplots.AxesSubplot at 0x123f44be0>"
      ]
     },
     "execution_count": 206,
     "metadata": {},
     "output_type": "execute_result"
    },
    {
     "data": {
      "image/png": "[encoded data removed]",
      "text/plain": [
       "<matplotlib.figure.Figure at 0x123f322b0>"
      ]
     },
     "metadata": {},
     "output_type": "display_data"
    }
   ],
   "source": [
    "plt.figure(figsize = (19,10))\n",
    "sns.heatmap(corn.corr())"
   ]
  },
  {
   "cell_type": "markdown",
   "metadata": {},
   "source": [
    "Because we are dealing with many feature columns, it is difficult to derive strong insights from the above. We get a sense, though, that there is some strong correlation occurring in the lower right corner of the output. \n",
    "\n",
    "**Let's narrow our search for relevant features by working with `.corr()` a bit further**\n",
    "Create a corn correlation dataframe (cornC)"
   ]
  },
  {
   "cell_type": "code",
   "execution_count": 99,
   "metadata": {
    "collapsed": false
   },
   "outputs": [],
   "source": [
    "cornC = corn.corr()"
   ]
  },
  {
   "cell_type": "code",
   "execution_count": 207,
   "metadata": {
    "collapsed": false
   },
   "outputs": [
    {
     "data": {
      "text/html": [
       "<div>\n",
       "<table border=\"1\" class=\"dataframe\">\n",
       "  <thead>\n",
       "    <tr style=\"text-align: right;\">\n",
       "      <th></th>\n",
       "      <th>Jan_tmax</th>\n",
       "      <th>Feb_tmax</th>\n",
       "      <th>Mar_tmax</th>\n",
       "      <th>Apr_tmax</th>\n",
       "      <th>May_tmax</th>\n",
       "      <th>Jun_tmax</th>\n",
       "      <th>Jul_tmax</th>\n",
       "      <th>Aug_tmax</th>\n",
       "      <th>Sep_tmax</th>\n",
       "      <th>Oct_tmax</th>\n",
       "      <th>...</th>\n",
       "      <th>PRODUCED</th>\n",
       "      <th>BEGIN</th>\n",
       "      <th>TOTSUP</th>\n",
       "      <th>EXPORTS</th>\n",
       "      <th>FEED</th>\n",
       "      <th>FSI</th>\n",
       "      <th>CONS</th>\n",
       "      <th>ENDING</th>\n",
       "      <th>FPRICE</th>\n",
       "      <th>Ethanol</th>\n",
       "    </tr>\n",
       "  </thead>\n",
       "  <tbody>\n",
       "    <tr>\n",
       "      <th>Jan_tmax</th>\n",
       "      <td>1.000000</td>\n",
       "      <td>0.307659</td>\n",
       "      <td>0.169946</td>\n",
       "      <td>0.197625</td>\n",
       "      <td>-0.029246</td>\n",
       "      <td>0.182245</td>\n",
       "      <td>0.218326</td>\n",
       "      <td>0.006247</td>\n",
       "      <td>0.168325</td>\n",
       "      <td>-0.227150</td>\n",
       "      <td>...</td>\n",
       "      <td>-0.067735</td>\n",
       "      <td>0.085079</td>\n",
       "      <td>-0.035758</td>\n",
       "      <td>-0.017174</td>\n",
       "      <td>0.068682</td>\n",
       "      <td>-0.033604</td>\n",
       "      <td>-0.011933</td>\n",
       "      <td>-0.047908</td>\n",
       "      <td>-0.050643</td>\n",
       "      <td>-0.049110</td>\n",
       "    </tr>\n",
       "    <tr>\n",
       "      <th>Feb_tmax</th>\n",
       "      <td>0.307659</td>\n",
       "      <td>1.000000</td>\n",
       "      <td>0.139430</td>\n",
       "      <td>0.011514</td>\n",
       "      <td>-0.047658</td>\n",
       "      <td>0.167173</td>\n",
       "      <td>0.073593</td>\n",
       "      <td>-0.005242</td>\n",
       "      <td>0.287056</td>\n",
       "      <td>-0.251423</td>\n",
       "      <td>...</td>\n",
       "      <td>-0.183733</td>\n",
       "      <td>0.023125</td>\n",
       "      <td>-0.202921</td>\n",
       "      <td>-0.215116</td>\n",
       "      <td>0.101080</td>\n",
       "      <td>-0.215681</td>\n",
       "      <td>-0.194971</td>\n",
       "      <td>0.005694</td>\n",
       "      <td>-0.223871</td>\n",
       "      <td>-0.239578</td>\n",
       "    </tr>\n",
       "    <tr>\n",
       "      <th>Mar_tmax</th>\n",
       "      <td>0.169946</td>\n",
       "      <td>0.139430</td>\n",
       "      <td>1.000000</td>\n",
       "      <td>0.432694</td>\n",
       "      <td>0.409491</td>\n",
       "      <td>0.239219</td>\n",
       "      <td>0.179344</td>\n",
       "      <td>-0.101011</td>\n",
       "      <td>0.170967</td>\n",
       "      <td>0.076240</td>\n",
       "      <td>...</td>\n",
       "      <td>0.111057</td>\n",
       "      <td>0.063382</td>\n",
       "      <td>0.166778</td>\n",
       "      <td>-0.341535</td>\n",
       "      <td>0.022074</td>\n",
       "      <td>0.134587</td>\n",
       "      <td>0.073262</td>\n",
       "      <td>0.185367</td>\n",
       "      <td>0.225815</td>\n",
       "      <td>0.125080</td>\n",
       "    </tr>\n",
       "    <tr>\n",
       "      <th>Apr_tmax</th>\n",
       "      <td>0.197625</td>\n",
       "      <td>0.011514</td>\n",
       "      <td>0.432694</td>\n",
       "      <td>1.000000</td>\n",
       "      <td>0.421419</td>\n",
       "      <td>0.342126</td>\n",
       "      <td>0.227239</td>\n",
       "      <td>-0.133317</td>\n",
       "      <td>0.068015</td>\n",
       "      <td>-0.023300</td>\n",
       "      <td>...</td>\n",
       "      <td>0.141326</td>\n",
       "      <td>0.165751</td>\n",
       "      <td>0.247240</td>\n",
       "      <td>-0.090371</td>\n",
       "      <td>0.135762</td>\n",
       "      <td>0.065184</td>\n",
       "      <td>0.084726</td>\n",
       "      <td>0.326883</td>\n",
       "      <td>-0.053903</td>\n",
       "      <td>0.057810</td>\n",
       "    </tr>\n",
       "    <tr>\n",
       "      <th>May_tmax</th>\n",
       "      <td>-0.029246</td>\n",
       "      <td>-0.047658</td>\n",
       "      <td>0.409491</td>\n",
       "      <td>0.421419</td>\n",
       "      <td>1.000000</td>\n",
       "      <td>0.197687</td>\n",
       "      <td>0.187072</td>\n",
       "      <td>-0.018677</td>\n",
       "      <td>0.225114</td>\n",
       "      <td>-0.052602</td>\n",
       "      <td>...</td>\n",
       "      <td>0.068384</td>\n",
       "      <td>0.313651</td>\n",
       "      <td>0.235645</td>\n",
       "      <td>-0.090380</td>\n",
       "      <td>0.006676</td>\n",
       "      <td>0.075113</td>\n",
       "      <td>0.054770</td>\n",
       "      <td>0.368053</td>\n",
       "      <td>0.056650</td>\n",
       "      <td>0.079710</td>\n",
       "    </tr>\n",
       "  </tbody>\n",
       "</table>\n",
       "<p>5 rows × 52 columns</p>\n",
       "</div>"
      ],
      "text/plain": [
       "          Jan_tmax  Feb_tmax  Mar_tmax  Apr_tmax  May_tmax  Jun_tmax  \\\n",
       "Jan_tmax  1.000000  0.307659  0.169946  0.197625 -0.029246  0.182245   \n",
       "Feb_tmax  0.307659  1.000000  0.139430  0.011514 -0.047658  0.167173   \n",
       "Mar_tmax  0.169946  0.139430  1.000000  0.432694  0.409491  0.239219   \n",
       "Apr_tmax  0.197625  0.011514  0.432694  1.000000  0.421419  0.342126   \n",
       "May_tmax -0.029246 -0.047658  0.409491  0.421419  1.000000  0.197687   \n",
       "\n",
       "          Jul_tmax  Aug_tmax  Sep_tmax  Oct_tmax    ...     PRODUCED  \\\n",
       "Jan_tmax  0.218326  0.006247  0.168325 -0.227150    ...    -0.067735   \n",
       "Feb_tmax  0.073593 -0.005242  0.287056 -0.251423    ...    -0.183733   \n",
       "Mar_tmax  0.179344 -0.101011  0.170967  0.076240    ...     0.111057   \n",
       "Apr_tmax  0.227239 -0.133317  0.068015 -0.023300    ...     0.141326   \n",
       "May_tmax  0.187072 -0.018677  0.225114 -0.052602    ...     0.068384   \n",
       "\n",
       "             BEGIN    TOTSUP   EXPORTS      FEED       FSI      CONS  \\\n",
       "Jan_tmax  0.085079 -0.035758 -0.017174  0.068682 -0.033604 -0.011933   \n",
       "Feb_tmax  0.023125 -0.202921 -0.215116  0.101080 -0.215681 -0.194971   \n",
       "Mar_tmax  0.063382  0.166778 -0.341535  0.022074  0.134587  0.073262   \n",
       "Apr_tmax  0.165751  0.247240 -0.090371  0.135762  0.065184  0.084726   \n",
       "May_tmax  0.313651  0.235645 -0.090380  0.006676  0.075113  0.054770   \n",
       "\n",
       "            ENDING    FPRICE   Ethanol  \n",
       "Jan_tmax -0.047908 -0.050643 -0.049110  \n",
       "Feb_tmax  0.005694 -0.223871 -0.239578  \n",
       "Mar_tmax  0.185367  0.225815  0.125080  \n",
       "Apr_tmax  0.326883 -0.053903  0.057810  \n",
       "May_tmax  0.368053  0.056650  0.079710  \n",
       "\n",
       "[5 rows x 52 columns]"
      ]
     },
     "execution_count": 207,
     "metadata": {},
     "output_type": "execute_result"
    }
   ],
   "source": [
    "cornC.head()"
   ]
  },
  {
   "cell_type": "markdown",
   "metadata": {},
   "source": [
    "The above output is what `sns.heatmap()` uses to produce the visualization. We are most interested in the FPRICE column. Let's index the cornC dataframe to select FPRICE, and assign that to the variable cornPC"
   ]
  },
  {
   "cell_type": "code",
   "execution_count": 100,
   "metadata": {
    "collapsed": false
   },
   "outputs": [],
   "source": [
    "cornPC = cornC[['FPRICE']]"
   ]
  },
  {
   "cell_type": "markdown",
   "metadata": {},
   "source": [
    "Lets take a look at those variables sharing a correlation with FPRICE, the response variable, of .3 or stronger"
   ]
  },
  {
   "cell_type": "code",
   "execution_count": 222,
   "metadata": {
    "collapsed": false
   },
   "outputs": [],
   "source": [
    "cornPC3 = cornPC[(cornPC > .3) | (cornPC < -.3)].dropna()"
   ]
  },
  {
   "cell_type": "code",
   "execution_count": 223,
   "metadata": {
    "collapsed": false
   },
   "outputs": [
    {
     "data": {
      "text/html": [
       "<div>\n",
       "<table border=\"1\" class=\"dataframe\">\n",
       "  <thead>\n",
       "    <tr style=\"text-align: right;\">\n",
       "      <th></th>\n",
       "      <th>FPRICE</th>\n",
       "    </tr>\n",
       "  </thead>\n",
       "  <tbody>\n",
       "    <tr>\n",
       "      <th>Jul_tmax</th>\n",
       "      <td>0.314156</td>\n",
       "    </tr>\n",
       "    <tr>\n",
       "      <th>Aug_tmax</th>\n",
       "      <td>0.324126</td>\n",
       "    </tr>\n",
       "    <tr>\n",
       "      <th>Apr_pr</th>\n",
       "      <td>0.357449</td>\n",
       "    </tr>\n",
       "    <tr>\n",
       "      <th>Jul_pr</th>\n",
       "      <td>-0.321649</td>\n",
       "    </tr>\n",
       "    <tr>\n",
       "      <th>PLANTED</th>\n",
       "      <td>0.651818</td>\n",
       "    </tr>\n",
       "    <tr>\n",
       "      <th>HARVEST</th>\n",
       "      <td>0.623241</td>\n",
       "    </tr>\n",
       "    <tr>\n",
       "      <th>PRODUCED</th>\n",
       "      <td>0.461087</td>\n",
       "    </tr>\n",
       "    <tr>\n",
       "      <th>TOTSUP</th>\n",
       "      <td>0.417131</td>\n",
       "    </tr>\n",
       "    <tr>\n",
       "      <th>FSI</th>\n",
       "      <td>0.788783</td>\n",
       "    </tr>\n",
       "    <tr>\n",
       "      <th>CONS</th>\n",
       "      <td>0.586963</td>\n",
       "    </tr>\n",
       "    <tr>\n",
       "      <th>ENDING</th>\n",
       "      <td>-0.417670</td>\n",
       "    </tr>\n",
       "    <tr>\n",
       "      <th>FPRICE</th>\n",
       "      <td>1.000000</td>\n",
       "    </tr>\n",
       "    <tr>\n",
       "      <th>Ethanol</th>\n",
       "      <td>0.813087</td>\n",
       "    </tr>\n",
       "  </tbody>\n",
       "</table>\n",
       "</div>"
      ],
      "text/plain": [
       "            FPRICE\n",
       "Jul_tmax  0.314156\n",
       "Aug_tmax  0.324126\n",
       "Apr_pr    0.357449\n",
       "Jul_pr   -0.321649\n",
       "PLANTED   0.651818\n",
       "HARVEST   0.623241\n",
       "PRODUCED  0.461087\n",
       "TOTSUP    0.417131\n",
       "FSI       0.788783\n",
       "CONS      0.586963\n",
       "ENDING   -0.417670\n",
       "FPRICE    1.000000\n",
       "Ethanol   0.813087"
      ]
     },
     "execution_count": 223,
     "metadata": {},
     "output_type": "execute_result"
    }
   ],
   "source": [
    "cornPC3"
   ]
  },
  {
   "cell_type": "markdown",
   "metadata": {},
   "source": [
    "Use the indexes above to select columns within the corn correlation dataframe (cornC)"
   ]
  },
  {
   "cell_type": "code",
   "execution_count": 224,
   "metadata": {
    "collapsed": false
   },
   "outputs": [
    {
     "data": {
      "text/html": [
       "<div>\n",
       "<table border=\"1\" class=\"dataframe\">\n",
       "  <thead>\n",
       "    <tr style=\"text-align: right;\">\n",
       "      <th></th>\n",
       "      <th>Jul_tmax</th>\n",
       "      <th>Aug_tmax</th>\n",
       "      <th>Apr_pr</th>\n",
       "      <th>Jul_pr</th>\n",
       "      <th>PLANTED</th>\n",
       "      <th>HARVEST</th>\n",
       "      <th>PRODUCED</th>\n",
       "      <th>TOTSUP</th>\n",
       "      <th>FSI</th>\n",
       "      <th>CONS</th>\n",
       "      <th>ENDING</th>\n",
       "      <th>FPRICE</th>\n",
       "      <th>Ethanol</th>\n",
       "    </tr>\n",
       "  </thead>\n",
       "  <tbody>\n",
       "    <tr>\n",
       "      <th>Jul_tmax</th>\n",
       "      <td>1.000000</td>\n",
       "      <td>0.706393</td>\n",
       "      <td>-0.263807</td>\n",
       "      <td>-0.565252</td>\n",
       "      <td>-0.357991</td>\n",
       "      <td>-0.402692</td>\n",
       "      <td>-0.536976</td>\n",
       "      <td>-0.457717</td>\n",
       "      <td>-0.270319</td>\n",
       "      <td>-0.373407</td>\n",
       "      <td>-0.086166</td>\n",
       "      <td>0.116965</td>\n",
       "      <td>-0.260996</td>\n",
       "    </tr>\n",
       "    <tr>\n",
       "      <th>Aug_tmax</th>\n",
       "      <td>0.706393</td>\n",
       "      <td>1.000000</td>\n",
       "      <td>0.119461</td>\n",
       "      <td>-0.659702</td>\n",
       "      <td>-0.288000</td>\n",
       "      <td>-0.312810</td>\n",
       "      <td>-0.387588</td>\n",
       "      <td>-0.396386</td>\n",
       "      <td>-0.097953</td>\n",
       "      <td>-0.161399</td>\n",
       "      <td>-0.556181</td>\n",
       "      <td>0.251501</td>\n",
       "      <td>-0.089986</td>\n",
       "    </tr>\n",
       "    <tr>\n",
       "      <th>Apr_pr</th>\n",
       "      <td>-0.263807</td>\n",
       "      <td>0.119461</td>\n",
       "      <td>1.000000</td>\n",
       "      <td>-0.271878</td>\n",
       "      <td>0.608020</td>\n",
       "      <td>0.609881</td>\n",
       "      <td>0.608898</td>\n",
       "      <td>0.502461</td>\n",
       "      <td>0.685118</td>\n",
       "      <td>0.665297</td>\n",
       "      <td>-0.664631</td>\n",
       "      <td>0.613713</td>\n",
       "      <td>0.681728</td>\n",
       "    </tr>\n",
       "    <tr>\n",
       "      <th>Jul_pr</th>\n",
       "      <td>-0.565252</td>\n",
       "      <td>-0.659702</td>\n",
       "      <td>-0.271878</td>\n",
       "      <td>1.000000</td>\n",
       "      <td>-0.251215</td>\n",
       "      <td>-0.227706</td>\n",
       "      <td>-0.119365</td>\n",
       "      <td>-0.136607</td>\n",
       "      <td>-0.327025</td>\n",
       "      <td>-0.276907</td>\n",
       "      <td>0.466254</td>\n",
       "      <td>-0.518812</td>\n",
       "      <td>-0.331748</td>\n",
       "    </tr>\n",
       "    <tr>\n",
       "      <th>PLANTED</th>\n",
       "      <td>-0.357991</td>\n",
       "      <td>-0.288000</td>\n",
       "      <td>0.608020</td>\n",
       "      <td>-0.251215</td>\n",
       "      <td>1.000000</td>\n",
       "      <td>0.996997</td>\n",
       "      <td>0.945516</td>\n",
       "      <td>0.911288</td>\n",
       "      <td>0.932972</td>\n",
       "      <td>0.916273</td>\n",
       "      <td>-0.342368</td>\n",
       "      <td>0.778689</td>\n",
       "      <td>0.930997</td>\n",
       "    </tr>\n",
       "    <tr>\n",
       "      <th>HARVEST</th>\n",
       "      <td>-0.402692</td>\n",
       "      <td>-0.312810</td>\n",
       "      <td>0.609881</td>\n",
       "      <td>-0.227706</td>\n",
       "      <td>0.996997</td>\n",
       "      <td>1.000000</td>\n",
       "      <td>0.964352</td>\n",
       "      <td>0.926798</td>\n",
       "      <td>0.932070</td>\n",
       "      <td>0.929123</td>\n",
       "      <td>-0.340027</td>\n",
       "      <td>0.750174</td>\n",
       "      <td>0.927375</td>\n",
       "    </tr>\n",
       "    <tr>\n",
       "      <th>PRODUCED</th>\n",
       "      <td>-0.536976</td>\n",
       "      <td>-0.387588</td>\n",
       "      <td>0.608898</td>\n",
       "      <td>-0.119365</td>\n",
       "      <td>0.945516</td>\n",
       "      <td>0.964352</td>\n",
       "      <td>1.000000</td>\n",
       "      <td>0.969007</td>\n",
       "      <td>0.919915</td>\n",
       "      <td>0.963021</td>\n",
       "      <td>-0.330479</td>\n",
       "      <td>0.637173</td>\n",
       "      <td>0.907996</td>\n",
       "    </tr>\n",
       "    <tr>\n",
       "      <th>TOTSUP</th>\n",
       "      <td>-0.457717</td>\n",
       "      <td>-0.396386</td>\n",
       "      <td>0.502461</td>\n",
       "      <td>-0.136607</td>\n",
       "      <td>0.911288</td>\n",
       "      <td>0.926798</td>\n",
       "      <td>0.969007</td>\n",
       "      <td>1.000000</td>\n",
       "      <td>0.912525</td>\n",
       "      <td>0.943958</td>\n",
       "      <td>-0.192831</td>\n",
       "      <td>0.623493</td>\n",
       "      <td>0.905300</td>\n",
       "    </tr>\n",
       "    <tr>\n",
       "      <th>FSI</th>\n",
       "      <td>-0.270319</td>\n",
       "      <td>-0.097953</td>\n",
       "      <td>0.685118</td>\n",
       "      <td>-0.327025</td>\n",
       "      <td>0.932972</td>\n",
       "      <td>0.932070</td>\n",
       "      <td>0.919915</td>\n",
       "      <td>0.912525</td>\n",
       "      <td>1.000000</td>\n",
       "      <td>0.969253</td>\n",
       "      <td>-0.496646</td>\n",
       "      <td>0.867677</td>\n",
       "      <td>0.998452</td>\n",
       "    </tr>\n",
       "    <tr>\n",
       "      <th>CONS</th>\n",
       "      <td>-0.373407</td>\n",
       "      <td>-0.161399</td>\n",
       "      <td>0.665297</td>\n",
       "      <td>-0.276907</td>\n",
       "      <td>0.916273</td>\n",
       "      <td>0.929123</td>\n",
       "      <td>0.963021</td>\n",
       "      <td>0.943958</td>\n",
       "      <td>0.969253</td>\n",
       "      <td>1.000000</td>\n",
       "      <td>-0.505896</td>\n",
       "      <td>0.748053</td>\n",
       "      <td>0.957700</td>\n",
       "    </tr>\n",
       "    <tr>\n",
       "      <th>ENDING</th>\n",
       "      <td>-0.086166</td>\n",
       "      <td>-0.556181</td>\n",
       "      <td>-0.664631</td>\n",
       "      <td>0.466254</td>\n",
       "      <td>-0.342368</td>\n",
       "      <td>-0.340027</td>\n",
       "      <td>-0.330479</td>\n",
       "      <td>-0.192831</td>\n",
       "      <td>-0.496646</td>\n",
       "      <td>-0.505896</td>\n",
       "      <td>1.000000</td>\n",
       "      <td>-0.594436</td>\n",
       "      <td>-0.481186</td>\n",
       "    </tr>\n",
       "    <tr>\n",
       "      <th>FPRICE</th>\n",
       "      <td>0.116965</td>\n",
       "      <td>0.251501</td>\n",
       "      <td>0.613713</td>\n",
       "      <td>-0.518812</td>\n",
       "      <td>0.778689</td>\n",
       "      <td>0.750174</td>\n",
       "      <td>0.637173</td>\n",
       "      <td>0.623493</td>\n",
       "      <td>0.867677</td>\n",
       "      <td>0.748053</td>\n",
       "      <td>-0.594436</td>\n",
       "      <td>1.000000</td>\n",
       "      <td>0.879781</td>\n",
       "    </tr>\n",
       "    <tr>\n",
       "      <th>Ethanol</th>\n",
       "      <td>-0.260996</td>\n",
       "      <td>-0.089986</td>\n",
       "      <td>0.681728</td>\n",
       "      <td>-0.331748</td>\n",
       "      <td>0.930997</td>\n",
       "      <td>0.927375</td>\n",
       "      <td>0.907996</td>\n",
       "      <td>0.905300</td>\n",
       "      <td>0.998452</td>\n",
       "      <td>0.957700</td>\n",
       "      <td>-0.481186</td>\n",
       "      <td>0.879781</td>\n",
       "      <td>1.000000</td>\n",
       "    </tr>\n",
       "  </tbody>\n",
       "</table>\n",
       "</div>"
      ],
      "text/plain": [
       "          Jul_tmax  Aug_tmax    Apr_pr    Jul_pr   PLANTED   HARVEST  \\\n",
       "Jul_tmax  1.000000  0.706393 -0.263807 -0.565252 -0.357991 -0.402692   \n",
       "Aug_tmax  0.706393  1.000000  0.119461 -0.659702 -0.288000 -0.312810   \n",
       "Apr_pr   -0.263807  0.119461  1.000000 -0.271878  0.608020  0.609881   \n",
       "Jul_pr   -0.565252 -0.659702 -0.271878  1.000000 -0.251215 -0.227706   \n",
       "PLANTED  -0.357991 -0.288000  0.608020 -0.251215  1.000000  0.996997   \n",
       "HARVEST  -0.402692 -0.312810  0.609881 -0.227706  0.996997  1.000000   \n",
       "PRODUCED -0.536976 -0.387588  0.608898 -0.119365  0.945516  0.964352   \n",
       "TOTSUP   -0.457717 -0.396386  0.502461 -0.136607  0.911288  0.926798   \n",
       "FSI      -0.270319 -0.097953  0.685118 -0.327025  0.932972  0.932070   \n",
       "CONS     -0.373407 -0.161399  0.665297 -0.276907  0.916273  0.929123   \n",
       "ENDING   -0.086166 -0.556181 -0.664631  0.466254 -0.342368 -0.340027   \n",
       "FPRICE    0.116965  0.251501  0.613713 -0.518812  0.778689  0.750174   \n",
       "Ethanol  -0.260996 -0.089986  0.681728 -0.331748  0.930997  0.927375   \n",
       "\n",
       "          PRODUCED    TOTSUP       FSI      CONS    ENDING    FPRICE   Ethanol  \n",
       "Jul_tmax -0.536976 -0.457717 -0.270319 -0.373407 -0.086166  0.116965 -0.260996  \n",
       "Aug_tmax -0.387588 -0.396386 -0.097953 -0.161399 -0.556181  0.251501 -0.089986  \n",
       "Apr_pr    0.608898  0.502461  0.685118  0.665297 -0.664631  0.613713  0.681728  \n",
       "Jul_pr   -0.119365 -0.136607 -0.327025 -0.276907  0.466254 -0.518812 -0.331748  \n",
       "PLANTED   0.945516  0.911288  0.932972  0.916273 -0.342368  0.778689  0.930997  \n",
       "HARVEST   0.964352  0.926798  0.932070  0.929123 -0.340027  0.750174  0.927375  \n",
       "PRODUCED  1.000000  0.969007  0.919915  0.963021 -0.330479  0.637173  0.907996  \n",
       "TOTSUP    0.969007  1.000000  0.912525  0.943958 -0.192831  0.623493  0.905300  \n",
       "FSI       0.919915  0.912525  1.000000  0.969253 -0.496646  0.867677  0.998452  \n",
       "CONS      0.963021  0.943958  0.969253  1.000000 -0.505896  0.748053  0.957700  \n",
       "ENDING   -0.330479 -0.192831 -0.496646 -0.505896  1.000000 -0.594436 -0.481186  \n",
       "FPRICE    0.637173  0.623493  0.867677  0.748053 -0.594436  1.000000  0.879781  \n",
       "Ethanol   0.907996  0.905300  0.998452  0.957700 -0.481186  0.879781  1.000000  "
      ]
     },
     "execution_count": 224,
     "metadata": {},
     "output_type": "execute_result"
    }
   ],
   "source": [
    "cornC[cornPC3.index].corr()"
   ]
  },
  {
   "cell_type": "markdown",
   "metadata": {},
   "source": [
    "Visualize the above in a heatmap"
   ]
  },
  {
   "cell_type": "code",
   "execution_count": 225,
   "metadata": {
    "collapsed": false
   },
   "outputs": [
    {
     "data": {
      "text/plain": [
       "<matplotlib.axes._subplots.AxesSubplot at 0x12595b780>"
      ]
     },
     "execution_count": 225,
     "metadata": {},
     "output_type": "execute_result"
    },
    {
     "data": {
      "image/png": "[encoded data removed]",
      "text/plain": [
       "<matplotlib.figure.Figure at 0x1259533c8>"
      ]
     },
     "metadata": {},
     "output_type": "display_data"
    }
   ],
   "source": [
    "plt.figure(figsize=(16,9))\n",
    "sns.heatmap(cornC[cornPC3.index].corr(), annot=True)"
   ]
  },
  {
   "cell_type": "markdown",
   "metadata": {},
   "source": [
    "There are several feature variables which present the problem of [Multicollinearity](https://en.wikipedia.org/wiki/Multicollinearity). We can see from the above that PLANTED, HARVEST, PRODUCED and Total Supply (TOTSUP) possess strong correlation with one-another. We can also see that Food Seed Industrial Usage (FSI), Total Consumption (CONS), and Ethanol also bear strong correlation. \n",
    "\n",
    "We will rely on the cornPC3 dataframe above, detailing how these variables correlate with FPRICE, to determine which should remain in our model. "
   ]
  },
  {
   "cell_type": "code",
   "execution_count": null,
   "metadata": {
    "collapsed": true
   },
   "outputs": [],
   "source": []
  }
 ],
 "metadata": {
  "anaconda-cloud": {},
  "kernelspec": {
   "display_name": "Python [Root]",
   "language": "python",
   "name": "Python [Root]"
  },
  "language_info": {
   "codemirror_mode": {
    "name": "ipython",
    "version": 3
   },
   "file_extension": ".py",
   "mimetype": "text/x-python",
   "name": "python",
   "nbconvert_exporter": "python",
   "pygments_lexer": "ipython3",
   "version": "3.5.2"
  }
 },
 "nbformat": 4,
 "nbformat_minor": 0
}
