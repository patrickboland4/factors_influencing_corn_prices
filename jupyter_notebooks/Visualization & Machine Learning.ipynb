{
 "cells": [
  {
   "cell_type": "markdown",
   "metadata": {},
   "source": [
    "### Import visualization and machine learning libraries "
   ]
  },
  {
   "cell_type": "code",
   "execution_count": 145,
   "metadata": {
    "collapsed": true
   },
   "outputs": [],
   "source": [
    "import pandas as pd\n",
    "import numpy as np\n",
    "import seaborn as sns\n",
    "import matplotlib.pyplot as plt\n",
    "%matplotlib inline"
   ]
  },
  {
   "cell_type": "markdown",
   "metadata": {},
   "source": [
    "Set path"
   ]
  },
  {
   "cell_type": "code",
   "execution_count": 79,
   "metadata": {
    "collapsed": true
   },
   "outputs": [],
   "source": [
    "corn_path = \"/Users/patrickboland4/p_code/projects/factors_influencing_corn_prices/data/csvs_from_jupyter_nb/corn.csv\""
   ]
  },
  {
   "cell_type": "markdown",
   "metadata": {},
   "source": [
    "### Importing the csv file we created in the \"Preparing the climate, corn, ethanol data\" Jupyter notebook"
   ]
  },
  {
   "cell_type": "markdown",
   "metadata": {},
   "source": [
    "** Let's import the file **"
   ]
  },
  {
   "cell_type": "code",
   "execution_count": 94,
   "metadata": {
    "collapsed": true
   },
   "outputs": [],
   "source": [
    "corn = pd.read_csv(corn_path)"
   ]
  },
  {
   "cell_type": "code",
   "execution_count": 95,
   "metadata": {
    "collapsed": false
   },
   "outputs": [
    {
     "data": {
      "text/html": [
       "<div>\n",
       "<table border=\"1\" class=\"dataframe\">\n",
       "  <thead>\n",
       "    <tr style=\"text-align: right;\">\n",
       "      <th></th>\n",
       "      <th>Year</th>\n",
       "      <th>Jan_tmax</th>\n",
       "      <th>Feb_tmax</th>\n",
       "      <th>Mar_tmax</th>\n",
       "      <th>Apr_tmax</th>\n",
       "      <th>May_tmax</th>\n",
       "      <th>Jun_tmax</th>\n",
       "      <th>Jul_tmax</th>\n",
       "      <th>Aug_tmax</th>\n",
       "      <th>Sep_tmax</th>\n",
       "      <th>...</th>\n",
       "      <th>PRODUCED</th>\n",
       "      <th>BEGIN</th>\n",
       "      <th>TOTSUP</th>\n",
       "      <th>EXPORTS</th>\n",
       "      <th>FEED</th>\n",
       "      <th>FSI</th>\n",
       "      <th>CONS</th>\n",
       "      <th>ENDING</th>\n",
       "      <th>FPRICE</th>\n",
       "      <th>Ethanol</th>\n",
       "    </tr>\n",
       "  </thead>\n",
       "  <tbody>\n",
       "    <tr>\n",
       "      <th>0</th>\n",
       "      <td>1980.0</td>\n",
       "      <td>304.604651</td>\n",
       "      <td>298.058140</td>\n",
       "      <td>419.250000</td>\n",
       "      <td>611.581395</td>\n",
       "      <td>741.034884</td>\n",
       "      <td>816.360465</td>\n",
       "      <td>894.093023</td>\n",
       "      <td>853.906977</td>\n",
       "      <td>772.098837</td>\n",
       "      <td>...</td>\n",
       "      <td>6639.0</td>\n",
       "      <td>2034.0</td>\n",
       "      <td>8675.0</td>\n",
       "      <td>2391.0</td>\n",
       "      <td>4232.0</td>\n",
       "      <td>659.0</td>\n",
       "      <td>7282.0</td>\n",
       "      <td>1392.0</td>\n",
       "      <td>3.12</td>\n",
       "      <td>35.0</td>\n",
       "    </tr>\n",
       "    <tr>\n",
       "      <th>1</th>\n",
       "      <td>1981.0</td>\n",
       "      <td>347.028902</td>\n",
       "      <td>399.289017</td>\n",
       "      <td>513.040462</td>\n",
       "      <td>666.930636</td>\n",
       "      <td>686.184971</td>\n",
       "      <td>818.265896</td>\n",
       "      <td>838.728324</td>\n",
       "      <td>810.294798</td>\n",
       "      <td>749.173410</td>\n",
       "      <td>...</td>\n",
       "      <td>8119.0</td>\n",
       "      <td>1392.0</td>\n",
       "      <td>9511.0</td>\n",
       "      <td>1997.0</td>\n",
       "      <td>4245.0</td>\n",
       "      <td>733.0</td>\n",
       "      <td>6975.0</td>\n",
       "      <td>2537.0</td>\n",
       "      <td>2.47</td>\n",
       "      <td>86.0</td>\n",
       "    </tr>\n",
       "    <tr>\n",
       "      <th>2</th>\n",
       "      <td>1982.0</td>\n",
       "      <td>222.075000</td>\n",
       "      <td>319.181250</td>\n",
       "      <td>448.562500</td>\n",
       "      <td>569.743750</td>\n",
       "      <td>738.812500</td>\n",
       "      <td>756.750000</td>\n",
       "      <td>851.362500</td>\n",
       "      <td>811.625000</td>\n",
       "      <td>729.931250</td>\n",
       "      <td>...</td>\n",
       "      <td>8235.0</td>\n",
       "      <td>2537.0</td>\n",
       "      <td>10772.0</td>\n",
       "      <td>1821.0</td>\n",
       "      <td>4573.0</td>\n",
       "      <td>855.0</td>\n",
       "      <td>7249.0</td>\n",
       "      <td>3523.0</td>\n",
       "      <td>2.55</td>\n",
       "      <td>140.0</td>\n",
       "    </tr>\n",
       "    <tr>\n",
       "      <th>3</th>\n",
       "      <td>1983.0</td>\n",
       "      <td>325.353659</td>\n",
       "      <td>391.920732</td>\n",
       "      <td>458.615854</td>\n",
       "      <td>535.060976</td>\n",
       "      <td>675.115854</td>\n",
       "      <td>802.621951</td>\n",
       "      <td>890.926829</td>\n",
       "      <td>900.695122</td>\n",
       "      <td>778.585366</td>\n",
       "      <td>...</td>\n",
       "      <td>4174.0</td>\n",
       "      <td>3523.0</td>\n",
       "      <td>7699.0</td>\n",
       "      <td>1886.0</td>\n",
       "      <td>3876.0</td>\n",
       "      <td>930.0</td>\n",
       "      <td>6693.0</td>\n",
       "      <td>1006.0</td>\n",
       "      <td>3.21</td>\n",
       "      <td>160.0</td>\n",
       "    </tr>\n",
       "    <tr>\n",
       "      <th>4</th>\n",
       "      <td>1984.0</td>\n",
       "      <td>279.734177</td>\n",
       "      <td>420.525316</td>\n",
       "      <td>386.132911</td>\n",
       "      <td>567.702532</td>\n",
       "      <td>686.575949</td>\n",
       "      <td>824.164557</td>\n",
       "      <td>844.221519</td>\n",
       "      <td>863.170886</td>\n",
       "      <td>731.164557</td>\n",
       "      <td>...</td>\n",
       "      <td>7672.0</td>\n",
       "      <td>1006.0</td>\n",
       "      <td>8680.0</td>\n",
       "      <td>1850.0</td>\n",
       "      <td>4115.0</td>\n",
       "      <td>1067.0</td>\n",
       "      <td>7032.0</td>\n",
       "      <td>1648.0</td>\n",
       "      <td>2.63</td>\n",
       "      <td>232.0</td>\n",
       "    </tr>\n",
       "  </tbody>\n",
       "</table>\n",
       "<p>5 rows × 53 columns</p>\n",
       "</div>"
      ],
      "text/plain": [
       "     Year    Jan_tmax    Feb_tmax    Mar_tmax    Apr_tmax    May_tmax  \\\n",
       "0  1980.0  304.604651  298.058140  419.250000  611.581395  741.034884   \n",
       "1  1981.0  347.028902  399.289017  513.040462  666.930636  686.184971   \n",
       "2  1982.0  222.075000  319.181250  448.562500  569.743750  738.812500   \n",
       "3  1983.0  325.353659  391.920732  458.615854  535.060976  675.115854   \n",
       "4  1984.0  279.734177  420.525316  386.132911  567.702532  686.575949   \n",
       "\n",
       "     Jun_tmax    Jul_tmax    Aug_tmax    Sep_tmax   ...     PRODUCED   BEGIN  \\\n",
       "0  816.360465  894.093023  853.906977  772.098837   ...       6639.0  2034.0   \n",
       "1  818.265896  838.728324  810.294798  749.173410   ...       8119.0  1392.0   \n",
       "2  756.750000  851.362500  811.625000  729.931250   ...       8235.0  2537.0   \n",
       "3  802.621951  890.926829  900.695122  778.585366   ...       4174.0  3523.0   \n",
       "4  824.164557  844.221519  863.170886  731.164557   ...       7672.0  1006.0   \n",
       "\n",
       "    TOTSUP  EXPORTS    FEED     FSI    CONS  ENDING  FPRICE  Ethanol  \n",
       "0   8675.0   2391.0  4232.0   659.0  7282.0  1392.0    3.12     35.0  \n",
       "1   9511.0   1997.0  4245.0   733.0  6975.0  2537.0    2.47     86.0  \n",
       "2  10772.0   1821.0  4573.0   855.0  7249.0  3523.0    2.55    140.0  \n",
       "3   7699.0   1886.0  3876.0   930.0  6693.0  1006.0    3.21    160.0  \n",
       "4   8680.0   1850.0  4115.0  1067.0  7032.0  1648.0    2.63    232.0  \n",
       "\n",
       "[5 rows x 53 columns]"
      ]
     },
     "execution_count": 95,
     "metadata": {},
     "output_type": "execute_result"
    }
   ],
   "source": [
    "corn.head()"
   ]
  },
  {
   "cell_type": "markdown",
   "metadata": {},
   "source": [
    "Our goal is to to have 'Year' be represented in the index as a datetime object. Let's have a look at the dtype of the 'Year' column"
   ]
  },
  {
   "cell_type": "code",
   "execution_count": 96,
   "metadata": {
    "collapsed": false
   },
   "outputs": [
    {
     "data": {
      "text/plain": [
       "numpy.float64"
      ]
     },
     "execution_count": 96,
     "metadata": {},
     "output_type": "execute_result"
    }
   ],
   "source": [
    "type(corn['Year'][0])"
   ]
  },
  {
   "cell_type": "markdown",
   "metadata": {},
   "source": [
    "Let's convert objects within the 'Year' column to string"
   ]
  },
  {
   "cell_type": "code",
   "execution_count": 97,
   "metadata": {
    "collapsed": true
   },
   "outputs": [],
   "source": [
    "corn['Year'] = corn['Year'].apply(str)"
   ]
  },
  {
   "cell_type": "markdown",
   "metadata": {},
   "source": [
    "Verifying the above code worked"
   ]
  },
  {
   "cell_type": "code",
   "execution_count": 98,
   "metadata": {
    "collapsed": false
   },
   "outputs": [
    {
     "data": {
      "text/plain": [
       "str"
      ]
     },
     "execution_count": 98,
     "metadata": {},
     "output_type": "execute_result"
    }
   ],
   "source": [
    "type(corn['Year'][0])"
   ]
  },
  {
   "cell_type": "code",
   "execution_count": 99,
   "metadata": {
    "collapsed": false
   },
   "outputs": [
    {
     "data": {
      "text/plain": [
       "'1980.0'"
      ]
     },
     "execution_count": 99,
     "metadata": {},
     "output_type": "execute_result"
    }
   ],
   "source": [
    "corn['Year'][0]"
   ]
  },
  {
   "cell_type": "code",
   "execution_count": 100,
   "metadata": {
    "collapsed": true
   },
   "outputs": [],
   "source": [
    "corn['Year'] = corn['Year'].apply(lambda x: x.split('.')[0])"
   ]
  },
  {
   "cell_type": "code",
   "execution_count": 101,
   "metadata": {
    "collapsed": false
   },
   "outputs": [
    {
     "data": {
      "text/plain": [
       "'1980'"
      ]
     },
     "execution_count": 101,
     "metadata": {},
     "output_type": "execute_result"
    }
   ],
   "source": [
    "corn['Year'][0]"
   ]
  },
  {
   "cell_type": "markdown",
   "metadata": {},
   "source": [
    "** Convert the 'Year' column to a datetime object **"
   ]
  },
  {
   "cell_type": "code",
   "execution_count": 102,
   "metadata": {
    "collapsed": false
   },
   "outputs": [],
   "source": [
    "corn['Year'] = pd.to_datetime(corn['Year'], infer_datetime_format=True)"
   ]
  },
  {
   "cell_type": "code",
   "execution_count": 103,
   "metadata": {
    "collapsed": false
   },
   "outputs": [
    {
     "data": {
      "text/html": [
       "<div>\n",
       "<table border=\"1\" class=\"dataframe\">\n",
       "  <thead>\n",
       "    <tr style=\"text-align: right;\">\n",
       "      <th></th>\n",
       "      <th>Year</th>\n",
       "      <th>Jan_tmax</th>\n",
       "      <th>Feb_tmax</th>\n",
       "      <th>Mar_tmax</th>\n",
       "      <th>Apr_tmax</th>\n",
       "      <th>May_tmax</th>\n",
       "      <th>Jun_tmax</th>\n",
       "      <th>Jul_tmax</th>\n",
       "      <th>Aug_tmax</th>\n",
       "      <th>Sep_tmax</th>\n",
       "      <th>...</th>\n",
       "      <th>PRODUCED</th>\n",
       "      <th>BEGIN</th>\n",
       "      <th>TOTSUP</th>\n",
       "      <th>EXPORTS</th>\n",
       "      <th>FEED</th>\n",
       "      <th>FSI</th>\n",
       "      <th>CONS</th>\n",
       "      <th>ENDING</th>\n",
       "      <th>FPRICE</th>\n",
       "      <th>Ethanol</th>\n",
       "    </tr>\n",
       "  </thead>\n",
       "  <tbody>\n",
       "    <tr>\n",
       "      <th>0</th>\n",
       "      <td>1980-01-01</td>\n",
       "      <td>304.604651</td>\n",
       "      <td>298.058140</td>\n",
       "      <td>419.250000</td>\n",
       "      <td>611.581395</td>\n",
       "      <td>741.034884</td>\n",
       "      <td>816.360465</td>\n",
       "      <td>894.093023</td>\n",
       "      <td>853.906977</td>\n",
       "      <td>772.098837</td>\n",
       "      <td>...</td>\n",
       "      <td>6639.0</td>\n",
       "      <td>2034.0</td>\n",
       "      <td>8675.0</td>\n",
       "      <td>2391.0</td>\n",
       "      <td>4232.0</td>\n",
       "      <td>659.0</td>\n",
       "      <td>7282.0</td>\n",
       "      <td>1392.0</td>\n",
       "      <td>3.12</td>\n",
       "      <td>35.0</td>\n",
       "    </tr>\n",
       "    <tr>\n",
       "      <th>1</th>\n",
       "      <td>1981-01-01</td>\n",
       "      <td>347.028902</td>\n",
       "      <td>399.289017</td>\n",
       "      <td>513.040462</td>\n",
       "      <td>666.930636</td>\n",
       "      <td>686.184971</td>\n",
       "      <td>818.265896</td>\n",
       "      <td>838.728324</td>\n",
       "      <td>810.294798</td>\n",
       "      <td>749.173410</td>\n",
       "      <td>...</td>\n",
       "      <td>8119.0</td>\n",
       "      <td>1392.0</td>\n",
       "      <td>9511.0</td>\n",
       "      <td>1997.0</td>\n",
       "      <td>4245.0</td>\n",
       "      <td>733.0</td>\n",
       "      <td>6975.0</td>\n",
       "      <td>2537.0</td>\n",
       "      <td>2.47</td>\n",
       "      <td>86.0</td>\n",
       "    </tr>\n",
       "    <tr>\n",
       "      <th>2</th>\n",
       "      <td>1982-01-01</td>\n",
       "      <td>222.075000</td>\n",
       "      <td>319.181250</td>\n",
       "      <td>448.562500</td>\n",
       "      <td>569.743750</td>\n",
       "      <td>738.812500</td>\n",
       "      <td>756.750000</td>\n",
       "      <td>851.362500</td>\n",
       "      <td>811.625000</td>\n",
       "      <td>729.931250</td>\n",
       "      <td>...</td>\n",
       "      <td>8235.0</td>\n",
       "      <td>2537.0</td>\n",
       "      <td>10772.0</td>\n",
       "      <td>1821.0</td>\n",
       "      <td>4573.0</td>\n",
       "      <td>855.0</td>\n",
       "      <td>7249.0</td>\n",
       "      <td>3523.0</td>\n",
       "      <td>2.55</td>\n",
       "      <td>140.0</td>\n",
       "    </tr>\n",
       "    <tr>\n",
       "      <th>3</th>\n",
       "      <td>1983-01-01</td>\n",
       "      <td>325.353659</td>\n",
       "      <td>391.920732</td>\n",
       "      <td>458.615854</td>\n",
       "      <td>535.060976</td>\n",
       "      <td>675.115854</td>\n",
       "      <td>802.621951</td>\n",
       "      <td>890.926829</td>\n",
       "      <td>900.695122</td>\n",
       "      <td>778.585366</td>\n",
       "      <td>...</td>\n",
       "      <td>4174.0</td>\n",
       "      <td>3523.0</td>\n",
       "      <td>7699.0</td>\n",
       "      <td>1886.0</td>\n",
       "      <td>3876.0</td>\n",
       "      <td>930.0</td>\n",
       "      <td>6693.0</td>\n",
       "      <td>1006.0</td>\n",
       "      <td>3.21</td>\n",
       "      <td>160.0</td>\n",
       "    </tr>\n",
       "    <tr>\n",
       "      <th>4</th>\n",
       "      <td>1984-01-01</td>\n",
       "      <td>279.734177</td>\n",
       "      <td>420.525316</td>\n",
       "      <td>386.132911</td>\n",
       "      <td>567.702532</td>\n",
       "      <td>686.575949</td>\n",
       "      <td>824.164557</td>\n",
       "      <td>844.221519</td>\n",
       "      <td>863.170886</td>\n",
       "      <td>731.164557</td>\n",
       "      <td>...</td>\n",
       "      <td>7672.0</td>\n",
       "      <td>1006.0</td>\n",
       "      <td>8680.0</td>\n",
       "      <td>1850.0</td>\n",
       "      <td>4115.0</td>\n",
       "      <td>1067.0</td>\n",
       "      <td>7032.0</td>\n",
       "      <td>1648.0</td>\n",
       "      <td>2.63</td>\n",
       "      <td>232.0</td>\n",
       "    </tr>\n",
       "  </tbody>\n",
       "</table>\n",
       "<p>5 rows × 53 columns</p>\n",
       "</div>"
      ],
      "text/plain": [
       "        Year    Jan_tmax    Feb_tmax    Mar_tmax    Apr_tmax    May_tmax  \\\n",
       "0 1980-01-01  304.604651  298.058140  419.250000  611.581395  741.034884   \n",
       "1 1981-01-01  347.028902  399.289017  513.040462  666.930636  686.184971   \n",
       "2 1982-01-01  222.075000  319.181250  448.562500  569.743750  738.812500   \n",
       "3 1983-01-01  325.353659  391.920732  458.615854  535.060976  675.115854   \n",
       "4 1984-01-01  279.734177  420.525316  386.132911  567.702532  686.575949   \n",
       "\n",
       "     Jun_tmax    Jul_tmax    Aug_tmax    Sep_tmax   ...     PRODUCED   BEGIN  \\\n",
       "0  816.360465  894.093023  853.906977  772.098837   ...       6639.0  2034.0   \n",
       "1  818.265896  838.728324  810.294798  749.173410   ...       8119.0  1392.0   \n",
       "2  756.750000  851.362500  811.625000  729.931250   ...       8235.0  2537.0   \n",
       "3  802.621951  890.926829  900.695122  778.585366   ...       4174.0  3523.0   \n",
       "4  824.164557  844.221519  863.170886  731.164557   ...       7672.0  1006.0   \n",
       "\n",
       "    TOTSUP  EXPORTS    FEED     FSI    CONS  ENDING  FPRICE  Ethanol  \n",
       "0   8675.0   2391.0  4232.0   659.0  7282.0  1392.0    3.12     35.0  \n",
       "1   9511.0   1997.0  4245.0   733.0  6975.0  2537.0    2.47     86.0  \n",
       "2  10772.0   1821.0  4573.0   855.0  7249.0  3523.0    2.55    140.0  \n",
       "3   7699.0   1886.0  3876.0   930.0  6693.0  1006.0    3.21    160.0  \n",
       "4   8680.0   1850.0  4115.0  1067.0  7032.0  1648.0    2.63    232.0  \n",
       "\n",
       "[5 rows x 53 columns]"
      ]
     },
     "execution_count": 103,
     "metadata": {},
     "output_type": "execute_result"
    }
   ],
   "source": [
    "corn.head()"
   ]
  },
  {
   "cell_type": "markdown",
   "metadata": {},
   "source": [
    "** Set the index on the corn df to the 'Year' column **"
   ]
  },
  {
   "cell_type": "code",
   "execution_count": 104,
   "metadata": {
    "collapsed": true
   },
   "outputs": [],
   "source": [
    "corn = corn.set_index('Year')"
   ]
  },
  {
   "cell_type": "code",
   "execution_count": 105,
   "metadata": {
    "collapsed": false
   },
   "outputs": [
    {
     "data": {
      "text/html": [
       "<div>\n",
       "<table border=\"1\" class=\"dataframe\">\n",
       "  <thead>\n",
       "    <tr style=\"text-align: right;\">\n",
       "      <th></th>\n",
       "      <th>Jan_tmax</th>\n",
       "      <th>Feb_tmax</th>\n",
       "      <th>Mar_tmax</th>\n",
       "      <th>Apr_tmax</th>\n",
       "      <th>May_tmax</th>\n",
       "      <th>Jun_tmax</th>\n",
       "      <th>Jul_tmax</th>\n",
       "      <th>Aug_tmax</th>\n",
       "      <th>Sep_tmax</th>\n",
       "      <th>Oct_tmax</th>\n",
       "      <th>...</th>\n",
       "      <th>PRODUCED</th>\n",
       "      <th>BEGIN</th>\n",
       "      <th>TOTSUP</th>\n",
       "      <th>EXPORTS</th>\n",
       "      <th>FEED</th>\n",
       "      <th>FSI</th>\n",
       "      <th>CONS</th>\n",
       "      <th>ENDING</th>\n",
       "      <th>FPRICE</th>\n",
       "      <th>Ethanol</th>\n",
       "    </tr>\n",
       "    <tr>\n",
       "      <th>Year</th>\n",
       "      <th></th>\n",
       "      <th></th>\n",
       "      <th></th>\n",
       "      <th></th>\n",
       "      <th></th>\n",
       "      <th></th>\n",
       "      <th></th>\n",
       "      <th></th>\n",
       "      <th></th>\n",
       "      <th></th>\n",
       "      <th></th>\n",
       "      <th></th>\n",
       "      <th></th>\n",
       "      <th></th>\n",
       "      <th></th>\n",
       "      <th></th>\n",
       "      <th></th>\n",
       "      <th></th>\n",
       "      <th></th>\n",
       "      <th></th>\n",
       "      <th></th>\n",
       "    </tr>\n",
       "  </thead>\n",
       "  <tbody>\n",
       "    <tr>\n",
       "      <th>1980-01-01</th>\n",
       "      <td>304.604651</td>\n",
       "      <td>298.058140</td>\n",
       "      <td>419.250000</td>\n",
       "      <td>611.581395</td>\n",
       "      <td>741.034884</td>\n",
       "      <td>816.360465</td>\n",
       "      <td>894.093023</td>\n",
       "      <td>853.906977</td>\n",
       "      <td>772.098837</td>\n",
       "      <td>613.279070</td>\n",
       "      <td>...</td>\n",
       "      <td>6639.0</td>\n",
       "      <td>2034.0</td>\n",
       "      <td>8675.0</td>\n",
       "      <td>2391.0</td>\n",
       "      <td>4232.0</td>\n",
       "      <td>659.0</td>\n",
       "      <td>7282.0</td>\n",
       "      <td>1392.0</td>\n",
       "      <td>3.12</td>\n",
       "      <td>35.0</td>\n",
       "    </tr>\n",
       "    <tr>\n",
       "      <th>1981-01-01</th>\n",
       "      <td>347.028902</td>\n",
       "      <td>399.289017</td>\n",
       "      <td>513.040462</td>\n",
       "      <td>666.930636</td>\n",
       "      <td>686.184971</td>\n",
       "      <td>818.265896</td>\n",
       "      <td>838.728324</td>\n",
       "      <td>810.294798</td>\n",
       "      <td>749.173410</td>\n",
       "      <td>605.335260</td>\n",
       "      <td>...</td>\n",
       "      <td>8119.0</td>\n",
       "      <td>1392.0</td>\n",
       "      <td>9511.0</td>\n",
       "      <td>1997.0</td>\n",
       "      <td>4245.0</td>\n",
       "      <td>733.0</td>\n",
       "      <td>6975.0</td>\n",
       "      <td>2537.0</td>\n",
       "      <td>2.47</td>\n",
       "      <td>86.0</td>\n",
       "    </tr>\n",
       "    <tr>\n",
       "      <th>1982-01-01</th>\n",
       "      <td>222.075000</td>\n",
       "      <td>319.181250</td>\n",
       "      <td>448.562500</td>\n",
       "      <td>569.743750</td>\n",
       "      <td>738.812500</td>\n",
       "      <td>756.750000</td>\n",
       "      <td>851.362500</td>\n",
       "      <td>811.625000</td>\n",
       "      <td>729.931250</td>\n",
       "      <td>636.381250</td>\n",
       "      <td>...</td>\n",
       "      <td>8235.0</td>\n",
       "      <td>2537.0</td>\n",
       "      <td>10772.0</td>\n",
       "      <td>1821.0</td>\n",
       "      <td>4573.0</td>\n",
       "      <td>855.0</td>\n",
       "      <td>7249.0</td>\n",
       "      <td>3523.0</td>\n",
       "      <td>2.55</td>\n",
       "      <td>140.0</td>\n",
       "    </tr>\n",
       "    <tr>\n",
       "      <th>1983-01-01</th>\n",
       "      <td>325.353659</td>\n",
       "      <td>391.920732</td>\n",
       "      <td>458.615854</td>\n",
       "      <td>535.060976</td>\n",
       "      <td>675.115854</td>\n",
       "      <td>802.621951</td>\n",
       "      <td>890.926829</td>\n",
       "      <td>900.695122</td>\n",
       "      <td>778.585366</td>\n",
       "      <td>626.939024</td>\n",
       "      <td>...</td>\n",
       "      <td>4174.0</td>\n",
       "      <td>3523.0</td>\n",
       "      <td>7699.0</td>\n",
       "      <td>1886.0</td>\n",
       "      <td>3876.0</td>\n",
       "      <td>930.0</td>\n",
       "      <td>6693.0</td>\n",
       "      <td>1006.0</td>\n",
       "      <td>3.21</td>\n",
       "      <td>160.0</td>\n",
       "    </tr>\n",
       "    <tr>\n",
       "      <th>1984-01-01</th>\n",
       "      <td>279.734177</td>\n",
       "      <td>420.525316</td>\n",
       "      <td>386.132911</td>\n",
       "      <td>567.702532</td>\n",
       "      <td>686.575949</td>\n",
       "      <td>824.164557</td>\n",
       "      <td>844.221519</td>\n",
       "      <td>863.170886</td>\n",
       "      <td>731.164557</td>\n",
       "      <td>632.987342</td>\n",
       "      <td>...</td>\n",
       "      <td>7672.0</td>\n",
       "      <td>1006.0</td>\n",
       "      <td>8680.0</td>\n",
       "      <td>1850.0</td>\n",
       "      <td>4115.0</td>\n",
       "      <td>1067.0</td>\n",
       "      <td>7032.0</td>\n",
       "      <td>1648.0</td>\n",
       "      <td>2.63</td>\n",
       "      <td>232.0</td>\n",
       "    </tr>\n",
       "  </tbody>\n",
       "</table>\n",
       "<p>5 rows × 52 columns</p>\n",
       "</div>"
      ],
      "text/plain": [
       "              Jan_tmax    Feb_tmax    Mar_tmax    Apr_tmax    May_tmax  \\\n",
       "Year                                                                     \n",
       "1980-01-01  304.604651  298.058140  419.250000  611.581395  741.034884   \n",
       "1981-01-01  347.028902  399.289017  513.040462  666.930636  686.184971   \n",
       "1982-01-01  222.075000  319.181250  448.562500  569.743750  738.812500   \n",
       "1983-01-01  325.353659  391.920732  458.615854  535.060976  675.115854   \n",
       "1984-01-01  279.734177  420.525316  386.132911  567.702532  686.575949   \n",
       "\n",
       "              Jun_tmax    Jul_tmax    Aug_tmax    Sep_tmax    Oct_tmax  \\\n",
       "Year                                                                     \n",
       "1980-01-01  816.360465  894.093023  853.906977  772.098837  613.279070   \n",
       "1981-01-01  818.265896  838.728324  810.294798  749.173410  605.335260   \n",
       "1982-01-01  756.750000  851.362500  811.625000  729.931250  636.381250   \n",
       "1983-01-01  802.621951  890.926829  900.695122  778.585366  626.939024   \n",
       "1984-01-01  824.164557  844.221519  863.170886  731.164557  632.987342   \n",
       "\n",
       "             ...     PRODUCED   BEGIN   TOTSUP  EXPORTS    FEED     FSI  \\\n",
       "Year         ...                                                          \n",
       "1980-01-01   ...       6639.0  2034.0   8675.0   2391.0  4232.0   659.0   \n",
       "1981-01-01   ...       8119.0  1392.0   9511.0   1997.0  4245.0   733.0   \n",
       "1982-01-01   ...       8235.0  2537.0  10772.0   1821.0  4573.0   855.0   \n",
       "1983-01-01   ...       4174.0  3523.0   7699.0   1886.0  3876.0   930.0   \n",
       "1984-01-01   ...       7672.0  1006.0   8680.0   1850.0  4115.0  1067.0   \n",
       "\n",
       "              CONS  ENDING  FPRICE  Ethanol  \n",
       "Year                                         \n",
       "1980-01-01  7282.0  1392.0    3.12     35.0  \n",
       "1981-01-01  6975.0  2537.0    2.47     86.0  \n",
       "1982-01-01  7249.0  3523.0    2.55    140.0  \n",
       "1983-01-01  6693.0  1006.0    3.21    160.0  \n",
       "1984-01-01  7032.0  1648.0    2.63    232.0  \n",
       "\n",
       "[5 rows x 52 columns]"
      ]
     },
     "execution_count": 105,
     "metadata": {},
     "output_type": "execute_result"
    }
   ],
   "source": [
    "corn.head()"
   ]
  },
  {
   "cell_type": "markdown",
   "metadata": {},
   "source": [
    "Verfiy that were now working with a timeseries index"
   ]
  },
  {
   "cell_type": "code",
   "execution_count": 92,
   "metadata": {
    "collapsed": false
   },
   "outputs": [
    {
     "data": {
      "text/plain": [
       "pandas.tseries.index.DatetimeIndex"
      ]
     },
     "execution_count": 92,
     "metadata": {},
     "output_type": "execute_result"
    }
   ],
   "source": [
    "type(corn.index)"
   ]
  },
  {
   "cell_type": "code",
   "execution_count": null,
   "metadata": {
    "collapsed": true
   },
   "outputs": [],
   "source": []
  },
  {
   "cell_type": "code",
   "execution_count": 106,
   "metadata": {
    "collapsed": false
   },
   "outputs": [
    {
     "name": "stdout",
     "output_type": "stream",
     "text": [
      "<class 'pandas.core.frame.DataFrame'>\n",
      "DatetimeIndex: 35 entries, 1980-01-01 to 2014-01-01\n",
      "Data columns (total 52 columns):\n",
      "Jan_tmax          35 non-null float64\n",
      "Feb_tmax          35 non-null float64\n",
      "Mar_tmax          35 non-null float64\n",
      "Apr_tmax          35 non-null float64\n",
      "May_tmax          35 non-null float64\n",
      "Jun_tmax          35 non-null float64\n",
      "Jul_tmax          35 non-null float64\n",
      "Aug_tmax          35 non-null float64\n",
      "Sep_tmax          35 non-null float64\n",
      "Oct_tmax          35 non-null float64\n",
      "Nov_tmax          35 non-null float64\n",
      "Dec_tmax          35 non-null float64\n",
      "Avg/Total_tmax    35 non-null float64\n",
      "Jan_tmin          35 non-null float64\n",
      "Feb_tmin          35 non-null float64\n",
      "Mar_tmin          35 non-null float64\n",
      "Apr_tmin          35 non-null float64\n",
      "May_tmin          35 non-null float64\n",
      "Jun_tmin          35 non-null float64\n",
      "Jul_tmin          35 non-null float64\n",
      "Aug_tmin          35 non-null float64\n",
      "Sep_tmin          35 non-null float64\n",
      "Oct_tmin          35 non-null float64\n",
      "Nov_tmin          35 non-null float64\n",
      "Dec_tmin          35 non-null float64\n",
      "Avg/Total_tmin    35 non-null float64\n",
      "Jan_pr            35 non-null float64\n",
      "Feb_pr            35 non-null float64\n",
      "Mar_pr            35 non-null float64\n",
      "Apr_pr            35 non-null float64\n",
      "May_pr            35 non-null float64\n",
      "Jun_pr            35 non-null float64\n",
      "Jul_pr            35 non-null float64\n",
      "Aug_pr            35 non-null float64\n",
      "Sep_pr            35 non-null float64\n",
      "Oct_pr            35 non-null float64\n",
      "Nov_pr            35 non-null float64\n",
      "Dec_pr            35 non-null float64\n",
      "Avg/Total_pr      35 non-null float64\n",
      "PLANTED           35 non-null float64\n",
      "HARVEST           35 non-null float64\n",
      "YIELD             35 non-null float64\n",
      "PRODUCED          35 non-null float64\n",
      "BEGIN             35 non-null float64\n",
      "TOTSUP            35 non-null float64\n",
      "EXPORTS           35 non-null float64\n",
      "FEED              35 non-null float64\n",
      "FSI               35 non-null float64\n",
      "CONS              35 non-null float64\n",
      "ENDING            35 non-null float64\n",
      "FPRICE            35 non-null float64\n",
      "Ethanol           35 non-null float64\n",
      "dtypes: float64(52)\n",
      "memory usage: 14.5 KB\n"
     ]
    }
   ],
   "source": [
    "corn.info()"
   ]
  },
  {
   "cell_type": "markdown",
   "metadata": {},
   "source": [
    "### Standardizing the feature columns within the corn dataframe"
   ]
  },
  {
   "cell_type": "markdown",
   "metadata": {},
   "source": [
    "Import StandardScaler from Scikitlearn"
   ]
  },
  {
   "cell_type": "code",
   "execution_count": 125,
   "metadata": {
    "collapsed": true
   },
   "outputs": [],
   "source": [
    "from sklearn.preprocessing import StandardScaler"
   ]
  },
  {
   "cell_type": "markdown",
   "metadata": {},
   "source": [
    "Create a StandardScaler() object called scaler"
   ]
  },
  {
   "cell_type": "code",
   "execution_count": 126,
   "metadata": {
    "collapsed": true
   },
   "outputs": [],
   "source": [
    "scaler = StandardScaler()"
   ]
  },
  {
   "cell_type": "markdown",
   "metadata": {},
   "source": [
    "Fit scaler to the features"
   ]
  },
  {
   "cell_type": "code",
   "execution_count": 127,
   "metadata": {
    "collapsed": false
   },
   "outputs": [
    {
     "data": {
      "text/plain": [
       "StandardScaler(copy=True, with_mean=True, with_std=True)"
      ]
     },
     "execution_count": 127,
     "metadata": {},
     "output_type": "execute_result"
    }
   ],
   "source": [
    "scaler.fit(corn.drop('FPRICE', axis=1))"
   ]
  },
  {
   "cell_type": "markdown",
   "metadata": {},
   "source": [
    "Use the `.transform()` method to to transform the features to a scaled version"
   ]
  },
  {
   "cell_type": "code",
   "execution_count": 128,
   "metadata": {
    "collapsed": false
   },
   "outputs": [],
   "source": [
    "scaled_features = scaler.transform(corn.drop('FPRICE', axis=1))"
   ]
  },
  {
   "cell_type": "markdown",
   "metadata": {},
   "source": [
    "Check out the scaled_features matrix"
   ]
  },
  {
   "cell_type": "code",
   "execution_count": 129,
   "metadata": {
    "collapsed": false
   },
   "outputs": [
    {
     "data": {
      "text/plain": [
       "array([[-0.26156849, -1.20877877, -1.27155066, ..., -1.03205732,\n",
       "        -0.37630039, -0.81849771],\n",
       "       [ 0.59875655,  0.69404477,  0.67393433, ..., -1.17526904,\n",
       "         0.78945703, -0.78946075],\n",
       "       [-1.93519441, -0.81173043, -0.66352478, ..., -1.04745142,\n",
       "         1.79333198, -0.75871573],\n",
       "       ..., \n",
       "       [ 1.44096928,  0.82981423,  3.32171282, ...,  0.74106231,\n",
       "        -0.9576519 ,  1.80401101],\n",
       "       [ 0.51445838, -0.22055481, -1.49345807, ...,  1.84710458,\n",
       "        -0.53920099,  2.07875933],\n",
       "       [-0.53291587, -1.66234984, -0.88461284, ...,  1.98425196,\n",
       "        -0.03115474,  2.12225784]])"
      ]
     },
     "execution_count": 129,
     "metadata": {},
     "output_type": "execute_result"
    }
   ],
   "source": [
    "scaled_features"
   ]
  },
  {
   "cell_type": "markdown",
   "metadata": {},
   "source": [
    "Convert scaled_features to a dataframe and check the head"
   ]
  },
  {
   "cell_type": "code",
   "execution_count": 136,
   "metadata": {
    "collapsed": false
   },
   "outputs": [],
   "source": [
    "cs = pd.DataFrame(scaled_features, columns=corn.drop('FPRICE', axis=1).columns)"
   ]
  },
  {
   "cell_type": "code",
   "execution_count": 139,
   "metadata": {
    "collapsed": false
   },
   "outputs": [
    {
     "data": {
      "text/html": [
       "<div>\n",
       "<table border=\"1\" class=\"dataframe\">\n",
       "  <thead>\n",
       "    <tr style=\"text-align: right;\">\n",
       "      <th></th>\n",
       "      <th>Jan_tmax</th>\n",
       "      <th>Feb_tmax</th>\n",
       "      <th>Mar_tmax</th>\n",
       "      <th>Apr_tmax</th>\n",
       "      <th>May_tmax</th>\n",
       "      <th>Jun_tmax</th>\n",
       "      <th>Jul_tmax</th>\n",
       "      <th>Aug_tmax</th>\n",
       "      <th>Sep_tmax</th>\n",
       "      <th>Oct_tmax</th>\n",
       "      <th>...</th>\n",
       "      <th>YIELD</th>\n",
       "      <th>PRODUCED</th>\n",
       "      <th>BEGIN</th>\n",
       "      <th>TOTSUP</th>\n",
       "      <th>EXPORTS</th>\n",
       "      <th>FEED</th>\n",
       "      <th>FSI</th>\n",
       "      <th>CONS</th>\n",
       "      <th>ENDING</th>\n",
       "      <th>Ethanol</th>\n",
       "    </tr>\n",
       "  </thead>\n",
       "  <tbody>\n",
       "    <tr>\n",
       "      <th>0</th>\n",
       "      <td>-0.261568</td>\n",
       "      <td>-1.208779</td>\n",
       "      <td>-1.271551</td>\n",
       "      <td>-0.053803</td>\n",
       "      <td>0.672712</td>\n",
       "      <td>0.240736</td>\n",
       "      <td>1.489350</td>\n",
       "      <td>0.789751</td>\n",
       "      <td>0.541470</td>\n",
       "      <td>-0.622868</td>\n",
       "      <td>...</td>\n",
       "      <td>-1.728805</td>\n",
       "      <td>-1.190893</td>\n",
       "      <td>0.268244</td>\n",
       "      <td>-1.269583</td>\n",
       "      <td>1.664195</td>\n",
       "      <td>-1.206803</td>\n",
       "      <td>-1.043144</td>\n",
       "      <td>-1.032057</td>\n",
       "      <td>-0.376300</td>\n",
       "      <td>-0.818498</td>\n",
       "    </tr>\n",
       "    <tr>\n",
       "      <th>1</th>\n",
       "      <td>0.598757</td>\n",
       "      <td>0.694045</td>\n",
       "      <td>0.673934</td>\n",
       "      <td>1.498129</td>\n",
       "      <td>-1.093146</td>\n",
       "      <td>0.320190</td>\n",
       "      <td>-0.459213</td>\n",
       "      <td>-0.831874</td>\n",
       "      <td>-0.332024</td>\n",
       "      <td>-0.901915</td>\n",
       "      <td>...</td>\n",
       "      <td>-0.915242</td>\n",
       "      <td>-0.568289</td>\n",
       "      <td>-0.384712</td>\n",
       "      <td>-0.858376</td>\n",
       "      <td>0.482341</td>\n",
       "      <td>-1.186625</td>\n",
       "      <td>-1.004344</td>\n",
       "      <td>-1.175269</td>\n",
       "      <td>0.789457</td>\n",
       "      <td>-0.789461</td>\n",
       "    </tr>\n",
       "    <tr>\n",
       "      <th>2</th>\n",
       "      <td>-1.935194</td>\n",
       "      <td>-0.811730</td>\n",
       "      <td>-0.663525</td>\n",
       "      <td>-1.226884</td>\n",
       "      <td>0.601164</td>\n",
       "      <td>-2.244956</td>\n",
       "      <td>-0.014553</td>\n",
       "      <td>-0.782413</td>\n",
       "      <td>-1.065179</td>\n",
       "      <td>0.188657</td>\n",
       "      <td>...</td>\n",
       "      <td>-0.719805</td>\n",
       "      <td>-0.519490</td>\n",
       "      <td>0.779828</td>\n",
       "      <td>-0.238123</td>\n",
       "      <td>-0.045594</td>\n",
       "      <td>-0.677527</td>\n",
       "      <td>-0.940378</td>\n",
       "      <td>-1.047451</td>\n",
       "      <td>1.793332</td>\n",
       "      <td>-0.758716</td>\n",
       "    </tr>\n",
       "    <tr>\n",
       "      <th>3</th>\n",
       "      <td>0.159202</td>\n",
       "      <td>0.555544</td>\n",
       "      <td>-0.454989</td>\n",
       "      <td>-2.199351</td>\n",
       "      <td>-1.449509</td>\n",
       "      <td>-0.332145</td>\n",
       "      <td>1.377915</td>\n",
       "      <td>2.529468</td>\n",
       "      <td>0.788616</td>\n",
       "      <td>-0.143026</td>\n",
       "      <td>...</td>\n",
       "      <td>-2.178764</td>\n",
       "      <td>-2.227866</td>\n",
       "      <td>1.782654</td>\n",
       "      <td>-1.749652</td>\n",
       "      <td>0.149382</td>\n",
       "      <td>-1.759361</td>\n",
       "      <td>-0.901055</td>\n",
       "      <td>-1.306819</td>\n",
       "      <td>-0.769298</td>\n",
       "      <td>-0.747329</td>\n",
       "    </tr>\n",
       "    <tr>\n",
       "      <th>4</th>\n",
       "      <td>-0.765919</td>\n",
       "      <td>1.093221</td>\n",
       "      <td>-1.958495</td>\n",
       "      <td>-1.284118</td>\n",
       "      <td>-1.080558</td>\n",
       "      <td>0.566158</td>\n",
       "      <td>-0.265880</td>\n",
       "      <td>1.134210</td>\n",
       "      <td>-1.018188</td>\n",
       "      <td>0.069437</td>\n",
       "      <td>...</td>\n",
       "      <td>-1.015233</td>\n",
       "      <td>-0.756332</td>\n",
       "      <td>-0.777299</td>\n",
       "      <td>-1.267123</td>\n",
       "      <td>0.041395</td>\n",
       "      <td>-1.388402</td>\n",
       "      <td>-0.829224</td>\n",
       "      <td>-1.148679</td>\n",
       "      <td>-0.115659</td>\n",
       "      <td>-0.706335</td>\n",
       "    </tr>\n",
       "  </tbody>\n",
       "</table>\n",
       "<p>5 rows × 51 columns</p>\n",
       "</div>"
      ],
      "text/plain": [
       "   Jan_tmax  Feb_tmax  Mar_tmax  Apr_tmax  May_tmax  Jun_tmax  Jul_tmax  \\\n",
       "0 -0.261568 -1.208779 -1.271551 -0.053803  0.672712  0.240736  1.489350   \n",
       "1  0.598757  0.694045  0.673934  1.498129 -1.093146  0.320190 -0.459213   \n",
       "2 -1.935194 -0.811730 -0.663525 -1.226884  0.601164 -2.244956 -0.014553   \n",
       "3  0.159202  0.555544 -0.454989 -2.199351 -1.449509 -0.332145  1.377915   \n",
       "4 -0.765919  1.093221 -1.958495 -1.284118 -1.080558  0.566158 -0.265880   \n",
       "\n",
       "   Aug_tmax  Sep_tmax  Oct_tmax    ...        YIELD  PRODUCED     BEGIN  \\\n",
       "0  0.789751  0.541470 -0.622868    ...    -1.728805 -1.190893  0.268244   \n",
       "1 -0.831874 -0.332024 -0.901915    ...    -0.915242 -0.568289 -0.384712   \n",
       "2 -0.782413 -1.065179  0.188657    ...    -0.719805 -0.519490  0.779828   \n",
       "3  2.529468  0.788616 -0.143026    ...    -2.178764 -2.227866  1.782654   \n",
       "4  1.134210 -1.018188  0.069437    ...    -1.015233 -0.756332 -0.777299   \n",
       "\n",
       "     TOTSUP   EXPORTS      FEED       FSI      CONS    ENDING   Ethanol  \n",
       "0 -1.269583  1.664195 -1.206803 -1.043144 -1.032057 -0.376300 -0.818498  \n",
       "1 -0.858376  0.482341 -1.186625 -1.004344 -1.175269  0.789457 -0.789461  \n",
       "2 -0.238123 -0.045594 -0.677527 -0.940378 -1.047451  1.793332 -0.758716  \n",
       "3 -1.749652  0.149382 -1.759361 -0.901055 -1.306819 -0.769298 -0.747329  \n",
       "4 -1.267123  0.041395 -1.388402 -0.829224 -1.148679 -0.115659 -0.706335  \n",
       "\n",
       "[5 rows x 51 columns]"
      ]
     },
     "execution_count": 139,
     "metadata": {},
     "output_type": "execute_result"
    }
   ],
   "source": [
    "cs.head()"
   ]
  },
  {
   "cell_type": "markdown",
   "metadata": {},
   "source": [
    "Call the `.set_index()` method to persist the corn.index"
   ]
  },
  {
   "cell_type": "code",
   "execution_count": 141,
   "metadata": {
    "collapsed": false
   },
   "outputs": [],
   "source": [
    "cs = cs.set_index(corn.index)"
   ]
  },
  {
   "cell_type": "code",
   "execution_count": 142,
   "metadata": {
    "collapsed": false
   },
   "outputs": [
    {
     "data": {
      "text/html": [
       "<div>\n",
       "<table border=\"1\" class=\"dataframe\">\n",
       "  <thead>\n",
       "    <tr style=\"text-align: right;\">\n",
       "      <th></th>\n",
       "      <th>Jan_tmax</th>\n",
       "      <th>Feb_tmax</th>\n",
       "      <th>Mar_tmax</th>\n",
       "      <th>Apr_tmax</th>\n",
       "      <th>May_tmax</th>\n",
       "      <th>Jun_tmax</th>\n",
       "      <th>Jul_tmax</th>\n",
       "      <th>Aug_tmax</th>\n",
       "      <th>Sep_tmax</th>\n",
       "      <th>Oct_tmax</th>\n",
       "      <th>...</th>\n",
       "      <th>YIELD</th>\n",
       "      <th>PRODUCED</th>\n",
       "      <th>BEGIN</th>\n",
       "      <th>TOTSUP</th>\n",
       "      <th>EXPORTS</th>\n",
       "      <th>FEED</th>\n",
       "      <th>FSI</th>\n",
       "      <th>CONS</th>\n",
       "      <th>ENDING</th>\n",
       "      <th>Ethanol</th>\n",
       "    </tr>\n",
       "    <tr>\n",
       "      <th>Year</th>\n",
       "      <th></th>\n",
       "      <th></th>\n",
       "      <th></th>\n",
       "      <th></th>\n",
       "      <th></th>\n",
       "      <th></th>\n",
       "      <th></th>\n",
       "      <th></th>\n",
       "      <th></th>\n",
       "      <th></th>\n",
       "      <th></th>\n",
       "      <th></th>\n",
       "      <th></th>\n",
       "      <th></th>\n",
       "      <th></th>\n",
       "      <th></th>\n",
       "      <th></th>\n",
       "      <th></th>\n",
       "      <th></th>\n",
       "      <th></th>\n",
       "      <th></th>\n",
       "    </tr>\n",
       "  </thead>\n",
       "  <tbody>\n",
       "    <tr>\n",
       "      <th>1980-01-01</th>\n",
       "      <td>-0.261568</td>\n",
       "      <td>-1.208779</td>\n",
       "      <td>-1.271551</td>\n",
       "      <td>-0.053803</td>\n",
       "      <td>0.672712</td>\n",
       "      <td>0.240736</td>\n",
       "      <td>1.489350</td>\n",
       "      <td>0.789751</td>\n",
       "      <td>0.541470</td>\n",
       "      <td>-0.622868</td>\n",
       "      <td>...</td>\n",
       "      <td>-1.728805</td>\n",
       "      <td>-1.190893</td>\n",
       "      <td>0.268244</td>\n",
       "      <td>-1.269583</td>\n",
       "      <td>1.664195</td>\n",
       "      <td>-1.206803</td>\n",
       "      <td>-1.043144</td>\n",
       "      <td>-1.032057</td>\n",
       "      <td>-0.376300</td>\n",
       "      <td>-0.818498</td>\n",
       "    </tr>\n",
       "    <tr>\n",
       "      <th>1981-01-01</th>\n",
       "      <td>0.598757</td>\n",
       "      <td>0.694045</td>\n",
       "      <td>0.673934</td>\n",
       "      <td>1.498129</td>\n",
       "      <td>-1.093146</td>\n",
       "      <td>0.320190</td>\n",
       "      <td>-0.459213</td>\n",
       "      <td>-0.831874</td>\n",
       "      <td>-0.332024</td>\n",
       "      <td>-0.901915</td>\n",
       "      <td>...</td>\n",
       "      <td>-0.915242</td>\n",
       "      <td>-0.568289</td>\n",
       "      <td>-0.384712</td>\n",
       "      <td>-0.858376</td>\n",
       "      <td>0.482341</td>\n",
       "      <td>-1.186625</td>\n",
       "      <td>-1.004344</td>\n",
       "      <td>-1.175269</td>\n",
       "      <td>0.789457</td>\n",
       "      <td>-0.789461</td>\n",
       "    </tr>\n",
       "    <tr>\n",
       "      <th>1982-01-01</th>\n",
       "      <td>-1.935194</td>\n",
       "      <td>-0.811730</td>\n",
       "      <td>-0.663525</td>\n",
       "      <td>-1.226884</td>\n",
       "      <td>0.601164</td>\n",
       "      <td>-2.244956</td>\n",
       "      <td>-0.014553</td>\n",
       "      <td>-0.782413</td>\n",
       "      <td>-1.065179</td>\n",
       "      <td>0.188657</td>\n",
       "      <td>...</td>\n",
       "      <td>-0.719805</td>\n",
       "      <td>-0.519490</td>\n",
       "      <td>0.779828</td>\n",
       "      <td>-0.238123</td>\n",
       "      <td>-0.045594</td>\n",
       "      <td>-0.677527</td>\n",
       "      <td>-0.940378</td>\n",
       "      <td>-1.047451</td>\n",
       "      <td>1.793332</td>\n",
       "      <td>-0.758716</td>\n",
       "    </tr>\n",
       "    <tr>\n",
       "      <th>1983-01-01</th>\n",
       "      <td>0.159202</td>\n",
       "      <td>0.555544</td>\n",
       "      <td>-0.454989</td>\n",
       "      <td>-2.199351</td>\n",
       "      <td>-1.449509</td>\n",
       "      <td>-0.332145</td>\n",
       "      <td>1.377915</td>\n",
       "      <td>2.529468</td>\n",
       "      <td>0.788616</td>\n",
       "      <td>-0.143026</td>\n",
       "      <td>...</td>\n",
       "      <td>-2.178764</td>\n",
       "      <td>-2.227866</td>\n",
       "      <td>1.782654</td>\n",
       "      <td>-1.749652</td>\n",
       "      <td>0.149382</td>\n",
       "      <td>-1.759361</td>\n",
       "      <td>-0.901055</td>\n",
       "      <td>-1.306819</td>\n",
       "      <td>-0.769298</td>\n",
       "      <td>-0.747329</td>\n",
       "    </tr>\n",
       "    <tr>\n",
       "      <th>1984-01-01</th>\n",
       "      <td>-0.765919</td>\n",
       "      <td>1.093221</td>\n",
       "      <td>-1.958495</td>\n",
       "      <td>-1.284118</td>\n",
       "      <td>-1.080558</td>\n",
       "      <td>0.566158</td>\n",
       "      <td>-0.265880</td>\n",
       "      <td>1.134210</td>\n",
       "      <td>-1.018188</td>\n",
       "      <td>0.069437</td>\n",
       "      <td>...</td>\n",
       "      <td>-1.015233</td>\n",
       "      <td>-0.756332</td>\n",
       "      <td>-0.777299</td>\n",
       "      <td>-1.267123</td>\n",
       "      <td>0.041395</td>\n",
       "      <td>-1.388402</td>\n",
       "      <td>-0.829224</td>\n",
       "      <td>-1.148679</td>\n",
       "      <td>-0.115659</td>\n",
       "      <td>-0.706335</td>\n",
       "    </tr>\n",
       "  </tbody>\n",
       "</table>\n",
       "<p>5 rows × 51 columns</p>\n",
       "</div>"
      ],
      "text/plain": [
       "            Jan_tmax  Feb_tmax  Mar_tmax  Apr_tmax  May_tmax  Jun_tmax  \\\n",
       "Year                                                                     \n",
       "1980-01-01 -0.261568 -1.208779 -1.271551 -0.053803  0.672712  0.240736   \n",
       "1981-01-01  0.598757  0.694045  0.673934  1.498129 -1.093146  0.320190   \n",
       "1982-01-01 -1.935194 -0.811730 -0.663525 -1.226884  0.601164 -2.244956   \n",
       "1983-01-01  0.159202  0.555544 -0.454989 -2.199351 -1.449509 -0.332145   \n",
       "1984-01-01 -0.765919  1.093221 -1.958495 -1.284118 -1.080558  0.566158   \n",
       "\n",
       "            Jul_tmax  Aug_tmax  Sep_tmax  Oct_tmax    ...        YIELD  \\\n",
       "Year                                                  ...                \n",
       "1980-01-01  1.489350  0.789751  0.541470 -0.622868    ...    -1.728805   \n",
       "1981-01-01 -0.459213 -0.831874 -0.332024 -0.901915    ...    -0.915242   \n",
       "1982-01-01 -0.014553 -0.782413 -1.065179  0.188657    ...    -0.719805   \n",
       "1983-01-01  1.377915  2.529468  0.788616 -0.143026    ...    -2.178764   \n",
       "1984-01-01 -0.265880  1.134210 -1.018188  0.069437    ...    -1.015233   \n",
       "\n",
       "            PRODUCED     BEGIN    TOTSUP   EXPORTS      FEED       FSI  \\\n",
       "Year                                                                     \n",
       "1980-01-01 -1.190893  0.268244 -1.269583  1.664195 -1.206803 -1.043144   \n",
       "1981-01-01 -0.568289 -0.384712 -0.858376  0.482341 -1.186625 -1.004344   \n",
       "1982-01-01 -0.519490  0.779828 -0.238123 -0.045594 -0.677527 -0.940378   \n",
       "1983-01-01 -2.227866  1.782654 -1.749652  0.149382 -1.759361 -0.901055   \n",
       "1984-01-01 -0.756332 -0.777299 -1.267123  0.041395 -1.388402 -0.829224   \n",
       "\n",
       "                CONS    ENDING   Ethanol  \n",
       "Year                                      \n",
       "1980-01-01 -1.032057 -0.376300 -0.818498  \n",
       "1981-01-01 -1.175269  0.789457 -0.789461  \n",
       "1982-01-01 -1.047451  1.793332 -0.758716  \n",
       "1983-01-01 -1.306819 -0.769298 -0.747329  \n",
       "1984-01-01 -1.148679 -0.115659 -0.706335  \n",
       "\n",
       "[5 rows x 51 columns]"
      ]
     },
     "execution_count": 142,
     "metadata": {},
     "output_type": "execute_result"
    }
   ],
   "source": [
    "cs.head()"
   ]
  },
  {
   "cell_type": "markdown",
   "metadata": {},
   "source": [
    "** Reattach the FPRICE column **"
   ]
  },
  {
   "cell_type": "markdown",
   "metadata": {},
   "source": [
    "To make this operation a bit simpler, we will assign the 'FPRICE' to its own dataframe (fp)"
   ]
  },
  {
   "cell_type": "code",
   "execution_count": 153,
   "metadata": {
    "collapsed": true
   },
   "outputs": [],
   "source": [
    "fp = corn[['FPRICE']]"
   ]
  },
  {
   "cell_type": "code",
   "execution_count": 155,
   "metadata": {
    "collapsed": false
   },
   "outputs": [
    {
     "data": {
      "text/html": [
       "<div>\n",
       "<table border=\"1\" class=\"dataframe\">\n",
       "  <thead>\n",
       "    <tr style=\"text-align: right;\">\n",
       "      <th></th>\n",
       "      <th>FPRICE</th>\n",
       "    </tr>\n",
       "    <tr>\n",
       "      <th>Year</th>\n",
       "      <th></th>\n",
       "    </tr>\n",
       "  </thead>\n",
       "  <tbody>\n",
       "    <tr>\n",
       "      <th>1980-01-01</th>\n",
       "      <td>3.12</td>\n",
       "    </tr>\n",
       "    <tr>\n",
       "      <th>1981-01-01</th>\n",
       "      <td>2.47</td>\n",
       "    </tr>\n",
       "    <tr>\n",
       "      <th>1982-01-01</th>\n",
       "      <td>2.55</td>\n",
       "    </tr>\n",
       "    <tr>\n",
       "      <th>1983-01-01</th>\n",
       "      <td>3.21</td>\n",
       "    </tr>\n",
       "    <tr>\n",
       "      <th>1984-01-01</th>\n",
       "      <td>2.63</td>\n",
       "    </tr>\n",
       "  </tbody>\n",
       "</table>\n",
       "</div>"
      ],
      "text/plain": [
       "            FPRICE\n",
       "Year              \n",
       "1980-01-01    3.12\n",
       "1981-01-01    2.47\n",
       "1982-01-01    2.55\n",
       "1983-01-01    3.21\n",
       "1984-01-01    2.63"
      ]
     },
     "execution_count": 155,
     "metadata": {},
     "output_type": "execute_result"
    }
   ],
   "source": [
    "fp.head()"
   ]
  },
  {
   "cell_type": "code",
   "execution_count": 161,
   "metadata": {
    "collapsed": false
   },
   "outputs": [],
   "source": [
    "cs = pd.concat([cs, fp])"
   ]
  },
  {
   "cell_type": "code",
   "execution_count": 164,
   "metadata": {
    "collapsed": false
   },
   "outputs": [
    {
     "data": {
      "text/html": [
       "<div>\n",
       "<table border=\"1\" class=\"dataframe\">\n",
       "  <thead>\n",
       "    <tr style=\"text-align: right;\">\n",
       "      <th></th>\n",
       "      <th>Apr_pr</th>\n",
       "      <th>Apr_tmax</th>\n",
       "      <th>Apr_tmin</th>\n",
       "      <th>Aug_pr</th>\n",
       "      <th>Aug_tmax</th>\n",
       "      <th>Aug_tmin</th>\n",
       "      <th>Avg/Total_pr</th>\n",
       "      <th>Avg/Total_tmax</th>\n",
       "      <th>Avg/Total_tmin</th>\n",
       "      <th>BEGIN</th>\n",
       "      <th>...</th>\n",
       "      <th>Oct_pr</th>\n",
       "      <th>Oct_tmax</th>\n",
       "      <th>Oct_tmin</th>\n",
       "      <th>PLANTED</th>\n",
       "      <th>PRODUCED</th>\n",
       "      <th>Sep_pr</th>\n",
       "      <th>Sep_tmax</th>\n",
       "      <th>Sep_tmin</th>\n",
       "      <th>TOTSUP</th>\n",
       "      <th>YIELD</th>\n",
       "    </tr>\n",
       "    <tr>\n",
       "      <th>Year</th>\n",
       "      <th></th>\n",
       "      <th></th>\n",
       "      <th></th>\n",
       "      <th></th>\n",
       "      <th></th>\n",
       "      <th></th>\n",
       "      <th></th>\n",
       "      <th></th>\n",
       "      <th></th>\n",
       "      <th></th>\n",
       "      <th></th>\n",
       "      <th></th>\n",
       "      <th></th>\n",
       "      <th></th>\n",
       "      <th></th>\n",
       "      <th></th>\n",
       "      <th></th>\n",
       "      <th></th>\n",
       "      <th></th>\n",
       "      <th></th>\n",
       "      <th></th>\n",
       "    </tr>\n",
       "  </thead>\n",
       "  <tbody>\n",
       "    <tr>\n",
       "      <th>1980-01-01</th>\n",
       "      <td>-1.630748</td>\n",
       "      <td>-0.053803</td>\n",
       "      <td>-0.388647</td>\n",
       "      <td>2.017417</td>\n",
       "      <td>0.789751</td>\n",
       "      <td>0.714631</td>\n",
       "      <td>-1.773535</td>\n",
       "      <td>-0.102712</td>\n",
       "      <td>-0.752656</td>\n",
       "      <td>0.268244</td>\n",
       "      <td>...</td>\n",
       "      <td>-0.733309</td>\n",
       "      <td>-0.622868</td>\n",
       "      <td>-1.447618</td>\n",
       "      <td>0.479108</td>\n",
       "      <td>-1.190893</td>\n",
       "      <td>-0.323414</td>\n",
       "      <td>0.541470</td>\n",
       "      <td>0.187992</td>\n",
       "      <td>-1.269583</td>\n",
       "      <td>-1.728805</td>\n",
       "    </tr>\n",
       "    <tr>\n",
       "      <th>1981-01-01</th>\n",
       "      <td>0.328281</td>\n",
       "      <td>1.498129</td>\n",
       "      <td>1.677135</td>\n",
       "      <td>1.235900</td>\n",
       "      <td>-0.831874</td>\n",
       "      <td>-0.383895</td>\n",
       "      <td>-0.054194</td>\n",
       "      <td>0.324393</td>\n",
       "      <td>-0.023902</td>\n",
       "      <td>-0.384712</td>\n",
       "      <td>...</td>\n",
       "      <td>-0.270752</td>\n",
       "      <td>-0.901915</td>\n",
       "      <td>-0.470378</td>\n",
       "      <td>0.485962</td>\n",
       "      <td>-0.568289</td>\n",
       "      <td>-0.758458</td>\n",
       "      <td>-0.332024</td>\n",
       "      <td>-0.538388</td>\n",
       "      <td>-0.858376</td>\n",
       "      <td>-0.915242</td>\n",
       "    </tr>\n",
       "    <tr>\n",
       "      <th>1982-01-01</th>\n",
       "      <td>-1.037146</td>\n",
       "      <td>-1.226884</td>\n",
       "      <td>-1.784968</td>\n",
       "      <td>-0.123644</td>\n",
       "      <td>-0.782413</td>\n",
       "      <td>-0.630079</td>\n",
       "      <td>1.185466</td>\n",
       "      <td>-1.311892</td>\n",
       "      <td>-1.283938</td>\n",
       "      <td>0.779828</td>\n",
       "      <td>...</td>\n",
       "      <td>0.245901</td>\n",
       "      <td>0.188657</td>\n",
       "      <td>0.266694</td>\n",
       "      <td>0.201659</td>\n",
       "      <td>-0.519490</td>\n",
       "      <td>-0.383207</td>\n",
       "      <td>-1.065179</td>\n",
       "      <td>-0.173548</td>\n",
       "      <td>-0.238123</td>\n",
       "      <td>-0.719805</td>\n",
       "    </tr>\n",
       "    <tr>\n",
       "      <th>1983-01-01</th>\n",
       "      <td>0.346084</td>\n",
       "      <td>-2.199351</td>\n",
       "      <td>-1.220860</td>\n",
       "      <td>-0.998639</td>\n",
       "      <td>2.529468</td>\n",
       "      <td>1.826284</td>\n",
       "      <td>0.418285</td>\n",
       "      <td>-0.754271</td>\n",
       "      <td>0.079414</td>\n",
       "      <td>1.782654</td>\n",
       "      <td>...</td>\n",
       "      <td>0.888949</td>\n",
       "      <td>-0.143026</td>\n",
       "      <td>0.885113</td>\n",
       "      <td>-2.546176</td>\n",
       "      <td>-2.227866</td>\n",
       "      <td>-0.367647</td>\n",
       "      <td>0.788616</td>\n",
       "      <td>0.056770</td>\n",
       "      <td>-1.749652</td>\n",
       "      <td>-2.178764</td>\n",
       "    </tr>\n",
       "    <tr>\n",
       "      <th>1984-01-01</th>\n",
       "      <td>1.735485</td>\n",
       "      <td>-1.284118</td>\n",
       "      <td>-0.151404</td>\n",
       "      <td>-1.796557</td>\n",
       "      <td>1.134210</td>\n",
       "      <td>0.182168</td>\n",
       "      <td>0.286089</td>\n",
       "      <td>-0.530253</td>\n",
       "      <td>-0.305365</td>\n",
       "      <td>-0.777299</td>\n",
       "      <td>...</td>\n",
       "      <td>1.761990</td>\n",
       "      <td>0.069437</td>\n",
       "      <td>1.602251</td>\n",
       "      <td>0.031585</td>\n",
       "      <td>-0.756332</td>\n",
       "      <td>-0.318227</td>\n",
       "      <td>-1.018188</td>\n",
       "      <td>-1.527213</td>\n",
       "      <td>-1.267123</td>\n",
       "      <td>-1.015233</td>\n",
       "    </tr>\n",
       "  </tbody>\n",
       "</table>\n",
       "<p>5 rows × 52 columns</p>\n",
       "</div>"
      ],
      "text/plain": [
       "              Apr_pr  Apr_tmax  Apr_tmin    Aug_pr  Aug_tmax  Aug_tmin  \\\n",
       "Year                                                                     \n",
       "1980-01-01 -1.630748 -0.053803 -0.388647  2.017417  0.789751  0.714631   \n",
       "1981-01-01  0.328281  1.498129  1.677135  1.235900 -0.831874 -0.383895   \n",
       "1982-01-01 -1.037146 -1.226884 -1.784968 -0.123644 -0.782413 -0.630079   \n",
       "1983-01-01  0.346084 -2.199351 -1.220860 -0.998639  2.529468  1.826284   \n",
       "1984-01-01  1.735485 -1.284118 -0.151404 -1.796557  1.134210  0.182168   \n",
       "\n",
       "            Avg/Total_pr  Avg/Total_tmax  Avg/Total_tmin     BEGIN    ...     \\\n",
       "Year                                                                  ...      \n",
       "1980-01-01     -1.773535       -0.102712       -0.752656  0.268244    ...      \n",
       "1981-01-01     -0.054194        0.324393       -0.023902 -0.384712    ...      \n",
       "1982-01-01      1.185466       -1.311892       -1.283938  0.779828    ...      \n",
       "1983-01-01      0.418285       -0.754271        0.079414  1.782654    ...      \n",
       "1984-01-01      0.286089       -0.530253       -0.305365 -0.777299    ...      \n",
       "\n",
       "              Oct_pr  Oct_tmax  Oct_tmin   PLANTED  PRODUCED    Sep_pr  \\\n",
       "Year                                                                     \n",
       "1980-01-01 -0.733309 -0.622868 -1.447618  0.479108 -1.190893 -0.323414   \n",
       "1981-01-01 -0.270752 -0.901915 -0.470378  0.485962 -0.568289 -0.758458   \n",
       "1982-01-01  0.245901  0.188657  0.266694  0.201659 -0.519490 -0.383207   \n",
       "1983-01-01  0.888949 -0.143026  0.885113 -2.546176 -2.227866 -0.367647   \n",
       "1984-01-01  1.761990  0.069437  1.602251  0.031585 -0.756332 -0.318227   \n",
       "\n",
       "            Sep_tmax  Sep_tmin    TOTSUP     YIELD  \n",
       "Year                                                \n",
       "1980-01-01  0.541470  0.187992 -1.269583 -1.728805  \n",
       "1981-01-01 -0.332024 -0.538388 -0.858376 -0.915242  \n",
       "1982-01-01 -1.065179 -0.173548 -0.238123 -0.719805  \n",
       "1983-01-01  0.788616  0.056770 -1.749652 -2.178764  \n",
       "1984-01-01 -1.018188 -1.527213 -1.267123 -1.015233  \n",
       "\n",
       "[5 rows x 52 columns]"
      ]
     },
     "execution_count": 164,
     "metadata": {},
     "output_type": "execute_result"
    }
   ],
   "source": [
    "cs.head()"
   ]
  },
  {
   "cell_type": "code",
   "execution_count": 163,
   "metadata": {
    "collapsed": false
   },
   "outputs": [
    {
     "name": "stdout",
     "output_type": "stream",
     "text": [
      "<class 'pandas.core.frame.DataFrame'>\n",
      "DatetimeIndex: 70 entries, 1980-01-01 to 2014-01-01\n",
      "Data columns (total 52 columns):\n",
      "Apr_pr            35 non-null float64\n",
      "Apr_tmax          35 non-null float64\n",
      "Apr_tmin          35 non-null float64\n",
      "Aug_pr            35 non-null float64\n",
      "Aug_tmax          35 non-null float64\n",
      "Aug_tmin          35 non-null float64\n",
      "Avg/Total_pr      35 non-null float64\n",
      "Avg/Total_tmax    35 non-null float64\n",
      "Avg/Total_tmin    35 non-null float64\n",
      "BEGIN             35 non-null float64\n",
      "CONS              35 non-null float64\n",
      "Dec_pr            35 non-null float64\n",
      "Dec_tmax          35 non-null float64\n",
      "Dec_tmin          35 non-null float64\n",
      "ENDING            35 non-null float64\n",
      "EXPORTS           35 non-null float64\n",
      "Ethanol           35 non-null float64\n",
      "FEED              35 non-null float64\n",
      "FPRICE            35 non-null float64\n",
      "FSI               35 non-null float64\n",
      "Feb_pr            35 non-null float64\n",
      "Feb_tmax          35 non-null float64\n",
      "Feb_tmin          35 non-null float64\n",
      "HARVEST           35 non-null float64\n",
      "Jan_pr            35 non-null float64\n",
      "Jan_tmax          35 non-null float64\n",
      "Jan_tmin          35 non-null float64\n",
      "Jul_pr            35 non-null float64\n",
      "Jul_tmax          35 non-null float64\n",
      "Jul_tmin          35 non-null float64\n",
      "Jun_pr            35 non-null float64\n",
      "Jun_tmax          35 non-null float64\n",
      "Jun_tmin          35 non-null float64\n",
      "Mar_pr            35 non-null float64\n",
      "Mar_tmax          35 non-null float64\n",
      "Mar_tmin          35 non-null float64\n",
      "May_pr            35 non-null float64\n",
      "May_tmax          35 non-null float64\n",
      "May_tmin          35 non-null float64\n",
      "Nov_pr            35 non-null float64\n",
      "Nov_tmax          35 non-null float64\n",
      "Nov_tmin          35 non-null float64\n",
      "Oct_pr            35 non-null float64\n",
      "Oct_tmax          35 non-null float64\n",
      "Oct_tmin          35 non-null float64\n",
      "PLANTED           35 non-null float64\n",
      "PRODUCED          35 non-null float64\n",
      "Sep_pr            35 non-null float64\n",
      "Sep_tmax          35 non-null float64\n",
      "Sep_tmin          35 non-null float64\n",
      "TOTSUP            35 non-null float64\n",
      "YIELD             35 non-null float64\n",
      "dtypes: float64(52)\n",
      "memory usage: 29.0 KB\n"
     ]
    }
   ],
   "source": [
    "cs.info()"
   ]
  },
  {
   "cell_type": "markdown",
   "metadata": {},
   "source": [
    "## Data visualization"
   ]
  },
  {
   "cell_type": "code",
   "execution_count": 146,
   "metadata": {
    "collapsed": true
   },
   "outputs": [],
   "source": [
    "sns.set_style('whitegrid')"
   ]
  },
  {
   "cell_type": "code",
   "execution_count": 169,
   "metadata": {
    "collapsed": false
   },
   "outputs": [
    {
     "data": {
      "text/plain": [
       "[<matplotlib.lines.Line2D at 0x13249dba8>]"
      ]
     },
     "execution_count": 169,
     "metadata": {},
     "output_type": "execute_result"
    },
    {
     "data": {
      "image/png": "[encoded data removed]",
      "text/plain": [
       "<matplotlib.figure.Figure at 0x132fe5828>"
      ]
     },
     "metadata": {},
     "output_type": "display_data"
    }
   ],
   "source": [
    "plt.plot(cs['FPRICE'])"
   ]
  },
  {
   "cell_type": "code",
   "execution_count": null,
   "metadata": {
    "collapsed": true
   },
   "outputs": [],
   "source": []
  }
 ],
 "metadata": {
  "anaconda-cloud": {},
  "kernelspec": {
   "display_name": "Python [Root]",
   "language": "python",
   "name": "Python [Root]"
  },
  "language_info": {
   "codemirror_mode": {
    "name": "ipython",
    "version": 3
   },
   "file_extension": ".py",
   "mimetype": "text/x-python",
   "name": "python",
   "nbconvert_exporter": "python",
   "pygments_lexer": "ipython3",
   "version": "3.5.2"
  }
 },
 "nbformat": 4,
 "nbformat_minor": 0
}
