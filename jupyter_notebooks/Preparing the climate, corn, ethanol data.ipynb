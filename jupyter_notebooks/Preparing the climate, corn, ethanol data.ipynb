{
 "cells": [
  {
   "cell_type": "markdown",
   "metadata": {},
   "source": [
    "# Imports and path variables"
   ]
  },
  {
   "cell_type": "markdown",
   "metadata": {},
   "source": [
    "### Import libraries"
   ]
  },
  {
   "cell_type": "code",
   "execution_count": 66,
   "metadata": {
    "collapsed": true
   },
   "outputs": [],
   "source": [
    "import pandas as pd"
   ]
  },
  {
   "cell_type": "markdown",
   "metadata": {},
   "source": [
    "### Set Path and define the filenames (for quick reference)\n",
    "- NOTE: Set the path appropriately on your own machine."
   ]
  },
  {
   "cell_type": "code",
   "execution_count": 216,
   "metadata": {
    "collapsed": true
   },
   "outputs": [],
   "source": [
    "path = \"/Users/patrickboland4/p_code/projects/factors_influencing_corn_prices/data/\"\n",
    "\n",
    "tmi = 'temp_min_parsed.txt'\n",
    "tma = 'temp_max_parsed.txt'\n",
    "p = 'precipitation_parsed.txt'\n",
    "uiuc = 'corn_data.csv'\n",
    "ethanol = 'US_corn_ethanol.csv'"
   ]
  },
  {
   "cell_type": "markdown",
   "metadata": {},
   "source": [
    "___"
   ]
  },
  {
   "cell_type": "markdown",
   "metadata": {},
   "source": [
    "# Creating and manipulating our dataframes"
   ]
  },
  {
   "cell_type": "markdown",
   "metadata": {},
   "source": [
    "### Create the temp_min, temp_max, precip dataframes"
   ]
  },
  {
   "cell_type": "code",
   "execution_count": 68,
   "metadata": {
    "collapsed": false
   },
   "outputs": [],
   "source": [
    "temp_min = pd.read_csv(path + tmi, sep=',', header=None, index_col=None, na_values='NANAN')\n",
    "temp_min.columns=['Station', 'Year', 'Jan', 'Feb', 'Mar', 'Apr', 'May', 'Jun', 'Jul',\n",
    "                                'Aug', 'Sep', 'Oct', 'Nov', 'Dec', 'Avg/Total']\n",
    "\n",
    "temp_max = pd.read_csv(path + tma, sep=',', header=None, index_col=None, na_values='NANAN')\n",
    "temp_max.columns=['Station', 'Year', 'Jan', 'Feb', 'Mar', 'Apr', 'May', 'Jun', 'Jul',\n",
    "                                'Aug', 'Sep', 'Oct', 'Nov', 'Dec', 'Avg/Total']\n",
    "\n",
    "precip = pd.read_csv(path + p, sep=',', header=None, index_col=None, na_values='NANAN')\n",
    "precip.columns=['Station', 'Year', 'Jan', 'Feb', 'Mar', 'Apr', 'May', 'Jun', 'Jul',\n",
    "                                'Aug', 'Sep', 'Oct', 'Nov', 'Dec', 'Avg/Total']"
   ]
  },
  {
   "cell_type": "markdown",
   "metadata": {},
   "source": [
    "Take a look at the head of temp_min"
   ]
  },
  {
   "cell_type": "code",
   "execution_count": 69,
   "metadata": {
    "collapsed": false
   },
   "outputs": [
    {
     "data": {
      "text/html": [
       "<div>\n",
       "<table border=\"1\" class=\"dataframe\">\n",
       "  <thead>\n",
       "    <tr style=\"text-align: right;\">\n",
       "      <th></th>\n",
       "      <th>Station</th>\n",
       "      <th>Year</th>\n",
       "      <th>Jan</th>\n",
       "      <th>Feb</th>\n",
       "      <th>Mar</th>\n",
       "      <th>Apr</th>\n",
       "      <th>May</th>\n",
       "      <th>Jun</th>\n",
       "      <th>Jul</th>\n",
       "      <th>Aug</th>\n",
       "      <th>Sep</th>\n",
       "      <th>Oct</th>\n",
       "      <th>Nov</th>\n",
       "      <th>Dec</th>\n",
       "      <th>Avg/Total</th>\n",
       "    </tr>\n",
       "  </thead>\n",
       "  <tbody>\n",
       "    <tr>\n",
       "      <th>0</th>\n",
       "      <td>11084</td>\n",
       "      <td>1889</td>\n",
       "      <td>NaN</td>\n",
       "      <td>NaN</td>\n",
       "      <td>NaN</td>\n",
       "      <td>NaN</td>\n",
       "      <td>NaN</td>\n",
       "      <td>NaN</td>\n",
       "      <td>722.0</td>\n",
       "      <td>683.0</td>\n",
       "      <td>652.0</td>\n",
       "      <td>NaN</td>\n",
       "      <td>NaN</td>\n",
       "      <td>513.0</td>\n",
       "      <td>NaN</td>\n",
       "    </tr>\n",
       "    <tr>\n",
       "      <th>1</th>\n",
       "      <td>11084</td>\n",
       "      <td>1890</td>\n",
       "      <td>515.0</td>\n",
       "      <td>511.0</td>\n",
       "      <td>466.0</td>\n",
       "      <td>570.0</td>\n",
       "      <td>610.0</td>\n",
       "      <td>NaN</td>\n",
       "      <td>721.0</td>\n",
       "      <td>694.0</td>\n",
       "      <td>669.0</td>\n",
       "      <td>529.0</td>\n",
       "      <td>468.0</td>\n",
       "      <td>426.0</td>\n",
       "      <td>NaN</td>\n",
       "    </tr>\n",
       "    <tr>\n",
       "      <th>2</th>\n",
       "      <td>11084</td>\n",
       "      <td>1891</td>\n",
       "      <td>395.0</td>\n",
       "      <td>507.0</td>\n",
       "      <td>474.0</td>\n",
       "      <td>549.0</td>\n",
       "      <td>591.0</td>\n",
       "      <td>696.0</td>\n",
       "      <td>NaN</td>\n",
       "      <td>713.0</td>\n",
       "      <td>668.0</td>\n",
       "      <td>502.0</td>\n",
       "      <td>425.0</td>\n",
       "      <td>461.0</td>\n",
       "      <td>NaN</td>\n",
       "    </tr>\n",
       "    <tr>\n",
       "      <th>3</th>\n",
       "      <td>11084</td>\n",
       "      <td>1892</td>\n",
       "      <td>364.0</td>\n",
       "      <td>475.0</td>\n",
       "      <td>NaN</td>\n",
       "      <td>NaN</td>\n",
       "      <td>636.0</td>\n",
       "      <td>695.0</td>\n",
       "      <td>738.0</td>\n",
       "      <td>722.0</td>\n",
       "      <td>646.0</td>\n",
       "      <td>537.0</td>\n",
       "      <td>449.0</td>\n",
       "      <td>425.0</td>\n",
       "      <td>NaN</td>\n",
       "    </tr>\n",
       "    <tr>\n",
       "      <th>4</th>\n",
       "      <td>11084</td>\n",
       "      <td>1893</td>\n",
       "      <td>363.0</td>\n",
       "      <td>492.0</td>\n",
       "      <td>480.0</td>\n",
       "      <td>605.0</td>\n",
       "      <td>645.0</td>\n",
       "      <td>714.0</td>\n",
       "      <td>730.0</td>\n",
       "      <td>718.0</td>\n",
       "      <td>681.0</td>\n",
       "      <td>528.0</td>\n",
       "      <td>446.0</td>\n",
       "      <td>417.0</td>\n",
       "      <td>568.0</td>\n",
       "    </tr>\n",
       "  </tbody>\n",
       "</table>\n",
       "</div>"
      ],
      "text/plain": [
       "   Station  Year    Jan    Feb    Mar    Apr    May    Jun    Jul    Aug  \\\n",
       "0    11084  1889    NaN    NaN    NaN    NaN    NaN    NaN  722.0  683.0   \n",
       "1    11084  1890  515.0  511.0  466.0  570.0  610.0    NaN  721.0  694.0   \n",
       "2    11084  1891  395.0  507.0  474.0  549.0  591.0  696.0    NaN  713.0   \n",
       "3    11084  1892  364.0  475.0    NaN    NaN  636.0  695.0  738.0  722.0   \n",
       "4    11084  1893  363.0  492.0  480.0  605.0  645.0  714.0  730.0  718.0   \n",
       "\n",
       "     Sep    Oct    Nov    Dec  Avg/Total  \n",
       "0  652.0    NaN    NaN  513.0        NaN  \n",
       "1  669.0  529.0  468.0  426.0        NaN  \n",
       "2  668.0  502.0  425.0  461.0        NaN  \n",
       "3  646.0  537.0  449.0  425.0        NaN  \n",
       "4  681.0  528.0  446.0  417.0      568.0  "
      ]
     },
     "execution_count": 69,
     "metadata": {},
     "output_type": "execute_result"
    }
   ],
   "source": [
    "temp_min.head()"
   ]
  },
  {
   "cell_type": "markdown",
   "metadata": {},
   "source": [
    "Take a look at the head of temp_max"
   ]
  },
  {
   "cell_type": "code",
   "execution_count": 70,
   "metadata": {
    "collapsed": false
   },
   "outputs": [
    {
     "data": {
      "text/html": [
       "<div>\n",
       "<table border=\"1\" class=\"dataframe\">\n",
       "  <thead>\n",
       "    <tr style=\"text-align: right;\">\n",
       "      <th></th>\n",
       "      <th>Station</th>\n",
       "      <th>Year</th>\n",
       "      <th>Jan</th>\n",
       "      <th>Feb</th>\n",
       "      <th>Mar</th>\n",
       "      <th>Apr</th>\n",
       "      <th>May</th>\n",
       "      <th>Jun</th>\n",
       "      <th>Jul</th>\n",
       "      <th>Aug</th>\n",
       "      <th>Sep</th>\n",
       "      <th>Oct</th>\n",
       "      <th>Nov</th>\n",
       "      <th>Dec</th>\n",
       "      <th>Avg/Total</th>\n",
       "    </tr>\n",
       "  </thead>\n",
       "  <tbody>\n",
       "    <tr>\n",
       "      <th>0</th>\n",
       "      <td>11084</td>\n",
       "      <td>1889</td>\n",
       "      <td>NaN</td>\n",
       "      <td>NaN</td>\n",
       "      <td>NaN</td>\n",
       "      <td>NaN</td>\n",
       "      <td>NaN</td>\n",
       "      <td>NaN</td>\n",
       "      <td>944.0</td>\n",
       "      <td>927.0</td>\n",
       "      <td>919.0</td>\n",
       "      <td>NaN</td>\n",
       "      <td>NaN</td>\n",
       "      <td>767.0</td>\n",
       "      <td>NaN</td>\n",
       "    </tr>\n",
       "    <tr>\n",
       "      <th>1</th>\n",
       "      <td>11084</td>\n",
       "      <td>1890</td>\n",
       "      <td>734.0</td>\n",
       "      <td>768.0</td>\n",
       "      <td>719.0</td>\n",
       "      <td>817.0</td>\n",
       "      <td>870.0</td>\n",
       "      <td>NaN</td>\n",
       "      <td>940.0</td>\n",
       "      <td>932.0</td>\n",
       "      <td>890.0</td>\n",
       "      <td>810.0</td>\n",
       "      <td>738.0</td>\n",
       "      <td>651.0</td>\n",
       "      <td>NaN</td>\n",
       "    </tr>\n",
       "    <tr>\n",
       "      <th>2</th>\n",
       "      <td>11084</td>\n",
       "      <td>1891</td>\n",
       "      <td>623.0</td>\n",
       "      <td>745.0</td>\n",
       "      <td>NaN</td>\n",
       "      <td>816.0</td>\n",
       "      <td>879.0</td>\n",
       "      <td>962.0</td>\n",
       "      <td>NaN</td>\n",
       "      <td>932.0</td>\n",
       "      <td>897.0</td>\n",
       "      <td>796.0</td>\n",
       "      <td>691.0</td>\n",
       "      <td>634.0</td>\n",
       "      <td>NaN</td>\n",
       "    </tr>\n",
       "    <tr>\n",
       "      <th>3</th>\n",
       "      <td>11084</td>\n",
       "      <td>1892</td>\n",
       "      <td>553.0</td>\n",
       "      <td>706.0</td>\n",
       "      <td>722.0</td>\n",
       "      <td>832.0</td>\n",
       "      <td>851.0</td>\n",
       "      <td>926.0</td>\n",
       "      <td>894.0</td>\n",
       "      <td>946.0</td>\n",
       "      <td>896.0</td>\n",
       "      <td>880.0</td>\n",
       "      <td>729.0</td>\n",
       "      <td>623.0</td>\n",
       "      <td>796.0</td>\n",
       "    </tr>\n",
       "    <tr>\n",
       "      <th>4</th>\n",
       "      <td>11084</td>\n",
       "      <td>1893</td>\n",
       "      <td>573.0</td>\n",
       "      <td>699.0</td>\n",
       "      <td>694.0</td>\n",
       "      <td>811.0</td>\n",
       "      <td>861.0</td>\n",
       "      <td>938.0</td>\n",
       "      <td>962.0</td>\n",
       "      <td>946.0</td>\n",
       "      <td>930.0</td>\n",
       "      <td>821.0</td>\n",
       "      <td>716.0</td>\n",
       "      <td>705.0</td>\n",
       "      <td>805.0</td>\n",
       "    </tr>\n",
       "  </tbody>\n",
       "</table>\n",
       "</div>"
      ],
      "text/plain": [
       "   Station  Year    Jan    Feb    Mar    Apr    May    Jun    Jul    Aug  \\\n",
       "0    11084  1889    NaN    NaN    NaN    NaN    NaN    NaN  944.0  927.0   \n",
       "1    11084  1890  734.0  768.0  719.0  817.0  870.0    NaN  940.0  932.0   \n",
       "2    11084  1891  623.0  745.0    NaN  816.0  879.0  962.0    NaN  932.0   \n",
       "3    11084  1892  553.0  706.0  722.0  832.0  851.0  926.0  894.0  946.0   \n",
       "4    11084  1893  573.0  699.0  694.0  811.0  861.0  938.0  962.0  946.0   \n",
       "\n",
       "     Sep    Oct    Nov    Dec  Avg/Total  \n",
       "0  919.0    NaN    NaN  767.0        NaN  \n",
       "1  890.0  810.0  738.0  651.0        NaN  \n",
       "2  897.0  796.0  691.0  634.0        NaN  \n",
       "3  896.0  880.0  729.0  623.0      796.0  \n",
       "4  930.0  821.0  716.0  705.0      805.0  "
      ]
     },
     "execution_count": 70,
     "metadata": {},
     "output_type": "execute_result"
    }
   ],
   "source": [
    "temp_max.head()"
   ]
  },
  {
   "cell_type": "markdown",
   "metadata": {},
   "source": [
    "Take a look at the head of precip"
   ]
  },
  {
   "cell_type": "code",
   "execution_count": 71,
   "metadata": {
    "collapsed": false
   },
   "outputs": [
    {
     "data": {
      "text/html": [
       "<div>\n",
       "<table border=\"1\" class=\"dataframe\">\n",
       "  <thead>\n",
       "    <tr style=\"text-align: right;\">\n",
       "      <th></th>\n",
       "      <th>Station</th>\n",
       "      <th>Year</th>\n",
       "      <th>Jan</th>\n",
       "      <th>Feb</th>\n",
       "      <th>Mar</th>\n",
       "      <th>Apr</th>\n",
       "      <th>May</th>\n",
       "      <th>Jun</th>\n",
       "      <th>Jul</th>\n",
       "      <th>Aug</th>\n",
       "      <th>Sep</th>\n",
       "      <th>Oct</th>\n",
       "      <th>Nov</th>\n",
       "      <th>Dec</th>\n",
       "      <th>Avg/Total</th>\n",
       "    </tr>\n",
       "  </thead>\n",
       "  <tbody>\n",
       "    <tr>\n",
       "      <th>0</th>\n",
       "      <td>11084</td>\n",
       "      <td>1890</td>\n",
       "      <td>NaN</td>\n",
       "      <td>NaN</td>\n",
       "      <td>NaN</td>\n",
       "      <td>NaN</td>\n",
       "      <td>NaN</td>\n",
       "      <td>NaN</td>\n",
       "      <td>NaN</td>\n",
       "      <td>NaN</td>\n",
       "      <td>NaN</td>\n",
       "      <td>NaN</td>\n",
       "      <td>NaN</td>\n",
       "      <td>170.0</td>\n",
       "      <td>NaN</td>\n",
       "    </tr>\n",
       "    <tr>\n",
       "      <th>1</th>\n",
       "      <td>11084</td>\n",
       "      <td>1891</td>\n",
       "      <td>550.0</td>\n",
       "      <td>561.0</td>\n",
       "      <td>575.0</td>\n",
       "      <td>165.0</td>\n",
       "      <td>275.0</td>\n",
       "      <td>670.0</td>\n",
       "      <td>425.0</td>\n",
       "      <td>172.0</td>\n",
       "      <td>200.0</td>\n",
       "      <td>0.0</td>\n",
       "      <td>930.0</td>\n",
       "      <td>525.0</td>\n",
       "      <td>5048.0</td>\n",
       "    </tr>\n",
       "    <tr>\n",
       "      <th>2</th>\n",
       "      <td>11084</td>\n",
       "      <td>1892</td>\n",
       "      <td>1245.0</td>\n",
       "      <td>440.0</td>\n",
       "      <td>256.0</td>\n",
       "      <td>160.0</td>\n",
       "      <td>380.0</td>\n",
       "      <td>780.0</td>\n",
       "      <td>1226.0</td>\n",
       "      <td>1355.0</td>\n",
       "      <td>300.0</td>\n",
       "      <td>100.0</td>\n",
       "      <td>165.0</td>\n",
       "      <td>NaN</td>\n",
       "      <td>NaN</td>\n",
       "    </tr>\n",
       "    <tr>\n",
       "      <th>3</th>\n",
       "      <td>11084</td>\n",
       "      <td>1893</td>\n",
       "      <td>535.0</td>\n",
       "      <td>608.0</td>\n",
       "      <td>465.0</td>\n",
       "      <td>380.0</td>\n",
       "      <td>730.0</td>\n",
       "      <td>345.0</td>\n",
       "      <td>425.0</td>\n",
       "      <td>645.0</td>\n",
       "      <td>345.0</td>\n",
       "      <td>635.0</td>\n",
       "      <td>487.0</td>\n",
       "      <td>487.0</td>\n",
       "      <td>6087.0</td>\n",
       "    </tr>\n",
       "    <tr>\n",
       "      <th>4</th>\n",
       "      <td>11084</td>\n",
       "      <td>1894</td>\n",
       "      <td>240.0</td>\n",
       "      <td>1649.0</td>\n",
       "      <td>788.0</td>\n",
       "      <td>225.0</td>\n",
       "      <td>465.0</td>\n",
       "      <td>265.0</td>\n",
       "      <td>NaN</td>\n",
       "      <td>NaN</td>\n",
       "      <td>NaN</td>\n",
       "      <td>30.0</td>\n",
       "      <td>NaN</td>\n",
       "      <td>75.0</td>\n",
       "      <td>NaN</td>\n",
       "    </tr>\n",
       "  </tbody>\n",
       "</table>\n",
       "</div>"
      ],
      "text/plain": [
       "   Station  Year     Jan     Feb    Mar    Apr    May    Jun     Jul     Aug  \\\n",
       "0    11084  1890     NaN     NaN    NaN    NaN    NaN    NaN     NaN     NaN   \n",
       "1    11084  1891   550.0   561.0  575.0  165.0  275.0  670.0   425.0   172.0   \n",
       "2    11084  1892  1245.0   440.0  256.0  160.0  380.0  780.0  1226.0  1355.0   \n",
       "3    11084  1893   535.0   608.0  465.0  380.0  730.0  345.0   425.0   645.0   \n",
       "4    11084  1894   240.0  1649.0  788.0  225.0  465.0  265.0     NaN     NaN   \n",
       "\n",
       "     Sep    Oct    Nov    Dec  Avg/Total  \n",
       "0    NaN    NaN    NaN  170.0        NaN  \n",
       "1  200.0    0.0  930.0  525.0     5048.0  \n",
       "2  300.0  100.0  165.0    NaN        NaN  \n",
       "3  345.0  635.0  487.0  487.0     6087.0  \n",
       "4    NaN   30.0    NaN   75.0        NaN  "
      ]
     },
     "execution_count": 71,
     "metadata": {},
     "output_type": "execute_result"
    }
   ],
   "source": [
    "precip.head()"
   ]
  },
  {
   "cell_type": "markdown",
   "metadata": {},
   "source": [
    "### Read in csv files within location_data folder\n",
    "- There are 2 files, including station_locations.csv (sloc), and state_name_regions.csv (snr)\n",
    "- These dataframes will be merged together (below) into the state_name_regions_final dataframe (snrf)"
   ]
  },
  {
   "cell_type": "code",
   "execution_count": 72,
   "metadata": {
    "collapsed": false
   },
   "outputs": [],
   "source": [
    "sloc = pd.read_csv(path+'location_data/station_locations.csv')\n",
    "snr = pd.read_csv(path+'location_data/state_name_regions.csv')"
   ]
  },
  {
   "cell_type": "markdown",
   "metadata": {},
   "source": [
    "Take a look at the head of sloc"
   ]
  },
  {
   "cell_type": "code",
   "execution_count": 73,
   "metadata": {
    "collapsed": false
   },
   "outputs": [
    {
     "data": {
      "text/html": [
       "<div>\n",
       "<table border=\"1\" class=\"dataframe\">\n",
       "  <thead>\n",
       "    <tr style=\"text-align: right;\">\n",
       "      <th></th>\n",
       "      <th>Station</th>\n",
       "      <th>Latitude</th>\n",
       "      <th>Longitude</th>\n",
       "      <th>Elevation</th>\n",
       "      <th>Abbreviation</th>\n",
       "    </tr>\n",
       "  </thead>\n",
       "  <tbody>\n",
       "    <tr>\n",
       "      <th>0</th>\n",
       "      <td>11084</td>\n",
       "      <td>31.0581</td>\n",
       "      <td>-87.0547</td>\n",
       "      <td>25.9</td>\n",
       "      <td>AL</td>\n",
       "    </tr>\n",
       "    <tr>\n",
       "      <th>1</th>\n",
       "      <td>12813</td>\n",
       "      <td>30.5467</td>\n",
       "      <td>-87.8808</td>\n",
       "      <td>7.0</td>\n",
       "      <td>AL</td>\n",
       "    </tr>\n",
       "    <tr>\n",
       "      <th>2</th>\n",
       "      <td>13160</td>\n",
       "      <td>32.8347</td>\n",
       "      <td>-88.1342</td>\n",
       "      <td>38.1</td>\n",
       "      <td>AL</td>\n",
       "    </tr>\n",
       "    <tr>\n",
       "      <th>3</th>\n",
       "      <td>13511</td>\n",
       "      <td>32.7017</td>\n",
       "      <td>-87.5808</td>\n",
       "      <td>67.1</td>\n",
       "      <td>AL</td>\n",
       "    </tr>\n",
       "    <tr>\n",
       "      <th>4</th>\n",
       "      <td>13816</td>\n",
       "      <td>31.8700</td>\n",
       "      <td>-86.2542</td>\n",
       "      <td>132.0</td>\n",
       "      <td>AL</td>\n",
       "    </tr>\n",
       "  </tbody>\n",
       "</table>\n",
       "</div>"
      ],
      "text/plain": [
       "   Station  Latitude  Longitude  Elevation Abbreviation\n",
       "0    11084   31.0581   -87.0547       25.9           AL\n",
       "1    12813   30.5467   -87.8808        7.0           AL\n",
       "2    13160   32.8347   -88.1342       38.1           AL\n",
       "3    13511   32.7017   -87.5808       67.1           AL\n",
       "4    13816   31.8700   -86.2542      132.0           AL"
      ]
     },
     "execution_count": 73,
     "metadata": {},
     "output_type": "execute_result"
    }
   ],
   "source": [
    "sloc.head()"
   ]
  },
  {
   "cell_type": "markdown",
   "metadata": {},
   "source": [
    "Take a look at the head of snr"
   ]
  },
  {
   "cell_type": "code",
   "execution_count": 74,
   "metadata": {
    "collapsed": false
   },
   "outputs": [
    {
     "data": {
      "text/html": [
       "<div>\n",
       "<table border=\"1\" class=\"dataframe\">\n",
       "  <thead>\n",
       "    <tr style=\"text-align: right;\">\n",
       "      <th></th>\n",
       "      <th>State Name</th>\n",
       "      <th>Abbreviation</th>\n",
       "      <th>Region</th>\n",
       "      <th>Sub-Region</th>\n",
       "    </tr>\n",
       "  </thead>\n",
       "  <tbody>\n",
       "    <tr>\n",
       "      <th>0</th>\n",
       "      <td>Alabama</td>\n",
       "      <td>AL</td>\n",
       "      <td>South</td>\n",
       "      <td>East South Central</td>\n",
       "    </tr>\n",
       "    <tr>\n",
       "      <th>1</th>\n",
       "      <td>Alaska</td>\n",
       "      <td>AK</td>\n",
       "      <td>West</td>\n",
       "      <td>Pacific</td>\n",
       "    </tr>\n",
       "    <tr>\n",
       "      <th>2</th>\n",
       "      <td>Arizona</td>\n",
       "      <td>AZ</td>\n",
       "      <td>West</td>\n",
       "      <td>Mountain</td>\n",
       "    </tr>\n",
       "    <tr>\n",
       "      <th>3</th>\n",
       "      <td>Arkansas</td>\n",
       "      <td>AR</td>\n",
       "      <td>South</td>\n",
       "      <td>West South Central</td>\n",
       "    </tr>\n",
       "    <tr>\n",
       "      <th>4</th>\n",
       "      <td>California</td>\n",
       "      <td>CA</td>\n",
       "      <td>West</td>\n",
       "      <td>Pacific</td>\n",
       "    </tr>\n",
       "  </tbody>\n",
       "</table>\n",
       "</div>"
      ],
      "text/plain": [
       "   State Name Abbreviation Region          Sub-Region\n",
       "0     Alabama           AL  South  East South Central\n",
       "1      Alaska           AK   West             Pacific\n",
       "2     Arizona           AZ   West            Mountain\n",
       "3    Arkansas           AR  South  West South Central\n",
       "4  California           CA   West             Pacific"
      ]
     },
     "execution_count": 74,
     "metadata": {},
     "output_type": "execute_result"
    }
   ],
   "source": [
    "snr.head()"
   ]
  },
  {
   "cell_type": "markdown",
   "metadata": {},
   "source": [
    "**Merge the dataframes together**"
   ]
  },
  {
   "cell_type": "code",
   "execution_count": 75,
   "metadata": {
    "collapsed": false
   },
   "outputs": [],
   "source": [
    "snrf = snr.merge(sloc, on='Abbreviation', how='outer')"
   ]
  },
  {
   "cell_type": "markdown",
   "metadata": {},
   "source": [
    "Look at the head of snrf"
   ]
  },
  {
   "cell_type": "code",
   "execution_count": 76,
   "metadata": {
    "collapsed": false
   },
   "outputs": [
    {
     "data": {
      "text/html": [
       "<div>\n",
       "<table border=\"1\" class=\"dataframe\">\n",
       "  <thead>\n",
       "    <tr style=\"text-align: right;\">\n",
       "      <th></th>\n",
       "      <th>State Name</th>\n",
       "      <th>Abbreviation</th>\n",
       "      <th>Region</th>\n",
       "      <th>Sub-Region</th>\n",
       "      <th>Station</th>\n",
       "      <th>Latitude</th>\n",
       "      <th>Longitude</th>\n",
       "      <th>Elevation</th>\n",
       "    </tr>\n",
       "  </thead>\n",
       "  <tbody>\n",
       "    <tr>\n",
       "      <th>0</th>\n",
       "      <td>Alabama</td>\n",
       "      <td>AL</td>\n",
       "      <td>South</td>\n",
       "      <td>East South Central</td>\n",
       "      <td>11084.0</td>\n",
       "      <td>31.0581</td>\n",
       "      <td>-87.0547</td>\n",
       "      <td>25.9</td>\n",
       "    </tr>\n",
       "    <tr>\n",
       "      <th>1</th>\n",
       "      <td>Alabama</td>\n",
       "      <td>AL</td>\n",
       "      <td>South</td>\n",
       "      <td>East South Central</td>\n",
       "      <td>12813.0</td>\n",
       "      <td>30.5467</td>\n",
       "      <td>-87.8808</td>\n",
       "      <td>7.0</td>\n",
       "    </tr>\n",
       "    <tr>\n",
       "      <th>2</th>\n",
       "      <td>Alabama</td>\n",
       "      <td>AL</td>\n",
       "      <td>South</td>\n",
       "      <td>East South Central</td>\n",
       "      <td>13160.0</td>\n",
       "      <td>32.8347</td>\n",
       "      <td>-88.1342</td>\n",
       "      <td>38.1</td>\n",
       "    </tr>\n",
       "    <tr>\n",
       "      <th>3</th>\n",
       "      <td>Alabama</td>\n",
       "      <td>AL</td>\n",
       "      <td>South</td>\n",
       "      <td>East South Central</td>\n",
       "      <td>13511.0</td>\n",
       "      <td>32.7017</td>\n",
       "      <td>-87.5808</td>\n",
       "      <td>67.1</td>\n",
       "    </tr>\n",
       "    <tr>\n",
       "      <th>4</th>\n",
       "      <td>Alabama</td>\n",
       "      <td>AL</td>\n",
       "      <td>South</td>\n",
       "      <td>East South Central</td>\n",
       "      <td>13816.0</td>\n",
       "      <td>31.8700</td>\n",
       "      <td>-86.2542</td>\n",
       "      <td>132.0</td>\n",
       "    </tr>\n",
       "  </tbody>\n",
       "</table>\n",
       "</div>"
      ],
      "text/plain": [
       "  State Name Abbreviation Region          Sub-Region  Station  Latitude  \\\n",
       "0    Alabama           AL  South  East South Central  11084.0   31.0581   \n",
       "1    Alabama           AL  South  East South Central  12813.0   30.5467   \n",
       "2    Alabama           AL  South  East South Central  13160.0   32.8347   \n",
       "3    Alabama           AL  South  East South Central  13511.0   32.7017   \n",
       "4    Alabama           AL  South  East South Central  13816.0   31.8700   \n",
       "\n",
       "   Longitude  Elevation  \n",
       "0   -87.0547       25.9  \n",
       "1   -87.8808        7.0  \n",
       "2   -88.1342       38.1  \n",
       "3   -87.5808       67.1  \n",
       "4   -86.2542      132.0  "
      ]
     },
     "execution_count": 76,
     "metadata": {},
     "output_type": "execute_result"
    }
   ],
   "source": [
    "snrf.head()"
   ]
  },
  {
   "cell_type": "markdown",
   "metadata": {},
   "source": [
    "Remove Latitude, Longitude and Elevation from the snrf dataframe"
   ]
  },
  {
   "cell_type": "code",
   "execution_count": 77,
   "metadata": {
    "collapsed": true
   },
   "outputs": [],
   "source": [
    "snrf.drop(snrf.columns[-3:], axis=1, inplace=True)"
   ]
  },
  {
   "cell_type": "markdown",
   "metadata": {},
   "source": [
    "Take a look at snrf once more to verify we have removed the correct columns"
   ]
  },
  {
   "cell_type": "code",
   "execution_count": 78,
   "metadata": {
    "collapsed": false
   },
   "outputs": [
    {
     "data": {
      "text/html": [
       "<div>\n",
       "<table border=\"1\" class=\"dataframe\">\n",
       "  <thead>\n",
       "    <tr style=\"text-align: right;\">\n",
       "      <th></th>\n",
       "      <th>State Name</th>\n",
       "      <th>Abbreviation</th>\n",
       "      <th>Region</th>\n",
       "      <th>Sub-Region</th>\n",
       "      <th>Station</th>\n",
       "    </tr>\n",
       "  </thead>\n",
       "  <tbody>\n",
       "    <tr>\n",
       "      <th>0</th>\n",
       "      <td>Alabama</td>\n",
       "      <td>AL</td>\n",
       "      <td>South</td>\n",
       "      <td>East South Central</td>\n",
       "      <td>11084.0</td>\n",
       "    </tr>\n",
       "    <tr>\n",
       "      <th>1</th>\n",
       "      <td>Alabama</td>\n",
       "      <td>AL</td>\n",
       "      <td>South</td>\n",
       "      <td>East South Central</td>\n",
       "      <td>12813.0</td>\n",
       "    </tr>\n",
       "    <tr>\n",
       "      <th>2</th>\n",
       "      <td>Alabama</td>\n",
       "      <td>AL</td>\n",
       "      <td>South</td>\n",
       "      <td>East South Central</td>\n",
       "      <td>13160.0</td>\n",
       "    </tr>\n",
       "    <tr>\n",
       "      <th>3</th>\n",
       "      <td>Alabama</td>\n",
       "      <td>AL</td>\n",
       "      <td>South</td>\n",
       "      <td>East South Central</td>\n",
       "      <td>13511.0</td>\n",
       "    </tr>\n",
       "    <tr>\n",
       "      <th>4</th>\n",
       "      <td>Alabama</td>\n",
       "      <td>AL</td>\n",
       "      <td>South</td>\n",
       "      <td>East South Central</td>\n",
       "      <td>13816.0</td>\n",
       "    </tr>\n",
       "  </tbody>\n",
       "</table>\n",
       "</div>"
      ],
      "text/plain": [
       "  State Name Abbreviation Region          Sub-Region  Station\n",
       "0    Alabama           AL  South  East South Central  11084.0\n",
       "1    Alabama           AL  South  East South Central  12813.0\n",
       "2    Alabama           AL  South  East South Central  13160.0\n",
       "3    Alabama           AL  South  East South Central  13511.0\n",
       "4    Alabama           AL  South  East South Central  13816.0"
      ]
     },
     "execution_count": 78,
     "metadata": {},
     "output_type": "execute_result"
    }
   ],
   "source": [
    "snrf.head()"
   ]
  },
  {
   "cell_type": "markdown",
   "metadata": {},
   "source": [
    "___"
   ]
  },
  {
   "cell_type": "markdown",
   "metadata": {},
   "source": [
    "### Merging the climate dataframes together"
   ]
  },
  {
   "cell_type": "markdown",
   "metadata": {},
   "source": [
    "- Our next step is to merge temp_max, temp_min, and precip into a single dataframe\n",
    "- First we need to adjust the month columns ('Jan', 'Feb', 'Mar', ... 'Nov', 'Dec') to be reflected as 'Jan_tmin', 'Feb_tmin', etc for the temp_min data. We will follow a similar convention for naming the month columns with the temp_max and precip dataframes"
   ]
  },
  {
   "cell_type": "markdown",
   "metadata": {},
   "source": [
    "**Change the naming convention for the columns of the 3 climate dataframes**"
   ]
  },
  {
   "cell_type": "markdown",
   "metadata": {},
   "source": [
    "Take a look at the column names of temp_max"
   ]
  },
  {
   "cell_type": "code",
   "execution_count": 79,
   "metadata": {
    "collapsed": false
   },
   "outputs": [
    {
     "data": {
      "text/plain": [
       "Index(['Station', 'Year', 'Jan', 'Feb', 'Mar', 'Apr', 'May', 'Jun', 'Jul',\n",
       "       'Aug', 'Sep', 'Oct', 'Nov', 'Dec', 'Avg/Total'],\n",
       "      dtype='object')"
      ]
     },
     "execution_count": 79,
     "metadata": {},
     "output_type": "execute_result"
    }
   ],
   "source": [
    "temp_max.columns"
   ]
  },
  {
   "cell_type": "markdown",
   "metadata": {},
   "source": [
    "Do the columns actually share the same name between the 3 dataframes? Let's compare temp_max and temp_min"
   ]
  },
  {
   "cell_type": "code",
   "execution_count": 80,
   "metadata": {
    "collapsed": false
   },
   "outputs": [
    {
     "data": {
      "text/plain": [
       "array([ True,  True,  True,  True,  True,  True,  True,  True,  True,\n",
       "        True,  True,  True,  True,  True,  True], dtype=bool)"
      ]
     },
     "execution_count": 80,
     "metadata": {},
     "output_type": "execute_result"
    }
   ],
   "source": [
    "temp_max.columns == temp_min.columns"
   ]
  },
  {
   "cell_type": "markdown",
   "metadata": {},
   "source": [
    "We see that the above two dataframes have equal columns. Let's check to see if precip also shares the same columns. Based on the results of our test above, if temp_min and precip share the same columns, the temp_max and precip must share the same columns. "
   ]
  },
  {
   "cell_type": "code",
   "execution_count": 81,
   "metadata": {
    "collapsed": false
   },
   "outputs": [
    {
     "data": {
      "text/plain": [
       "array([ True,  True,  True,  True,  True,  True,  True,  True,  True,\n",
       "        True,  True,  True,  True,  True,  True], dtype=bool)"
      ]
     },
     "execution_count": 81,
     "metadata": {},
     "output_type": "execute_result"
    }
   ],
   "source": [
    "temp_min.columns == precip.columns"
   ]
  },
  {
   "cell_type": "markdown",
   "metadata": {},
   "source": [
    "**We now know that temp_max, temp_min, and precip all share the same column names**\n",
    "- Let's now go to work on changing our column names so that we may differentiate the data once we have a single merged climate dataframe, encompassing temp_max, temp_min, and precip\n",
    "- This code represents the convention for changing columns names within a dataframe \n",
    ">`df.rename(columns={'col_a': 'a', 'col_b': 'b'}, inplace=True)`\n",
    "- The `df.rename` method takes a columns parameter, a dictionary, with keys == the existing column name and values == the new column name. By specifying inplace=True, we are able to persist the changes to the dataframe being called, without reassigning it to a new dataframe. We can achieve the same thing with the following \n",
    "> `df = df.rename(columns={'col_a': 'a', 'col_b': 'b'})`"
   ]
  },
  {
   "cell_type": "markdown",
   "metadata": {},
   "source": [
    "Create 3 column dictionaries, one for each climate dataframe (col_dict)"
   ]
  },
  {
   "cell_type": "code",
   "execution_count": 82,
   "metadata": {
    "collapsed": true
   },
   "outputs": [],
   "source": [
    "tmax_col_dict = {}\n",
    "tmin_col_dict = {}\n",
    "pr_col_dict = {}"
   ]
  },
  {
   "cell_type": "markdown",
   "metadata": {},
   "source": [
    "#### Preparation for changing column names\n",
    "___"
   ]
  },
  {
   "cell_type": "markdown",
   "metadata": {},
   "source": [
    "We will want to change the months and the 'Avg/Total' column ('Jan', 'Feb', 'Mar', 'Apr', ... 'Dec', 'Avg/Total'). To do this, let's slice the temp_max.columns list from 2 (inclusive) to 15 (not inclusive). **Remember** - We proved above that our 3 climate dataframes share the same columns, so a slice of any size will yield the same result across these dataframes, so long as the slice occurs across the same indexes."
   ]
  },
  {
   "cell_type": "code",
   "execution_count": 83,
   "metadata": {
    "collapsed": true
   },
   "outputs": [],
   "source": [
    "months = temp_max.columns[2:15]"
   ]
  },
  {
   "cell_type": "markdown",
   "metadata": {},
   "source": [
    "Take a look at months to make sure we sliced it appropriately. Our result should be ['Jan', 'Feb', 'Mar', 'Apr', ... 'Dec', 'Avg/Total']"
   ]
  },
  {
   "cell_type": "code",
   "execution_count": 84,
   "metadata": {
    "collapsed": false
   },
   "outputs": [
    {
     "data": {
      "text/plain": [
       "Index(['Jan', 'Feb', 'Mar', 'Apr', 'May', 'Jun', 'Jul', 'Aug', 'Sep', 'Oct',\n",
       "       'Nov', 'Dec', 'Avg/Total'],\n",
       "      dtype='object')"
      ]
     },
     "execution_count": 84,
     "metadata": {},
     "output_type": "execute_result"
    }
   ],
   "source": [
    "months"
   ]
  },
  {
   "cell_type": "markdown",
   "metadata": {},
   "source": [
    "Our test worked. The variable months now represents the appropriate columns within the dataframe. These will operate as the keys within our dictionary. Now lets create the values we will use within the dictionary.\n",
    "- We will create lists for temp_max (tmax), temp_min (tmin) and precip (pr). The naming convention of the new columns will be `Month_list`. We will accomplish this using list comprehensions"
   ]
  },
  {
   "cell_type": "code",
   "execution_count": 85,
   "metadata": {
    "collapsed": true
   },
   "outputs": [],
   "source": [
    "tmax_values = [month + '_tmax' for month in months]\n",
    "tmin_values = [month + '_tmin' for month in months]\n",
    "pr_values = [month + '_pr' for month in months]"
   ]
  },
  {
   "cell_type": "markdown",
   "metadata": {},
   "source": [
    "Let's have a look at pr_values to verify the list comprehension worked"
   ]
  },
  {
   "cell_type": "code",
   "execution_count": 86,
   "metadata": {
    "collapsed": false
   },
   "outputs": [
    {
     "data": {
      "text/plain": [
       "['Jan_pr',\n",
       " 'Feb_pr',\n",
       " 'Mar_pr',\n",
       " 'Apr_pr',\n",
       " 'May_pr',\n",
       " 'Jun_pr',\n",
       " 'Jul_pr',\n",
       " 'Aug_pr',\n",
       " 'Sep_pr',\n",
       " 'Oct_pr',\n",
       " 'Nov_pr',\n",
       " 'Dec_pr',\n",
       " 'Avg/Total_pr']"
      ]
     },
     "execution_count": 86,
     "metadata": {},
     "output_type": "execute_result"
    }
   ],
   "source": [
    "pr_values"
   ]
  },
  {
   "cell_type": "markdown",
   "metadata": {},
   "source": [
    "Our test worked! We will now zip the month and values together, then place them into their respective dictionary"
   ]
  },
  {
   "cell_type": "code",
   "execution_count": 87,
   "metadata": {
    "collapsed": false
   },
   "outputs": [],
   "source": [
    "for col_name, new_col_name in zip(months, tmax_values):\n",
    "    tmax_col_dict[col_name] = new_col_name\n",
    "\n",
    "for col_name, new_col_name in zip(months, tmin_values):\n",
    "    tmin_col_dict[col_name] = new_col_name\n",
    "\n",
    "for col_name, new_col_name in zip(months, pr_values):\n",
    "    pr_col_dict[col_name] = new_col_name"
   ]
  },
  {
   "cell_type": "markdown",
   "metadata": {},
   "source": [
    "Check out the pr_col_dict to verify that the above worked."
   ]
  },
  {
   "cell_type": "code",
   "execution_count": 88,
   "metadata": {
    "collapsed": false
   },
   "outputs": [
    {
     "data": {
      "text/plain": [
       "{'Apr': 'Apr_tmax',\n",
       " 'Aug': 'Aug_tmax',\n",
       " 'Avg/Total': 'Avg/Total_tmax',\n",
       " 'Dec': 'Dec_tmax',\n",
       " 'Feb': 'Feb_tmax',\n",
       " 'Jan': 'Jan_tmax',\n",
       " 'Jul': 'Jul_tmax',\n",
       " 'Jun': 'Jun_tmax',\n",
       " 'Mar': 'Mar_tmax',\n",
       " 'May': 'May_tmax',\n",
       " 'Nov': 'Nov_tmax',\n",
       " 'Oct': 'Oct_tmax',\n",
       " 'Sep': 'Sep_tmax'}"
      ]
     },
     "execution_count": 88,
     "metadata": {},
     "output_type": "execute_result"
    }
   ],
   "source": [
    "tmax_col_dict"
   ]
  },
  {
   "cell_type": "markdown",
   "metadata": {},
   "source": [
    "___"
   ]
  },
  {
   "cell_type": "markdown",
   "metadata": {},
   "source": [
    "#### Now we have 3 dictionaries,  `tmax_col_dict, tmin_col_dict, pr_col_dict` that we can use to rename columns within the climate dataframes. Let's accomplish that using the following convention\n",
    ">`df.rename(columns={'col_a': 'a', 'col_b': 'b'}, inplace=True)`"
   ]
  },
  {
   "cell_type": "markdown",
   "metadata": {},
   "source": [
    "One more look at the head() of the temp_max dataframe"
   ]
  },
  {
   "cell_type": "code",
   "execution_count": 89,
   "metadata": {
    "collapsed": false
   },
   "outputs": [
    {
     "data": {
      "text/html": [
       "<div>\n",
       "<table border=\"1\" class=\"dataframe\">\n",
       "  <thead>\n",
       "    <tr style=\"text-align: right;\">\n",
       "      <th></th>\n",
       "      <th>Station</th>\n",
       "      <th>Year</th>\n",
       "      <th>Jan</th>\n",
       "      <th>Feb</th>\n",
       "      <th>Mar</th>\n",
       "      <th>Apr</th>\n",
       "      <th>May</th>\n",
       "      <th>Jun</th>\n",
       "      <th>Jul</th>\n",
       "      <th>Aug</th>\n",
       "      <th>Sep</th>\n",
       "      <th>Oct</th>\n",
       "      <th>Nov</th>\n",
       "      <th>Dec</th>\n",
       "      <th>Avg/Total</th>\n",
       "    </tr>\n",
       "  </thead>\n",
       "  <tbody>\n",
       "    <tr>\n",
       "      <th>0</th>\n",
       "      <td>11084</td>\n",
       "      <td>1889</td>\n",
       "      <td>NaN</td>\n",
       "      <td>NaN</td>\n",
       "      <td>NaN</td>\n",
       "      <td>NaN</td>\n",
       "      <td>NaN</td>\n",
       "      <td>NaN</td>\n",
       "      <td>944.0</td>\n",
       "      <td>927.0</td>\n",
       "      <td>919.0</td>\n",
       "      <td>NaN</td>\n",
       "      <td>NaN</td>\n",
       "      <td>767.0</td>\n",
       "      <td>NaN</td>\n",
       "    </tr>\n",
       "    <tr>\n",
       "      <th>1</th>\n",
       "      <td>11084</td>\n",
       "      <td>1890</td>\n",
       "      <td>734.0</td>\n",
       "      <td>768.0</td>\n",
       "      <td>719.0</td>\n",
       "      <td>817.0</td>\n",
       "      <td>870.0</td>\n",
       "      <td>NaN</td>\n",
       "      <td>940.0</td>\n",
       "      <td>932.0</td>\n",
       "      <td>890.0</td>\n",
       "      <td>810.0</td>\n",
       "      <td>738.0</td>\n",
       "      <td>651.0</td>\n",
       "      <td>NaN</td>\n",
       "    </tr>\n",
       "    <tr>\n",
       "      <th>2</th>\n",
       "      <td>11084</td>\n",
       "      <td>1891</td>\n",
       "      <td>623.0</td>\n",
       "      <td>745.0</td>\n",
       "      <td>NaN</td>\n",
       "      <td>816.0</td>\n",
       "      <td>879.0</td>\n",
       "      <td>962.0</td>\n",
       "      <td>NaN</td>\n",
       "      <td>932.0</td>\n",
       "      <td>897.0</td>\n",
       "      <td>796.0</td>\n",
       "      <td>691.0</td>\n",
       "      <td>634.0</td>\n",
       "      <td>NaN</td>\n",
       "    </tr>\n",
       "    <tr>\n",
       "      <th>3</th>\n",
       "      <td>11084</td>\n",
       "      <td>1892</td>\n",
       "      <td>553.0</td>\n",
       "      <td>706.0</td>\n",
       "      <td>722.0</td>\n",
       "      <td>832.0</td>\n",
       "      <td>851.0</td>\n",
       "      <td>926.0</td>\n",
       "      <td>894.0</td>\n",
       "      <td>946.0</td>\n",
       "      <td>896.0</td>\n",
       "      <td>880.0</td>\n",
       "      <td>729.0</td>\n",
       "      <td>623.0</td>\n",
       "      <td>796.0</td>\n",
       "    </tr>\n",
       "    <tr>\n",
       "      <th>4</th>\n",
       "      <td>11084</td>\n",
       "      <td>1893</td>\n",
       "      <td>573.0</td>\n",
       "      <td>699.0</td>\n",
       "      <td>694.0</td>\n",
       "      <td>811.0</td>\n",
       "      <td>861.0</td>\n",
       "      <td>938.0</td>\n",
       "      <td>962.0</td>\n",
       "      <td>946.0</td>\n",
       "      <td>930.0</td>\n",
       "      <td>821.0</td>\n",
       "      <td>716.0</td>\n",
       "      <td>705.0</td>\n",
       "      <td>805.0</td>\n",
       "    </tr>\n",
       "  </tbody>\n",
       "</table>\n",
       "</div>"
      ],
      "text/plain": [
       "   Station  Year    Jan    Feb    Mar    Apr    May    Jun    Jul    Aug  \\\n",
       "0    11084  1889    NaN    NaN    NaN    NaN    NaN    NaN  944.0  927.0   \n",
       "1    11084  1890  734.0  768.0  719.0  817.0  870.0    NaN  940.0  932.0   \n",
       "2    11084  1891  623.0  745.0    NaN  816.0  879.0  962.0    NaN  932.0   \n",
       "3    11084  1892  553.0  706.0  722.0  832.0  851.0  926.0  894.0  946.0   \n",
       "4    11084  1893  573.0  699.0  694.0  811.0  861.0  938.0  962.0  946.0   \n",
       "\n",
       "     Sep    Oct    Nov    Dec  Avg/Total  \n",
       "0  919.0    NaN    NaN  767.0        NaN  \n",
       "1  890.0  810.0  738.0  651.0        NaN  \n",
       "2  897.0  796.0  691.0  634.0        NaN  \n",
       "3  896.0  880.0  729.0  623.0      796.0  \n",
       "4  930.0  821.0  716.0  705.0      805.0  "
      ]
     },
     "execution_count": 89,
     "metadata": {},
     "output_type": "execute_result"
    }
   ],
   "source": [
    "temp_max.head()"
   ]
  },
  {
   "cell_type": "markdown",
   "metadata": {
    "collapsed": true
   },
   "source": [
    "Rename the columns on the temp_max dataframe"
   ]
  },
  {
   "cell_type": "code",
   "execution_count": 90,
   "metadata": {
    "collapsed": true
   },
   "outputs": [],
   "source": [
    "temp_max.rename(columns=tmax_col_dict, inplace=True)"
   ]
  },
  {
   "cell_type": "markdown",
   "metadata": {
    "collapsed": true
   },
   "source": [
    "Let's check out the head of the temp_max dataframe to see if that worked"
   ]
  },
  {
   "cell_type": "code",
   "execution_count": 91,
   "metadata": {
    "collapsed": false
   },
   "outputs": [
    {
     "data": {
      "text/html": [
       "<div>\n",
       "<table border=\"1\" class=\"dataframe\">\n",
       "  <thead>\n",
       "    <tr style=\"text-align: right;\">\n",
       "      <th></th>\n",
       "      <th>Station</th>\n",
       "      <th>Year</th>\n",
       "      <th>Jan_tmax</th>\n",
       "      <th>Feb_tmax</th>\n",
       "      <th>Mar_tmax</th>\n",
       "      <th>Apr_tmax</th>\n",
       "      <th>May_tmax</th>\n",
       "      <th>Jun_tmax</th>\n",
       "      <th>Jul_tmax</th>\n",
       "      <th>Aug_tmax</th>\n",
       "      <th>Sep_tmax</th>\n",
       "      <th>Oct_tmax</th>\n",
       "      <th>Nov_tmax</th>\n",
       "      <th>Dec_tmax</th>\n",
       "      <th>Avg/Total_tmax</th>\n",
       "    </tr>\n",
       "  </thead>\n",
       "  <tbody>\n",
       "    <tr>\n",
       "      <th>0</th>\n",
       "      <td>11084</td>\n",
       "      <td>1889</td>\n",
       "      <td>NaN</td>\n",
       "      <td>NaN</td>\n",
       "      <td>NaN</td>\n",
       "      <td>NaN</td>\n",
       "      <td>NaN</td>\n",
       "      <td>NaN</td>\n",
       "      <td>944.0</td>\n",
       "      <td>927.0</td>\n",
       "      <td>919.0</td>\n",
       "      <td>NaN</td>\n",
       "      <td>NaN</td>\n",
       "      <td>767.0</td>\n",
       "      <td>NaN</td>\n",
       "    </tr>\n",
       "    <tr>\n",
       "      <th>1</th>\n",
       "      <td>11084</td>\n",
       "      <td>1890</td>\n",
       "      <td>734.0</td>\n",
       "      <td>768.0</td>\n",
       "      <td>719.0</td>\n",
       "      <td>817.0</td>\n",
       "      <td>870.0</td>\n",
       "      <td>NaN</td>\n",
       "      <td>940.0</td>\n",
       "      <td>932.0</td>\n",
       "      <td>890.0</td>\n",
       "      <td>810.0</td>\n",
       "      <td>738.0</td>\n",
       "      <td>651.0</td>\n",
       "      <td>NaN</td>\n",
       "    </tr>\n",
       "    <tr>\n",
       "      <th>2</th>\n",
       "      <td>11084</td>\n",
       "      <td>1891</td>\n",
       "      <td>623.0</td>\n",
       "      <td>745.0</td>\n",
       "      <td>NaN</td>\n",
       "      <td>816.0</td>\n",
       "      <td>879.0</td>\n",
       "      <td>962.0</td>\n",
       "      <td>NaN</td>\n",
       "      <td>932.0</td>\n",
       "      <td>897.0</td>\n",
       "      <td>796.0</td>\n",
       "      <td>691.0</td>\n",
       "      <td>634.0</td>\n",
       "      <td>NaN</td>\n",
       "    </tr>\n",
       "    <tr>\n",
       "      <th>3</th>\n",
       "      <td>11084</td>\n",
       "      <td>1892</td>\n",
       "      <td>553.0</td>\n",
       "      <td>706.0</td>\n",
       "      <td>722.0</td>\n",
       "      <td>832.0</td>\n",
       "      <td>851.0</td>\n",
       "      <td>926.0</td>\n",
       "      <td>894.0</td>\n",
       "      <td>946.0</td>\n",
       "      <td>896.0</td>\n",
       "      <td>880.0</td>\n",
       "      <td>729.0</td>\n",
       "      <td>623.0</td>\n",
       "      <td>796.0</td>\n",
       "    </tr>\n",
       "    <tr>\n",
       "      <th>4</th>\n",
       "      <td>11084</td>\n",
       "      <td>1893</td>\n",
       "      <td>573.0</td>\n",
       "      <td>699.0</td>\n",
       "      <td>694.0</td>\n",
       "      <td>811.0</td>\n",
       "      <td>861.0</td>\n",
       "      <td>938.0</td>\n",
       "      <td>962.0</td>\n",
       "      <td>946.0</td>\n",
       "      <td>930.0</td>\n",
       "      <td>821.0</td>\n",
       "      <td>716.0</td>\n",
       "      <td>705.0</td>\n",
       "      <td>805.0</td>\n",
       "    </tr>\n",
       "  </tbody>\n",
       "</table>\n",
       "</div>"
      ],
      "text/plain": [
       "   Station  Year  Jan_tmax  Feb_tmax  Mar_tmax  Apr_tmax  May_tmax  Jun_tmax  \\\n",
       "0    11084  1889       NaN       NaN       NaN       NaN       NaN       NaN   \n",
       "1    11084  1890     734.0     768.0     719.0     817.0     870.0       NaN   \n",
       "2    11084  1891     623.0     745.0       NaN     816.0     879.0     962.0   \n",
       "3    11084  1892     553.0     706.0     722.0     832.0     851.0     926.0   \n",
       "4    11084  1893     573.0     699.0     694.0     811.0     861.0     938.0   \n",
       "\n",
       "   Jul_tmax  Aug_tmax  Sep_tmax  Oct_tmax  Nov_tmax  Dec_tmax  Avg/Total_tmax  \n",
       "0     944.0     927.0     919.0       NaN       NaN     767.0             NaN  \n",
       "1     940.0     932.0     890.0     810.0     738.0     651.0             NaN  \n",
       "2       NaN     932.0     897.0     796.0     691.0     634.0             NaN  \n",
       "3     894.0     946.0     896.0     880.0     729.0     623.0           796.0  \n",
       "4     962.0     946.0     930.0     821.0     716.0     705.0           805.0  "
      ]
     },
     "execution_count": 91,
     "metadata": {},
     "output_type": "execute_result"
    }
   ],
   "source": [
    "temp_max.head()"
   ]
  },
  {
   "cell_type": "markdown",
   "metadata": {
    "collapsed": true
   },
   "source": [
    "We can accomplish the same thing as the above by calling `df.columns`"
   ]
  },
  {
   "cell_type": "code",
   "execution_count": 92,
   "metadata": {
    "collapsed": false
   },
   "outputs": [
    {
     "data": {
      "text/plain": [
       "Index(['Station', 'Year', 'Jan_tmax', 'Feb_tmax', 'Mar_tmax', 'Apr_tmax',\n",
       "       'May_tmax', 'Jun_tmax', 'Jul_tmax', 'Aug_tmax', 'Sep_tmax', 'Oct_tmax',\n",
       "       'Nov_tmax', 'Dec_tmax', 'Avg/Total_tmax'],\n",
       "      dtype='object')"
      ]
     },
     "execution_count": 92,
     "metadata": {},
     "output_type": "execute_result"
    }
   ],
   "source": [
    "temp_max.columns"
   ]
  },
  {
   "cell_type": "markdown",
   "metadata": {},
   "source": [
    "Let's rename our other dataframes, temp_min, and precip"
   ]
  },
  {
   "cell_type": "code",
   "execution_count": 93,
   "metadata": {
    "collapsed": true
   },
   "outputs": [],
   "source": [
    "precip.rename(columns=pr_col_dict, inplace=True)\n",
    "temp_min.rename(columns=tmin_col_dict, inplace=True)"
   ]
  },
  {
   "cell_type": "markdown",
   "metadata": {},
   "source": [
    "Let's call `.columns` to retrieve the new column conventions of the precip and temp_min dataframes"
   ]
  },
  {
   "cell_type": "code",
   "execution_count": 94,
   "metadata": {
    "collapsed": false,
    "scrolled": true
   },
   "outputs": [
    {
     "name": "stdout",
     "output_type": "stream",
     "text": [
      "precip df columns\n",
      " Index(['Station', 'Year', 'Jan_pr', 'Feb_pr', 'Mar_pr', 'Apr_pr', 'May_pr',\n",
      "       'Jun_pr', 'Jul_pr', 'Aug_pr', 'Sep_pr', 'Oct_pr', 'Nov_pr', 'Dec_pr',\n",
      "       'Avg/Total_pr'],\n",
      "      dtype='object') \n",
      "\n",
      " temp_min df columns \n",
      " Index(['Station', 'Year', 'Jan_tmin', 'Feb_tmin', 'Mar_tmin', 'Apr_tmin',\n",
      "       'May_tmin', 'Jun_tmin', 'Jul_tmin', 'Aug_tmin', 'Sep_tmin', 'Oct_tmin',\n",
      "       'Nov_tmin', 'Dec_tmin', 'Avg/Total_tmin'],\n",
      "      dtype='object')\n"
     ]
    }
   ],
   "source": [
    "print('precip df columns\\n', precip.columns, '\\n\\n', 'temp_min df columns \\n', temp_min.columns)"
   ]
  },
  {
   "cell_type": "markdown",
   "metadata": {},
   "source": [
    "#### Merging these dataframes together!\n",
    "Let's create the **clim** (or climate) dataframe which will encompass the temp_max, temp_min, and precip dataframes\n",
    "\n",
    "**NOTE** - We must specify the dataframes be joined on the 'Station', **and** 'Year' columns, as these are the columns shared by each separate dataframe. If we do not specify the join on these two columns, the `df.merge(df1)` call will crash our kernel, as we are dealing with a sizeable dataset"
   ]
  },
  {
   "cell_type": "code",
   "execution_count": 96,
   "metadata": {
    "collapsed": false
   },
   "outputs": [],
   "source": [
    "clim = (temp_max.merge(temp_min, on=['Station', 'Year'], how='outer')).merge(precip, on=['Station', 'Year'], how='outer')"
   ]
  },
  {
   "cell_type": "markdown",
   "metadata": {},
   "source": [
    "Let's take a look at the head of `clim`"
   ]
  },
  {
   "cell_type": "code",
   "execution_count": 97,
   "metadata": {
    "collapsed": false
   },
   "outputs": [
    {
     "data": {
      "text/html": [
       "<div>\n",
       "<table border=\"1\" class=\"dataframe\">\n",
       "  <thead>\n",
       "    <tr style=\"text-align: right;\">\n",
       "      <th></th>\n",
       "      <th>Station</th>\n",
       "      <th>Year</th>\n",
       "      <th>Jan_tmax</th>\n",
       "      <th>Feb_tmax</th>\n",
       "      <th>Mar_tmax</th>\n",
       "      <th>Apr_tmax</th>\n",
       "      <th>May_tmax</th>\n",
       "      <th>Jun_tmax</th>\n",
       "      <th>Jul_tmax</th>\n",
       "      <th>Aug_tmax</th>\n",
       "      <th>...</th>\n",
       "      <th>Apr_pr</th>\n",
       "      <th>May_pr</th>\n",
       "      <th>Jun_pr</th>\n",
       "      <th>Jul_pr</th>\n",
       "      <th>Aug_pr</th>\n",
       "      <th>Sep_pr</th>\n",
       "      <th>Oct_pr</th>\n",
       "      <th>Nov_pr</th>\n",
       "      <th>Dec_pr</th>\n",
       "      <th>Avg/Total_pr</th>\n",
       "    </tr>\n",
       "  </thead>\n",
       "  <tbody>\n",
       "    <tr>\n",
       "      <th>0</th>\n",
       "      <td>11084.0</td>\n",
       "      <td>1889.0</td>\n",
       "      <td>NaN</td>\n",
       "      <td>NaN</td>\n",
       "      <td>NaN</td>\n",
       "      <td>NaN</td>\n",
       "      <td>NaN</td>\n",
       "      <td>NaN</td>\n",
       "      <td>944.0</td>\n",
       "      <td>927.0</td>\n",
       "      <td>...</td>\n",
       "      <td>NaN</td>\n",
       "      <td>NaN</td>\n",
       "      <td>NaN</td>\n",
       "      <td>NaN</td>\n",
       "      <td>NaN</td>\n",
       "      <td>NaN</td>\n",
       "      <td>NaN</td>\n",
       "      <td>NaN</td>\n",
       "      <td>NaN</td>\n",
       "      <td>NaN</td>\n",
       "    </tr>\n",
       "    <tr>\n",
       "      <th>1</th>\n",
       "      <td>11084.0</td>\n",
       "      <td>1890.0</td>\n",
       "      <td>734.0</td>\n",
       "      <td>768.0</td>\n",
       "      <td>719.0</td>\n",
       "      <td>817.0</td>\n",
       "      <td>870.0</td>\n",
       "      <td>NaN</td>\n",
       "      <td>940.0</td>\n",
       "      <td>932.0</td>\n",
       "      <td>...</td>\n",
       "      <td>NaN</td>\n",
       "      <td>NaN</td>\n",
       "      <td>NaN</td>\n",
       "      <td>NaN</td>\n",
       "      <td>NaN</td>\n",
       "      <td>NaN</td>\n",
       "      <td>NaN</td>\n",
       "      <td>NaN</td>\n",
       "      <td>170.0</td>\n",
       "      <td>NaN</td>\n",
       "    </tr>\n",
       "    <tr>\n",
       "      <th>2</th>\n",
       "      <td>11084.0</td>\n",
       "      <td>1891.0</td>\n",
       "      <td>623.0</td>\n",
       "      <td>745.0</td>\n",
       "      <td>NaN</td>\n",
       "      <td>816.0</td>\n",
       "      <td>879.0</td>\n",
       "      <td>962.0</td>\n",
       "      <td>NaN</td>\n",
       "      <td>932.0</td>\n",
       "      <td>...</td>\n",
       "      <td>165.0</td>\n",
       "      <td>275.0</td>\n",
       "      <td>670.0</td>\n",
       "      <td>425.0</td>\n",
       "      <td>172.0</td>\n",
       "      <td>200.0</td>\n",
       "      <td>0.0</td>\n",
       "      <td>930.0</td>\n",
       "      <td>525.0</td>\n",
       "      <td>5048.0</td>\n",
       "    </tr>\n",
       "    <tr>\n",
       "      <th>3</th>\n",
       "      <td>11084.0</td>\n",
       "      <td>1892.0</td>\n",
       "      <td>553.0</td>\n",
       "      <td>706.0</td>\n",
       "      <td>722.0</td>\n",
       "      <td>832.0</td>\n",
       "      <td>851.0</td>\n",
       "      <td>926.0</td>\n",
       "      <td>894.0</td>\n",
       "      <td>946.0</td>\n",
       "      <td>...</td>\n",
       "      <td>160.0</td>\n",
       "      <td>380.0</td>\n",
       "      <td>780.0</td>\n",
       "      <td>1226.0</td>\n",
       "      <td>1355.0</td>\n",
       "      <td>300.0</td>\n",
       "      <td>100.0</td>\n",
       "      <td>165.0</td>\n",
       "      <td>NaN</td>\n",
       "      <td>NaN</td>\n",
       "    </tr>\n",
       "    <tr>\n",
       "      <th>4</th>\n",
       "      <td>11084.0</td>\n",
       "      <td>1893.0</td>\n",
       "      <td>573.0</td>\n",
       "      <td>699.0</td>\n",
       "      <td>694.0</td>\n",
       "      <td>811.0</td>\n",
       "      <td>861.0</td>\n",
       "      <td>938.0</td>\n",
       "      <td>962.0</td>\n",
       "      <td>946.0</td>\n",
       "      <td>...</td>\n",
       "      <td>380.0</td>\n",
       "      <td>730.0</td>\n",
       "      <td>345.0</td>\n",
       "      <td>425.0</td>\n",
       "      <td>645.0</td>\n",
       "      <td>345.0</td>\n",
       "      <td>635.0</td>\n",
       "      <td>487.0</td>\n",
       "      <td>487.0</td>\n",
       "      <td>6087.0</td>\n",
       "    </tr>\n",
       "  </tbody>\n",
       "</table>\n",
       "<p>5 rows × 41 columns</p>\n",
       "</div>"
      ],
      "text/plain": [
       "   Station    Year  Jan_tmax  Feb_tmax  Mar_tmax  Apr_tmax  May_tmax  \\\n",
       "0  11084.0  1889.0       NaN       NaN       NaN       NaN       NaN   \n",
       "1  11084.0  1890.0     734.0     768.0     719.0     817.0     870.0   \n",
       "2  11084.0  1891.0     623.0     745.0       NaN     816.0     879.0   \n",
       "3  11084.0  1892.0     553.0     706.0     722.0     832.0     851.0   \n",
       "4  11084.0  1893.0     573.0     699.0     694.0     811.0     861.0   \n",
       "\n",
       "   Jun_tmax  Jul_tmax  Aug_tmax      ...       Apr_pr  May_pr  Jun_pr  Jul_pr  \\\n",
       "0       NaN     944.0     927.0      ...          NaN     NaN     NaN     NaN   \n",
       "1       NaN     940.0     932.0      ...          NaN     NaN     NaN     NaN   \n",
       "2     962.0       NaN     932.0      ...        165.0   275.0   670.0   425.0   \n",
       "3     926.0     894.0     946.0      ...        160.0   380.0   780.0  1226.0   \n",
       "4     938.0     962.0     946.0      ...        380.0   730.0   345.0   425.0   \n",
       "\n",
       "   Aug_pr  Sep_pr  Oct_pr  Nov_pr  Dec_pr  Avg/Total_pr  \n",
       "0     NaN     NaN     NaN     NaN     NaN           NaN  \n",
       "1     NaN     NaN     NaN     NaN   170.0           NaN  \n",
       "2   172.0   200.0     0.0   930.0   525.0        5048.0  \n",
       "3  1355.0   300.0   100.0   165.0     NaN           NaN  \n",
       "4   645.0   345.0   635.0   487.0   487.0        6087.0  \n",
       "\n",
       "[5 rows x 41 columns]"
      ]
     },
     "execution_count": 97,
     "metadata": {},
     "output_type": "execute_result"
    }
   ],
   "source": [
    "clim.head()"
   ]
  },
  {
   "cell_type": "markdown",
   "metadata": {},
   "source": [
    "Lets use the `df.info()` method to gather information about the columns, including column names and data types within each column"
   ]
  },
  {
   "cell_type": "code",
   "execution_count": 99,
   "metadata": {
    "collapsed": false
   },
   "outputs": [
    {
     "name": "stdout",
     "output_type": "stream",
     "text": [
      "<class 'pandas.core.frame.DataFrame'>\n",
      "Int64Index: 157407 entries, 0 to 157406\n",
      "Data columns (total 41 columns):\n",
      "Station           157407 non-null float64\n",
      "Year              157407 non-null float64\n",
      "Jan_tmax          149434 non-null float64\n",
      "Feb_tmax          150144 non-null float64\n",
      "Mar_tmax          150159 non-null float64\n",
      "Apr_tmax          150211 non-null float64\n",
      "May_tmax          150353 non-null float64\n",
      "Jun_tmax          150325 non-null float64\n",
      "Jul_tmax          150342 non-null float64\n",
      "Aug_tmax          150296 non-null float64\n",
      "Sep_tmax          150360 non-null float64\n",
      "Oct_tmax          150399 non-null float64\n",
      "Nov_tmax          150388 non-null float64\n",
      "Dec_tmax          150348 non-null float64\n",
      "Avg/Total_tmax    148706 non-null float64\n",
      "Jan_tmin          149492 non-null float64\n",
      "Feb_tmin          150184 non-null float64\n",
      "Mar_tmin          150209 non-null float64\n",
      "Apr_tmin          150246 non-null float64\n",
      "May_tmin          150383 non-null float64\n",
      "Jun_tmin          150387 non-null float64\n",
      "Jul_tmin          150394 non-null float64\n",
      "Aug_tmin          150385 non-null float64\n",
      "Sep_tmin          150437 non-null float64\n",
      "Oct_tmin          150487 non-null float64\n",
      "Nov_tmin          150420 non-null float64\n",
      "Dec_tmin          150395 non-null float64\n",
      "Avg/Total_tmin    148821 non-null float64\n",
      "Jan_pr            142319 non-null float64\n",
      "Feb_pr            142505 non-null float64\n",
      "Mar_pr            142603 non-null float64\n",
      "Apr_pr            143041 non-null float64\n",
      "May_pr            143325 non-null float64\n",
      "Jun_pr            143368 non-null float64\n",
      "Jul_pr            143374 non-null float64\n",
      "Aug_pr            143374 non-null float64\n",
      "Sep_pr            143390 non-null float64\n",
      "Oct_pr            143329 non-null float64\n",
      "Nov_pr            142969 non-null float64\n",
      "Dec_pr            142690 non-null float64\n",
      "Avg/Total_pr      134901 non-null float64\n",
      "dtypes: float64(41)\n",
      "memory usage: 50.4 MB\n"
     ]
    }
   ],
   "source": [
    "clim.info()"
   ]
  },
  {
   "cell_type": "markdown",
   "metadata": {},
   "source": [
    "### Merging `snrf` to the `clim` dataframe"
   ]
  },
  {
   "cell_type": "markdown",
   "metadata": {},
   "source": [
    "**We will be merging off of the 'Station' column**"
   ]
  },
  {
   "cell_type": "markdown",
   "metadata": {},
   "source": [
    "Let's have another look at the head of the snrf dataframe"
   ]
  },
  {
   "cell_type": "code",
   "execution_count": 103,
   "metadata": {
    "collapsed": false
   },
   "outputs": [
    {
     "data": {
      "text/html": [
       "<div>\n",
       "<table border=\"1\" class=\"dataframe\">\n",
       "  <thead>\n",
       "    <tr style=\"text-align: right;\">\n",
       "      <th></th>\n",
       "      <th>State Name</th>\n",
       "      <th>Abbreviation</th>\n",
       "      <th>Region</th>\n",
       "      <th>Sub-Region</th>\n",
       "      <th>Station</th>\n",
       "    </tr>\n",
       "  </thead>\n",
       "  <tbody>\n",
       "    <tr>\n",
       "      <th>0</th>\n",
       "      <td>Alabama</td>\n",
       "      <td>AL</td>\n",
       "      <td>South</td>\n",
       "      <td>East South Central</td>\n",
       "      <td>11084.0</td>\n",
       "    </tr>\n",
       "    <tr>\n",
       "      <th>1</th>\n",
       "      <td>Alabama</td>\n",
       "      <td>AL</td>\n",
       "      <td>South</td>\n",
       "      <td>East South Central</td>\n",
       "      <td>12813.0</td>\n",
       "    </tr>\n",
       "    <tr>\n",
       "      <th>2</th>\n",
       "      <td>Alabama</td>\n",
       "      <td>AL</td>\n",
       "      <td>South</td>\n",
       "      <td>East South Central</td>\n",
       "      <td>13160.0</td>\n",
       "    </tr>\n",
       "    <tr>\n",
       "      <th>3</th>\n",
       "      <td>Alabama</td>\n",
       "      <td>AL</td>\n",
       "      <td>South</td>\n",
       "      <td>East South Central</td>\n",
       "      <td>13511.0</td>\n",
       "    </tr>\n",
       "    <tr>\n",
       "      <th>4</th>\n",
       "      <td>Alabama</td>\n",
       "      <td>AL</td>\n",
       "      <td>South</td>\n",
       "      <td>East South Central</td>\n",
       "      <td>13816.0</td>\n",
       "    </tr>\n",
       "  </tbody>\n",
       "</table>\n",
       "</div>"
      ],
      "text/plain": [
       "  State Name Abbreviation Region          Sub-Region  Station\n",
       "0    Alabama           AL  South  East South Central  11084.0\n",
       "1    Alabama           AL  South  East South Central  12813.0\n",
       "2    Alabama           AL  South  East South Central  13160.0\n",
       "3    Alabama           AL  South  East South Central  13511.0\n",
       "4    Alabama           AL  South  East South Central  13816.0"
      ]
     },
     "execution_count": 103,
     "metadata": {},
     "output_type": "execute_result"
    }
   ],
   "source": [
    "snrf.head()"
   ]
  },
  {
   "cell_type": "markdown",
   "metadata": {},
   "source": [
    "Calling the `.merge` with `clim` and `snrf`. Note that the `.merge` method does not persist the change to the dataframe being called on the left side (the one being merged onto). We must specify a new dataframe variable, following the convention in the sample below.\n",
    "> `new_df = df0.merge(df1, on=['Col1', 'Col2'], how='outer'`"
   ]
  },
  {
   "cell_type": "code",
   "execution_count": 107,
   "metadata": {
    "collapsed": false
   },
   "outputs": [],
   "source": [
    "clim = clim.merge(snrf, on='Station', how='outer')"
   ]
  },
  {
   "cell_type": "markdown",
   "metadata": {},
   "source": [
    "Lets call the `.info()` method on `clim` to see the column names and corresponding data types"
   ]
  },
  {
   "cell_type": "code",
   "execution_count": 109,
   "metadata": {
    "collapsed": false
   },
   "outputs": [
    {
     "name": "stdout",
     "output_type": "stream",
     "text": [
      "<class 'pandas.core.frame.DataFrame'>\n",
      "Int64Index: 157409 entries, 0 to 157408\n",
      "Data columns (total 45 columns):\n",
      "Station           157407 non-null float64\n",
      "Year              157407 non-null float64\n",
      "Jan_tmax          149434 non-null float64\n",
      "Feb_tmax          150144 non-null float64\n",
      "Mar_tmax          150159 non-null float64\n",
      "Apr_tmax          150211 non-null float64\n",
      "May_tmax          150353 non-null float64\n",
      "Jun_tmax          150325 non-null float64\n",
      "Jul_tmax          150342 non-null float64\n",
      "Aug_tmax          150296 non-null float64\n",
      "Sep_tmax          150360 non-null float64\n",
      "Oct_tmax          150399 non-null float64\n",
      "Nov_tmax          150388 non-null float64\n",
      "Dec_tmax          150348 non-null float64\n",
      "Avg/Total_tmax    148706 non-null float64\n",
      "Jan_tmin          149492 non-null float64\n",
      "Feb_tmin          150184 non-null float64\n",
      "Mar_tmin          150209 non-null float64\n",
      "Apr_tmin          150246 non-null float64\n",
      "May_tmin          150383 non-null float64\n",
      "Jun_tmin          150387 non-null float64\n",
      "Jul_tmin          150394 non-null float64\n",
      "Aug_tmin          150385 non-null float64\n",
      "Sep_tmin          150437 non-null float64\n",
      "Oct_tmin          150487 non-null float64\n",
      "Nov_tmin          150420 non-null float64\n",
      "Dec_tmin          150395 non-null float64\n",
      "Avg/Total_tmin    148821 non-null float64\n",
      "Jan_pr            142319 non-null float64\n",
      "Feb_pr            142505 non-null float64\n",
      "Mar_pr            142603 non-null float64\n",
      "Apr_pr            143041 non-null float64\n",
      "May_pr            143325 non-null float64\n",
      "Jun_pr            143368 non-null float64\n",
      "Jul_pr            143374 non-null float64\n",
      "Aug_pr            143374 non-null float64\n",
      "Sep_pr            143390 non-null float64\n",
      "Oct_pr            143329 non-null float64\n",
      "Nov_pr            142969 non-null float64\n",
      "Dec_pr            142690 non-null float64\n",
      "Avg/Total_pr      134901 non-null float64\n",
      "State Name        157409 non-null object\n",
      "Abbreviation      157409 non-null object\n",
      "Region            157409 non-null object\n",
      "Sub-Region        157409 non-null object\n",
      "dtypes: float64(41), object(4)\n",
      "memory usage: 55.2+ MB\n"
     ]
    }
   ],
   "source": [
    "clim.info()"
   ]
  },
  {
   "cell_type": "markdown",
   "metadata": {},
   "source": [
    "Finally, let's call call the `.head()` method to take a look at the first 5 rows of `clim`"
   ]
  },
  {
   "cell_type": "code",
   "execution_count": 110,
   "metadata": {
    "collapsed": false
   },
   "outputs": [
    {
     "data": {
      "text/html": [
       "<div>\n",
       "<table border=\"1\" class=\"dataframe\">\n",
       "  <thead>\n",
       "    <tr style=\"text-align: right;\">\n",
       "      <th></th>\n",
       "      <th>Station</th>\n",
       "      <th>Year</th>\n",
       "      <th>Jan_tmax</th>\n",
       "      <th>Feb_tmax</th>\n",
       "      <th>Mar_tmax</th>\n",
       "      <th>Apr_tmax</th>\n",
       "      <th>May_tmax</th>\n",
       "      <th>Jun_tmax</th>\n",
       "      <th>Jul_tmax</th>\n",
       "      <th>Aug_tmax</th>\n",
       "      <th>...</th>\n",
       "      <th>Aug_pr</th>\n",
       "      <th>Sep_pr</th>\n",
       "      <th>Oct_pr</th>\n",
       "      <th>Nov_pr</th>\n",
       "      <th>Dec_pr</th>\n",
       "      <th>Avg/Total_pr</th>\n",
       "      <th>State Name</th>\n",
       "      <th>Abbreviation</th>\n",
       "      <th>Region</th>\n",
       "      <th>Sub-Region</th>\n",
       "    </tr>\n",
       "  </thead>\n",
       "  <tbody>\n",
       "    <tr>\n",
       "      <th>0</th>\n",
       "      <td>11084.0</td>\n",
       "      <td>1889.0</td>\n",
       "      <td>NaN</td>\n",
       "      <td>NaN</td>\n",
       "      <td>NaN</td>\n",
       "      <td>NaN</td>\n",
       "      <td>NaN</td>\n",
       "      <td>NaN</td>\n",
       "      <td>944.0</td>\n",
       "      <td>927.0</td>\n",
       "      <td>...</td>\n",
       "      <td>NaN</td>\n",
       "      <td>NaN</td>\n",
       "      <td>NaN</td>\n",
       "      <td>NaN</td>\n",
       "      <td>NaN</td>\n",
       "      <td>NaN</td>\n",
       "      <td>Alabama</td>\n",
       "      <td>AL</td>\n",
       "      <td>South</td>\n",
       "      <td>East South Central</td>\n",
       "    </tr>\n",
       "    <tr>\n",
       "      <th>1</th>\n",
       "      <td>11084.0</td>\n",
       "      <td>1890.0</td>\n",
       "      <td>734.0</td>\n",
       "      <td>768.0</td>\n",
       "      <td>719.0</td>\n",
       "      <td>817.0</td>\n",
       "      <td>870.0</td>\n",
       "      <td>NaN</td>\n",
       "      <td>940.0</td>\n",
       "      <td>932.0</td>\n",
       "      <td>...</td>\n",
       "      <td>NaN</td>\n",
       "      <td>NaN</td>\n",
       "      <td>NaN</td>\n",
       "      <td>NaN</td>\n",
       "      <td>170.0</td>\n",
       "      <td>NaN</td>\n",
       "      <td>Alabama</td>\n",
       "      <td>AL</td>\n",
       "      <td>South</td>\n",
       "      <td>East South Central</td>\n",
       "    </tr>\n",
       "    <tr>\n",
       "      <th>2</th>\n",
       "      <td>11084.0</td>\n",
       "      <td>1891.0</td>\n",
       "      <td>623.0</td>\n",
       "      <td>745.0</td>\n",
       "      <td>NaN</td>\n",
       "      <td>816.0</td>\n",
       "      <td>879.0</td>\n",
       "      <td>962.0</td>\n",
       "      <td>NaN</td>\n",
       "      <td>932.0</td>\n",
       "      <td>...</td>\n",
       "      <td>172.0</td>\n",
       "      <td>200.0</td>\n",
       "      <td>0.0</td>\n",
       "      <td>930.0</td>\n",
       "      <td>525.0</td>\n",
       "      <td>5048.0</td>\n",
       "      <td>Alabama</td>\n",
       "      <td>AL</td>\n",
       "      <td>South</td>\n",
       "      <td>East South Central</td>\n",
       "    </tr>\n",
       "    <tr>\n",
       "      <th>3</th>\n",
       "      <td>11084.0</td>\n",
       "      <td>1892.0</td>\n",
       "      <td>553.0</td>\n",
       "      <td>706.0</td>\n",
       "      <td>722.0</td>\n",
       "      <td>832.0</td>\n",
       "      <td>851.0</td>\n",
       "      <td>926.0</td>\n",
       "      <td>894.0</td>\n",
       "      <td>946.0</td>\n",
       "      <td>...</td>\n",
       "      <td>1355.0</td>\n",
       "      <td>300.0</td>\n",
       "      <td>100.0</td>\n",
       "      <td>165.0</td>\n",
       "      <td>NaN</td>\n",
       "      <td>NaN</td>\n",
       "      <td>Alabama</td>\n",
       "      <td>AL</td>\n",
       "      <td>South</td>\n",
       "      <td>East South Central</td>\n",
       "    </tr>\n",
       "    <tr>\n",
       "      <th>4</th>\n",
       "      <td>11084.0</td>\n",
       "      <td>1893.0</td>\n",
       "      <td>573.0</td>\n",
       "      <td>699.0</td>\n",
       "      <td>694.0</td>\n",
       "      <td>811.0</td>\n",
       "      <td>861.0</td>\n",
       "      <td>938.0</td>\n",
       "      <td>962.0</td>\n",
       "      <td>946.0</td>\n",
       "      <td>...</td>\n",
       "      <td>645.0</td>\n",
       "      <td>345.0</td>\n",
       "      <td>635.0</td>\n",
       "      <td>487.0</td>\n",
       "      <td>487.0</td>\n",
       "      <td>6087.0</td>\n",
       "      <td>Alabama</td>\n",
       "      <td>AL</td>\n",
       "      <td>South</td>\n",
       "      <td>East South Central</td>\n",
       "    </tr>\n",
       "  </tbody>\n",
       "</table>\n",
       "<p>5 rows × 45 columns</p>\n",
       "</div>"
      ],
      "text/plain": [
       "   Station    Year  Jan_tmax  Feb_tmax  Mar_tmax  Apr_tmax  May_tmax  \\\n",
       "0  11084.0  1889.0       NaN       NaN       NaN       NaN       NaN   \n",
       "1  11084.0  1890.0     734.0     768.0     719.0     817.0     870.0   \n",
       "2  11084.0  1891.0     623.0     745.0       NaN     816.0     879.0   \n",
       "3  11084.0  1892.0     553.0     706.0     722.0     832.0     851.0   \n",
       "4  11084.0  1893.0     573.0     699.0     694.0     811.0     861.0   \n",
       "\n",
       "   Jun_tmax  Jul_tmax  Aug_tmax         ...          Aug_pr  Sep_pr  Oct_pr  \\\n",
       "0       NaN     944.0     927.0         ...             NaN     NaN     NaN   \n",
       "1       NaN     940.0     932.0         ...             NaN     NaN     NaN   \n",
       "2     962.0       NaN     932.0         ...           172.0   200.0     0.0   \n",
       "3     926.0     894.0     946.0         ...          1355.0   300.0   100.0   \n",
       "4     938.0     962.0     946.0         ...           645.0   345.0   635.0   \n",
       "\n",
       "   Nov_pr  Dec_pr  Avg/Total_pr  State Name  Abbreviation  Region  \\\n",
       "0     NaN     NaN           NaN     Alabama            AL   South   \n",
       "1     NaN   170.0           NaN     Alabama            AL   South   \n",
       "2   930.0   525.0        5048.0     Alabama            AL   South   \n",
       "3   165.0     NaN           NaN     Alabama            AL   South   \n",
       "4   487.0   487.0        6087.0     Alabama            AL   South   \n",
       "\n",
       "           Sub-Region  \n",
       "0  East South Central  \n",
       "1  East South Central  \n",
       "2  East South Central  \n",
       "3  East South Central  \n",
       "4  East South Central  \n",
       "\n",
       "[5 rows x 45 columns]"
      ]
     },
     "execution_count": 110,
     "metadata": {},
     "output_type": "execute_result"
    }
   ],
   "source": [
    "clim.head()"
   ]
  },
  {
   "cell_type": "markdown",
   "metadata": {},
   "source": [
    "___\n",
    "___"
   ]
  },
  {
   "cell_type": "markdown",
   "metadata": {},
   "source": [
    "### Selecting for Iowa, Illinois, Nebraska, Minnesota, and Indiana, dropping NaN values, using the `.groupby()` method"
   ]
  },
  {
   "cell_type": "markdown",
   "metadata": {},
   "source": [
    "The top producing corn states are Iowa, Illinois, Nebraska, Minnesota, and Indiana respectively, according to the USDA - http://www.worldofcorn.com/#us-corn-production-by-state\n",
    "\n",
    "Let's work with the `clim` dataframe to select for these states within the 'State Name' column"
   ]
  },
  {
   "cell_type": "code",
   "execution_count": 158,
   "metadata": {
    "collapsed": false
   },
   "outputs": [],
   "source": [
    "states = ['Iowa', 'Illinois', 'Nebraska', 'Minnesota', 'Indiana']\n",
    "clim_mw = clim[(clim['State Name'] == 'Iowa') | (clim['State Name'] == 'Illinois') |\n",
    "               (clim['State Name'] == 'Nebraska') | (clim['State Name'] == 'Minnesota') |\n",
    "               (clim['State Name'] == 'Indiana')]"
   ]
  },
  {
   "cell_type": "markdown",
   "metadata": {},
   "source": [
    "Drop missing values from the clim_mw dataframe"
   ]
  },
  {
   "cell_type": "code",
   "execution_count": 159,
   "metadata": {
    "collapsed": true
   },
   "outputs": [],
   "source": [
    "clim_mw = clim_mw.dropna()"
   ]
  },
  {
   "cell_type": "markdown",
   "metadata": {},
   "source": [
    "Take the mean of all data based upon the 'Year' column"
   ]
  },
  {
   "cell_type": "code",
   "execution_count": 160,
   "metadata": {
    "collapsed": false
   },
   "outputs": [],
   "source": [
    "clim_mw = clim_mw.groupby('Year').mean()"
   ]
  },
  {
   "cell_type": "markdown",
   "metadata": {},
   "source": [
    "Take a look at the clim_mw dataframe"
   ]
  },
  {
   "cell_type": "code",
   "execution_count": 162,
   "metadata": {
    "collapsed": false
   },
   "outputs": [
    {
     "data": {
      "text/html": [
       "<div>\n",
       "<table border=\"1\" class=\"dataframe\">\n",
       "  <thead>\n",
       "    <tr style=\"text-align: right;\">\n",
       "      <th></th>\n",
       "      <th>Station</th>\n",
       "      <th>Jan_tmax</th>\n",
       "      <th>Feb_tmax</th>\n",
       "      <th>Mar_tmax</th>\n",
       "      <th>Apr_tmax</th>\n",
       "      <th>May_tmax</th>\n",
       "      <th>Jun_tmax</th>\n",
       "      <th>Jul_tmax</th>\n",
       "      <th>Aug_tmax</th>\n",
       "      <th>Sep_tmax</th>\n",
       "      <th>...</th>\n",
       "      <th>Apr_pr</th>\n",
       "      <th>May_pr</th>\n",
       "      <th>Jun_pr</th>\n",
       "      <th>Jul_pr</th>\n",
       "      <th>Aug_pr</th>\n",
       "      <th>Sep_pr</th>\n",
       "      <th>Oct_pr</th>\n",
       "      <th>Nov_pr</th>\n",
       "      <th>Dec_pr</th>\n",
       "      <th>Avg/Total_pr</th>\n",
       "    </tr>\n",
       "    <tr>\n",
       "      <th>Year</th>\n",
       "      <th></th>\n",
       "      <th></th>\n",
       "      <th></th>\n",
       "      <th></th>\n",
       "      <th></th>\n",
       "      <th></th>\n",
       "      <th></th>\n",
       "      <th></th>\n",
       "      <th></th>\n",
       "      <th></th>\n",
       "      <th></th>\n",
       "      <th></th>\n",
       "      <th></th>\n",
       "      <th></th>\n",
       "      <th></th>\n",
       "      <th></th>\n",
       "      <th></th>\n",
       "      <th></th>\n",
       "      <th></th>\n",
       "      <th></th>\n",
       "      <th></th>\n",
       "    </tr>\n",
       "  </thead>\n",
       "  <tbody>\n",
       "    <tr>\n",
       "      <th>1871.0</th>\n",
       "      <td>115326.0</td>\n",
       "      <td>292.0</td>\n",
       "      <td>326.0</td>\n",
       "      <td>422.0</td>\n",
       "      <td>583.0</td>\n",
       "      <td>694.0</td>\n",
       "      <td>762.0</td>\n",
       "      <td>814.0</td>\n",
       "      <td>794.0</td>\n",
       "      <td>703.0</td>\n",
       "      <td>...</td>\n",
       "      <td>207.0</td>\n",
       "      <td>207.0</td>\n",
       "      <td>517.0</td>\n",
       "      <td>104.0</td>\n",
       "      <td>307.0</td>\n",
       "      <td>68.0</td>\n",
       "      <td>297.0</td>\n",
       "      <td>225.0</td>\n",
       "      <td>245.0</td>\n",
       "      <td>2812.0</td>\n",
       "    </tr>\n",
       "    <tr>\n",
       "      <th>1872.0</th>\n",
       "      <td>115326.0</td>\n",
       "      <td>259.0</td>\n",
       "      <td>304.0</td>\n",
       "      <td>326.0</td>\n",
       "      <td>572.0</td>\n",
       "      <td>664.0</td>\n",
       "      <td>790.0</td>\n",
       "      <td>819.0</td>\n",
       "      <td>817.0</td>\n",
       "      <td>721.0</td>\n",
       "      <td>...</td>\n",
       "      <td>347.0</td>\n",
       "      <td>341.0</td>\n",
       "      <td>318.0</td>\n",
       "      <td>438.0</td>\n",
       "      <td>331.0</td>\n",
       "      <td>889.0</td>\n",
       "      <td>62.0</td>\n",
       "      <td>147.0</td>\n",
       "      <td>96.0</td>\n",
       "      <td>3334.0</td>\n",
       "    </tr>\n",
       "    <tr>\n",
       "      <th>1873.0</th>\n",
       "      <td>115326.0</td>\n",
       "      <td>212.0</td>\n",
       "      <td>264.0</td>\n",
       "      <td>401.0</td>\n",
       "      <td>500.0</td>\n",
       "      <td>631.0</td>\n",
       "      <td>819.0</td>\n",
       "      <td>801.0</td>\n",
       "      <td>816.0</td>\n",
       "      <td>701.0</td>\n",
       "      <td>...</td>\n",
       "      <td>240.0</td>\n",
       "      <td>523.0</td>\n",
       "      <td>220.0</td>\n",
       "      <td>261.0</td>\n",
       "      <td>198.0</td>\n",
       "      <td>234.0</td>\n",
       "      <td>221.0</td>\n",
       "      <td>155.0</td>\n",
       "      <td>342.0</td>\n",
       "      <td>2797.0</td>\n",
       "    </tr>\n",
       "    <tr>\n",
       "      <th>1874.0</th>\n",
       "      <td>115326.0</td>\n",
       "      <td>285.0</td>\n",
       "      <td>308.0</td>\n",
       "      <td>392.0</td>\n",
       "      <td>471.0</td>\n",
       "      <td>706.0</td>\n",
       "      <td>799.0</td>\n",
       "      <td>857.0</td>\n",
       "      <td>798.0</td>\n",
       "      <td>753.0</td>\n",
       "      <td>...</td>\n",
       "      <td>202.0</td>\n",
       "      <td>204.0</td>\n",
       "      <td>296.0</td>\n",
       "      <td>109.0</td>\n",
       "      <td>275.0</td>\n",
       "      <td>258.0</td>\n",
       "      <td>231.0</td>\n",
       "      <td>148.0</td>\n",
       "      <td>48.0</td>\n",
       "      <td>2435.0</td>\n",
       "    </tr>\n",
       "    <tr>\n",
       "      <th>1875.0</th>\n",
       "      <td>115326.0</td>\n",
       "      <td>156.0</td>\n",
       "      <td>146.0</td>\n",
       "      <td>337.0</td>\n",
       "      <td>519.0</td>\n",
       "      <td>676.0</td>\n",
       "      <td>735.0</td>\n",
       "      <td>797.0</td>\n",
       "      <td>778.0</td>\n",
       "      <td>683.0</td>\n",
       "      <td>...</td>\n",
       "      <td>233.0</td>\n",
       "      <td>328.0</td>\n",
       "      <td>526.0</td>\n",
       "      <td>424.0</td>\n",
       "      <td>214.0</td>\n",
       "      <td>729.0</td>\n",
       "      <td>276.0</td>\n",
       "      <td>72.0</td>\n",
       "      <td>232.0</td>\n",
       "      <td>3469.0</td>\n",
       "    </tr>\n",
       "  </tbody>\n",
       "</table>\n",
       "<p>5 rows × 40 columns</p>\n",
       "</div>"
      ],
      "text/plain": [
       "         Station  Jan_tmax  Feb_tmax  Mar_tmax  Apr_tmax  May_tmax  Jun_tmax  \\\n",
       "Year                                                                           \n",
       "1871.0  115326.0     292.0     326.0     422.0     583.0     694.0     762.0   \n",
       "1872.0  115326.0     259.0     304.0     326.0     572.0     664.0     790.0   \n",
       "1873.0  115326.0     212.0     264.0     401.0     500.0     631.0     819.0   \n",
       "1874.0  115326.0     285.0     308.0     392.0     471.0     706.0     799.0   \n",
       "1875.0  115326.0     156.0     146.0     337.0     519.0     676.0     735.0   \n",
       "\n",
       "        Jul_tmax  Aug_tmax  Sep_tmax      ...       Apr_pr  May_pr  Jun_pr  \\\n",
       "Year                                      ...                                \n",
       "1871.0     814.0     794.0     703.0      ...        207.0   207.0   517.0   \n",
       "1872.0     819.0     817.0     721.0      ...        347.0   341.0   318.0   \n",
       "1873.0     801.0     816.0     701.0      ...        240.0   523.0   220.0   \n",
       "1874.0     857.0     798.0     753.0      ...        202.0   204.0   296.0   \n",
       "1875.0     797.0     778.0     683.0      ...        233.0   328.0   526.0   \n",
       "\n",
       "        Jul_pr  Aug_pr  Sep_pr  Oct_pr  Nov_pr  Dec_pr  Avg/Total_pr  \n",
       "Year                                                                  \n",
       "1871.0   104.0   307.0    68.0   297.0   225.0   245.0        2812.0  \n",
       "1872.0   438.0   331.0   889.0    62.0   147.0    96.0        3334.0  \n",
       "1873.0   261.0   198.0   234.0   221.0   155.0   342.0        2797.0  \n",
       "1874.0   109.0   275.0   258.0   231.0   148.0    48.0        2435.0  \n",
       "1875.0   424.0   214.0   729.0   276.0    72.0   232.0        3469.0  \n",
       "\n",
       "[5 rows x 40 columns]"
      ]
     },
     "execution_count": 162,
     "metadata": {},
     "output_type": "execute_result"
    }
   ],
   "source": [
    "clim_mw.head()"
   ]
  },
  {
   "cell_type": "markdown",
   "metadata": {},
   "source": [
    "Finally, index clim_mw dataframe such that the 'Year' is greater than or equal to 1975. Being that the 'Year' is the index, we will call `df.index`"
   ]
  },
  {
   "cell_type": "code",
   "execution_count": 168,
   "metadata": {
    "collapsed": false
   },
   "outputs": [],
   "source": [
    "clim_mw = clim_mw[clim_mw.index >= 1975]"
   ]
  },
  {
   "cell_type": "markdown",
   "metadata": {},
   "source": [
    "Verify it worked"
   ]
  },
  {
   "cell_type": "code",
   "execution_count": 170,
   "metadata": {
    "collapsed": false
   },
   "outputs": [
    {
     "data": {
      "text/html": [
       "<div>\n",
       "<table border=\"1\" class=\"dataframe\">\n",
       "  <thead>\n",
       "    <tr style=\"text-align: right;\">\n",
       "      <th></th>\n",
       "      <th>Station</th>\n",
       "      <th>Jan_tmax</th>\n",
       "      <th>Feb_tmax</th>\n",
       "      <th>Mar_tmax</th>\n",
       "      <th>Apr_tmax</th>\n",
       "      <th>May_tmax</th>\n",
       "      <th>Jun_tmax</th>\n",
       "      <th>Jul_tmax</th>\n",
       "      <th>Aug_tmax</th>\n",
       "      <th>Sep_tmax</th>\n",
       "      <th>...</th>\n",
       "      <th>Apr_pr</th>\n",
       "      <th>May_pr</th>\n",
       "      <th>Jun_pr</th>\n",
       "      <th>Jul_pr</th>\n",
       "      <th>Aug_pr</th>\n",
       "      <th>Sep_pr</th>\n",
       "      <th>Oct_pr</th>\n",
       "      <th>Nov_pr</th>\n",
       "      <th>Dec_pr</th>\n",
       "      <th>Avg/Total_pr</th>\n",
       "    </tr>\n",
       "    <tr>\n",
       "      <th>Year</th>\n",
       "      <th></th>\n",
       "      <th></th>\n",
       "      <th></th>\n",
       "      <th></th>\n",
       "      <th></th>\n",
       "      <th></th>\n",
       "      <th></th>\n",
       "      <th></th>\n",
       "      <th></th>\n",
       "      <th></th>\n",
       "      <th></th>\n",
       "      <th></th>\n",
       "      <th></th>\n",
       "      <th></th>\n",
       "      <th></th>\n",
       "      <th></th>\n",
       "      <th></th>\n",
       "      <th></th>\n",
       "      <th></th>\n",
       "      <th></th>\n",
       "      <th></th>\n",
       "    </tr>\n",
       "  </thead>\n",
       "  <tbody>\n",
       "    <tr>\n",
       "      <th>1975.0</th>\n",
       "      <td>177007.284024</td>\n",
       "      <td>328.313609</td>\n",
       "      <td>316.035503</td>\n",
       "      <td>400.715976</td>\n",
       "      <td>547.775148</td>\n",
       "      <td>744.786982</td>\n",
       "      <td>799.337278</td>\n",
       "      <td>862.213018</td>\n",
       "      <td>845.804734</td>\n",
       "      <td>712.390533</td>\n",
       "      <td>...</td>\n",
       "      <td>353.840237</td>\n",
       "      <td>341.029586</td>\n",
       "      <td>533.284024</td>\n",
       "      <td>239.254438</td>\n",
       "      <td>381.130178</td>\n",
       "      <td>214.869822</td>\n",
       "      <td>127.982249</td>\n",
       "      <td>298.396450</td>\n",
       "      <td>156.822485</td>\n",
       "      <td>3321.088757</td>\n",
       "    </tr>\n",
       "    <tr>\n",
       "      <th>1976.0</th>\n",
       "      <td>175997.858824</td>\n",
       "      <td>303.082353</td>\n",
       "      <td>455.123529</td>\n",
       "      <td>501.652941</td>\n",
       "      <td>643.688235</td>\n",
       "      <td>704.723529</td>\n",
       "      <td>823.170588</td>\n",
       "      <td>865.435294</td>\n",
       "      <td>843.076471</td>\n",
       "      <td>762.088235</td>\n",
       "      <td>...</td>\n",
       "      <td>267.758824</td>\n",
       "      <td>282.794118</td>\n",
       "      <td>336.941176</td>\n",
       "      <td>292.682353</td>\n",
       "      <td>167.105882</td>\n",
       "      <td>224.094118</td>\n",
       "      <td>176.188235</td>\n",
       "      <td>39.088235</td>\n",
       "      <td>36.894118</td>\n",
       "      <td>2383.888235</td>\n",
       "    </tr>\n",
       "    <tr>\n",
       "      <th>1977.0</th>\n",
       "      <td>175997.424419</td>\n",
       "      <td>193.622093</td>\n",
       "      <td>390.354651</td>\n",
       "      <td>520.790698</td>\n",
       "      <td>669.395349</td>\n",
       "      <td>789.470930</td>\n",
       "      <td>820.011628</td>\n",
       "      <td>878.959302</td>\n",
       "      <td>799.988372</td>\n",
       "      <td>753.703488</td>\n",
       "      <td>...</td>\n",
       "      <td>280.325581</td>\n",
       "      <td>374.180233</td>\n",
       "      <td>341.872093</td>\n",
       "      <td>341.494186</td>\n",
       "      <td>644.430233</td>\n",
       "      <td>381.372093</td>\n",
       "      <td>321.616279</td>\n",
       "      <td>222.151163</td>\n",
       "      <td>182.813953</td>\n",
       "      <td>3694.284884</td>\n",
       "    </tr>\n",
       "    <tr>\n",
       "      <th>1978.0</th>\n",
       "      <td>176091.840237</td>\n",
       "      <td>205.674556</td>\n",
       "      <td>239.591716</td>\n",
       "      <td>423.230769</td>\n",
       "      <td>597.514793</td>\n",
       "      <td>703.218935</td>\n",
       "      <td>817.278107</td>\n",
       "      <td>842.852071</td>\n",
       "      <td>831.733728</td>\n",
       "      <td>800.840237</td>\n",
       "      <td>...</td>\n",
       "      <td>380.946746</td>\n",
       "      <td>406.514793</td>\n",
       "      <td>308.928994</td>\n",
       "      <td>518.011834</td>\n",
       "      <td>392.899408</td>\n",
       "      <td>280.508876</td>\n",
       "      <td>145.804734</td>\n",
       "      <td>222.881657</td>\n",
       "      <td>200.118343</td>\n",
       "      <td>3207.384615</td>\n",
       "    </tr>\n",
       "    <tr>\n",
       "      <th>1979.0</th>\n",
       "      <td>176444.273810</td>\n",
       "      <td>174.880952</td>\n",
       "      <td>243.720238</td>\n",
       "      <td>445.809524</td>\n",
       "      <td>562.601190</td>\n",
       "      <td>698.500000</td>\n",
       "      <td>811.011905</td>\n",
       "      <td>828.916667</td>\n",
       "      <td>811.315476</td>\n",
       "      <td>777.666667</td>\n",
       "      <td>...</td>\n",
       "      <td>346.089286</td>\n",
       "      <td>305.071429</td>\n",
       "      <td>379.625000</td>\n",
       "      <td>521.369048</td>\n",
       "      <td>472.833333</td>\n",
       "      <td>126.940476</td>\n",
       "      <td>288.392857</td>\n",
       "      <td>267.613095</td>\n",
       "      <td>118.535714</td>\n",
       "      <td>3520.946429</td>\n",
       "    </tr>\n",
       "  </tbody>\n",
       "</table>\n",
       "<p>5 rows × 40 columns</p>\n",
       "</div>"
      ],
      "text/plain": [
       "              Station    Jan_tmax    Feb_tmax    Mar_tmax    Apr_tmax  \\\n",
       "Year                                                                    \n",
       "1975.0  177007.284024  328.313609  316.035503  400.715976  547.775148   \n",
       "1976.0  175997.858824  303.082353  455.123529  501.652941  643.688235   \n",
       "1977.0  175997.424419  193.622093  390.354651  520.790698  669.395349   \n",
       "1978.0  176091.840237  205.674556  239.591716  423.230769  597.514793   \n",
       "1979.0  176444.273810  174.880952  243.720238  445.809524  562.601190   \n",
       "\n",
       "          May_tmax    Jun_tmax    Jul_tmax    Aug_tmax    Sep_tmax  \\\n",
       "Year                                                                 \n",
       "1975.0  744.786982  799.337278  862.213018  845.804734  712.390533   \n",
       "1976.0  704.723529  823.170588  865.435294  843.076471  762.088235   \n",
       "1977.0  789.470930  820.011628  878.959302  799.988372  753.703488   \n",
       "1978.0  703.218935  817.278107  842.852071  831.733728  800.840237   \n",
       "1979.0  698.500000  811.011905  828.916667  811.315476  777.666667   \n",
       "\n",
       "            ...           Apr_pr      May_pr      Jun_pr      Jul_pr  \\\n",
       "Year        ...                                                        \n",
       "1975.0      ...       353.840237  341.029586  533.284024  239.254438   \n",
       "1976.0      ...       267.758824  282.794118  336.941176  292.682353   \n",
       "1977.0      ...       280.325581  374.180233  341.872093  341.494186   \n",
       "1978.0      ...       380.946746  406.514793  308.928994  518.011834   \n",
       "1979.0      ...       346.089286  305.071429  379.625000  521.369048   \n",
       "\n",
       "            Aug_pr      Sep_pr      Oct_pr      Nov_pr      Dec_pr  \\\n",
       "Year                                                                 \n",
       "1975.0  381.130178  214.869822  127.982249  298.396450  156.822485   \n",
       "1976.0  167.105882  224.094118  176.188235   39.088235   36.894118   \n",
       "1977.0  644.430233  381.372093  321.616279  222.151163  182.813953   \n",
       "1978.0  392.899408  280.508876  145.804734  222.881657  200.118343   \n",
       "1979.0  472.833333  126.940476  288.392857  267.613095  118.535714   \n",
       "\n",
       "        Avg/Total_pr  \n",
       "Year                  \n",
       "1975.0   3321.088757  \n",
       "1976.0   2383.888235  \n",
       "1977.0   3694.284884  \n",
       "1978.0   3207.384615  \n",
       "1979.0   3520.946429  \n",
       "\n",
       "[5 rows x 40 columns]"
      ]
     },
     "execution_count": 170,
     "metadata": {},
     "output_type": "execute_result"
    }
   ],
   "source": [
    "clim_mw.head()"
   ]
  },
  {
   "cell_type": "markdown",
   "metadata": {},
   "source": [
    "We will be working with this dataframe further - let's call the `.reset_index` method"
   ]
  },
  {
   "cell_type": "code",
   "execution_count": 174,
   "metadata": {
    "collapsed": false
   },
   "outputs": [],
   "source": [
    "clim_mw = clim_mw.reset_index()"
   ]
  },
  {
   "cell_type": "code",
   "execution_count": 175,
   "metadata": {
    "collapsed": false
   },
   "outputs": [
    {
     "data": {
      "text/html": [
       "<div>\n",
       "<table border=\"1\" class=\"dataframe\">\n",
       "  <thead>\n",
       "    <tr style=\"text-align: right;\">\n",
       "      <th></th>\n",
       "      <th>Year</th>\n",
       "      <th>Station</th>\n",
       "      <th>Jan_tmax</th>\n",
       "      <th>Feb_tmax</th>\n",
       "      <th>Mar_tmax</th>\n",
       "      <th>Apr_tmax</th>\n",
       "      <th>May_tmax</th>\n",
       "      <th>Jun_tmax</th>\n",
       "      <th>Jul_tmax</th>\n",
       "      <th>Aug_tmax</th>\n",
       "      <th>...</th>\n",
       "      <th>Apr_pr</th>\n",
       "      <th>May_pr</th>\n",
       "      <th>Jun_pr</th>\n",
       "      <th>Jul_pr</th>\n",
       "      <th>Aug_pr</th>\n",
       "      <th>Sep_pr</th>\n",
       "      <th>Oct_pr</th>\n",
       "      <th>Nov_pr</th>\n",
       "      <th>Dec_pr</th>\n",
       "      <th>Avg/Total_pr</th>\n",
       "    </tr>\n",
       "  </thead>\n",
       "  <tbody>\n",
       "    <tr>\n",
       "      <th>0</th>\n",
       "      <td>1975.0</td>\n",
       "      <td>177007.284024</td>\n",
       "      <td>328.313609</td>\n",
       "      <td>316.035503</td>\n",
       "      <td>400.715976</td>\n",
       "      <td>547.775148</td>\n",
       "      <td>744.786982</td>\n",
       "      <td>799.337278</td>\n",
       "      <td>862.213018</td>\n",
       "      <td>845.804734</td>\n",
       "      <td>...</td>\n",
       "      <td>353.840237</td>\n",
       "      <td>341.029586</td>\n",
       "      <td>533.284024</td>\n",
       "      <td>239.254438</td>\n",
       "      <td>381.130178</td>\n",
       "      <td>214.869822</td>\n",
       "      <td>127.982249</td>\n",
       "      <td>298.396450</td>\n",
       "      <td>156.822485</td>\n",
       "      <td>3321.088757</td>\n",
       "    </tr>\n",
       "    <tr>\n",
       "      <th>1</th>\n",
       "      <td>1976.0</td>\n",
       "      <td>175997.858824</td>\n",
       "      <td>303.082353</td>\n",
       "      <td>455.123529</td>\n",
       "      <td>501.652941</td>\n",
       "      <td>643.688235</td>\n",
       "      <td>704.723529</td>\n",
       "      <td>823.170588</td>\n",
       "      <td>865.435294</td>\n",
       "      <td>843.076471</td>\n",
       "      <td>...</td>\n",
       "      <td>267.758824</td>\n",
       "      <td>282.794118</td>\n",
       "      <td>336.941176</td>\n",
       "      <td>292.682353</td>\n",
       "      <td>167.105882</td>\n",
       "      <td>224.094118</td>\n",
       "      <td>176.188235</td>\n",
       "      <td>39.088235</td>\n",
       "      <td>36.894118</td>\n",
       "      <td>2383.888235</td>\n",
       "    </tr>\n",
       "    <tr>\n",
       "      <th>2</th>\n",
       "      <td>1977.0</td>\n",
       "      <td>175997.424419</td>\n",
       "      <td>193.622093</td>\n",
       "      <td>390.354651</td>\n",
       "      <td>520.790698</td>\n",
       "      <td>669.395349</td>\n",
       "      <td>789.470930</td>\n",
       "      <td>820.011628</td>\n",
       "      <td>878.959302</td>\n",
       "      <td>799.988372</td>\n",
       "      <td>...</td>\n",
       "      <td>280.325581</td>\n",
       "      <td>374.180233</td>\n",
       "      <td>341.872093</td>\n",
       "      <td>341.494186</td>\n",
       "      <td>644.430233</td>\n",
       "      <td>381.372093</td>\n",
       "      <td>321.616279</td>\n",
       "      <td>222.151163</td>\n",
       "      <td>182.813953</td>\n",
       "      <td>3694.284884</td>\n",
       "    </tr>\n",
       "    <tr>\n",
       "      <th>3</th>\n",
       "      <td>1978.0</td>\n",
       "      <td>176091.840237</td>\n",
       "      <td>205.674556</td>\n",
       "      <td>239.591716</td>\n",
       "      <td>423.230769</td>\n",
       "      <td>597.514793</td>\n",
       "      <td>703.218935</td>\n",
       "      <td>817.278107</td>\n",
       "      <td>842.852071</td>\n",
       "      <td>831.733728</td>\n",
       "      <td>...</td>\n",
       "      <td>380.946746</td>\n",
       "      <td>406.514793</td>\n",
       "      <td>308.928994</td>\n",
       "      <td>518.011834</td>\n",
       "      <td>392.899408</td>\n",
       "      <td>280.508876</td>\n",
       "      <td>145.804734</td>\n",
       "      <td>222.881657</td>\n",
       "      <td>200.118343</td>\n",
       "      <td>3207.384615</td>\n",
       "    </tr>\n",
       "    <tr>\n",
       "      <th>4</th>\n",
       "      <td>1979.0</td>\n",
       "      <td>176444.273810</td>\n",
       "      <td>174.880952</td>\n",
       "      <td>243.720238</td>\n",
       "      <td>445.809524</td>\n",
       "      <td>562.601190</td>\n",
       "      <td>698.500000</td>\n",
       "      <td>811.011905</td>\n",
       "      <td>828.916667</td>\n",
       "      <td>811.315476</td>\n",
       "      <td>...</td>\n",
       "      <td>346.089286</td>\n",
       "      <td>305.071429</td>\n",
       "      <td>379.625000</td>\n",
       "      <td>521.369048</td>\n",
       "      <td>472.833333</td>\n",
       "      <td>126.940476</td>\n",
       "      <td>288.392857</td>\n",
       "      <td>267.613095</td>\n",
       "      <td>118.535714</td>\n",
       "      <td>3520.946429</td>\n",
       "    </tr>\n",
       "  </tbody>\n",
       "</table>\n",
       "<p>5 rows × 41 columns</p>\n",
       "</div>"
      ],
      "text/plain": [
       "     Year        Station    Jan_tmax    Feb_tmax    Mar_tmax    Apr_tmax  \\\n",
       "0  1975.0  177007.284024  328.313609  316.035503  400.715976  547.775148   \n",
       "1  1976.0  175997.858824  303.082353  455.123529  501.652941  643.688235   \n",
       "2  1977.0  175997.424419  193.622093  390.354651  520.790698  669.395349   \n",
       "3  1978.0  176091.840237  205.674556  239.591716  423.230769  597.514793   \n",
       "4  1979.0  176444.273810  174.880952  243.720238  445.809524  562.601190   \n",
       "\n",
       "     May_tmax    Jun_tmax    Jul_tmax    Aug_tmax      ...           Apr_pr  \\\n",
       "0  744.786982  799.337278  862.213018  845.804734      ...       353.840237   \n",
       "1  704.723529  823.170588  865.435294  843.076471      ...       267.758824   \n",
       "2  789.470930  820.011628  878.959302  799.988372      ...       280.325581   \n",
       "3  703.218935  817.278107  842.852071  831.733728      ...       380.946746   \n",
       "4  698.500000  811.011905  828.916667  811.315476      ...       346.089286   \n",
       "\n",
       "       May_pr      Jun_pr      Jul_pr      Aug_pr      Sep_pr      Oct_pr  \\\n",
       "0  341.029586  533.284024  239.254438  381.130178  214.869822  127.982249   \n",
       "1  282.794118  336.941176  292.682353  167.105882  224.094118  176.188235   \n",
       "2  374.180233  341.872093  341.494186  644.430233  381.372093  321.616279   \n",
       "3  406.514793  308.928994  518.011834  392.899408  280.508876  145.804734   \n",
       "4  305.071429  379.625000  521.369048  472.833333  126.940476  288.392857   \n",
       "\n",
       "       Nov_pr      Dec_pr  Avg/Total_pr  \n",
       "0  298.396450  156.822485   3321.088757  \n",
       "1   39.088235   36.894118   2383.888235  \n",
       "2  222.151163  182.813953   3694.284884  \n",
       "3  222.881657  200.118343   3207.384615  \n",
       "4  267.613095  118.535714   3520.946429  \n",
       "\n",
       "[5 rows x 41 columns]"
      ]
     },
     "execution_count": 175,
     "metadata": {},
     "output_type": "execute_result"
    }
   ],
   "source": [
    "clim_mw.head()"
   ]
  },
  {
   "cell_type": "markdown",
   "metadata": {},
   "source": [
    "Lets look at the `type` of the 'Year' column"
   ]
  },
  {
   "cell_type": "code",
   "execution_count": 199,
   "metadata": {
    "collapsed": false
   },
   "outputs": [
    {
     "data": {
      "text/plain": [
       "numpy.float64"
      ]
     },
     "execution_count": 199,
     "metadata": {},
     "output_type": "execute_result"
    }
   ],
   "source": [
    "type(clim_mw['Year'][0])"
   ]
  },
  {
   "cell_type": "markdown",
   "metadata": {},
   "source": [
    "### Incorporating dataset from the University of Illinois at Urbana-Champaign"
   ]
  },
  {
   "cell_type": "code",
   "execution_count": 200,
   "metadata": {
    "collapsed": false
   },
   "outputs": [],
   "source": [
    "ui = pd.read_csv(path + uiuc)"
   ]
  },
  {
   "cell_type": "code",
   "execution_count": 201,
   "metadata": {
    "collapsed": false
   },
   "outputs": [
    {
     "data": {
      "text/html": [
       "<div>\n",
       "<table border=\"1\" class=\"dataframe\">\n",
       "  <thead>\n",
       "    <tr style=\"text-align: right;\">\n",
       "      <th></th>\n",
       "      <th>YEAR</th>\n",
       "      <th>PLANTED</th>\n",
       "      <th>HARVEST</th>\n",
       "      <th>YIELD</th>\n",
       "      <th>PRODUCED</th>\n",
       "      <th>BEGIN</th>\n",
       "      <th>TOTSUP</th>\n",
       "      <th>EXPORTS</th>\n",
       "      <th>FEED</th>\n",
       "      <th>FSI</th>\n",
       "      <th>CONS</th>\n",
       "      <th>ENDING</th>\n",
       "      <th>FPRICE</th>\n",
       "    </tr>\n",
       "  </thead>\n",
       "  <tbody>\n",
       "    <tr>\n",
       "      <th>0</th>\n",
       "      <td>1975/76</td>\n",
       "      <td>78719</td>\n",
       "      <td>67625</td>\n",
       "      <td>86.4</td>\n",
       "      <td>5841</td>\n",
       "      <td>558</td>\n",
       "      <td>6400</td>\n",
       "      <td>1664</td>\n",
       "      <td>3582</td>\n",
       "      <td>521</td>\n",
       "      <td>5767</td>\n",
       "      <td>633</td>\n",
       "      <td>2.54</td>\n",
       "    </tr>\n",
       "    <tr>\n",
       "      <th>1</th>\n",
       "      <td>1976/77</td>\n",
       "      <td>84588</td>\n",
       "      <td>71506</td>\n",
       "      <td>88.0</td>\n",
       "      <td>6289</td>\n",
       "      <td>633</td>\n",
       "      <td>6925</td>\n",
       "      <td>1645</td>\n",
       "      <td>3602</td>\n",
       "      <td>542</td>\n",
       "      <td>5789</td>\n",
       "      <td>1136</td>\n",
       "      <td>2.15</td>\n",
       "    </tr>\n",
       "    <tr>\n",
       "      <th>2</th>\n",
       "      <td>1977/78</td>\n",
       "      <td>84328</td>\n",
       "      <td>71614</td>\n",
       "      <td>90.8</td>\n",
       "      <td>6505</td>\n",
       "      <td>1136</td>\n",
       "      <td>7643</td>\n",
       "      <td>1896</td>\n",
       "      <td>3730</td>\n",
       "      <td>581</td>\n",
       "      <td>6207</td>\n",
       "      <td>1436</td>\n",
       "      <td>2.02</td>\n",
       "    </tr>\n",
       "    <tr>\n",
       "      <th>3</th>\n",
       "      <td>1978/79</td>\n",
       "      <td>81675</td>\n",
       "      <td>71930</td>\n",
       "      <td>101.0</td>\n",
       "      <td>7268</td>\n",
       "      <td>1436</td>\n",
       "      <td>8705</td>\n",
       "      <td>2113</td>\n",
       "      <td>4274</td>\n",
       "      <td>608</td>\n",
       "      <td>6995</td>\n",
       "      <td>1710</td>\n",
       "      <td>2.25</td>\n",
       "    </tr>\n",
       "    <tr>\n",
       "      <th>4</th>\n",
       "      <td>1979/80</td>\n",
       "      <td>81394</td>\n",
       "      <td>72400</td>\n",
       "      <td>109.5</td>\n",
       "      <td>7928</td>\n",
       "      <td>1710</td>\n",
       "      <td>9638</td>\n",
       "      <td>2402</td>\n",
       "      <td>4563</td>\n",
       "      <td>640</td>\n",
       "      <td>7604</td>\n",
       "      <td>2034</td>\n",
       "      <td>2.48</td>\n",
       "    </tr>\n",
       "  </tbody>\n",
       "</table>\n",
       "</div>"
      ],
      "text/plain": [
       "      YEAR  PLANTED  HARVEST  YIELD  PRODUCED  BEGIN  TOTSUP  EXPORTS  FEED  \\\n",
       "0  1975/76    78719    67625   86.4      5841    558    6400     1664  3582   \n",
       "1  1976/77    84588    71506   88.0      6289    633    6925     1645  3602   \n",
       "2  1977/78    84328    71614   90.8      6505   1136    7643     1896  3730   \n",
       "3  1978/79    81675    71930  101.0      7268   1436    8705     2113  4274   \n",
       "4  1979/80    81394    72400  109.5      7928   1710    9638     2402  4563   \n",
       "\n",
       "   FSI  CONS  ENDING  FPRICE  \n",
       "0  521  5767     633    2.54  \n",
       "1  542  5789    1136    2.15  \n",
       "2  581  6207    1436    2.02  \n",
       "3  608  6995    1710    2.25  \n",
       "4  640  7604    2034    2.48  "
      ]
     },
     "execution_count": 201,
     "metadata": {},
     "output_type": "execute_result"
    }
   ],
   "source": [
    "ui.head()"
   ]
  },
  {
   "cell_type": "markdown",
   "metadata": {},
   "source": [
    "Rename the 'YEAR' column to 'Year'. Remember the convention below for renaming columns\n",
    ">`df.rename(columns={'col_a': 'a', 'col_b': 'b'}, inplace=True)`"
   ]
  },
  {
   "cell_type": "code",
   "execution_count": 202,
   "metadata": {
    "collapsed": true
   },
   "outputs": [],
   "source": [
    "ui.rename(columns={'YEAR': 'Year'}, inplace=True)"
   ]
  },
  {
   "cell_type": "markdown",
   "metadata": {},
   "source": [
    "Verify it worked"
   ]
  },
  {
   "cell_type": "code",
   "execution_count": 203,
   "metadata": {
    "collapsed": false
   },
   "outputs": [
    {
     "data": {
      "text/html": [
       "<div>\n",
       "<table border=\"1\" class=\"dataframe\">\n",
       "  <thead>\n",
       "    <tr style=\"text-align: right;\">\n",
       "      <th></th>\n",
       "      <th>Year</th>\n",
       "      <th>PLANTED</th>\n",
       "      <th>HARVEST</th>\n",
       "      <th>YIELD</th>\n",
       "      <th>PRODUCED</th>\n",
       "      <th>BEGIN</th>\n",
       "      <th>TOTSUP</th>\n",
       "      <th>EXPORTS</th>\n",
       "      <th>FEED</th>\n",
       "      <th>FSI</th>\n",
       "      <th>CONS</th>\n",
       "      <th>ENDING</th>\n",
       "      <th>FPRICE</th>\n",
       "    </tr>\n",
       "  </thead>\n",
       "  <tbody>\n",
       "    <tr>\n",
       "      <th>0</th>\n",
       "      <td>1975/76</td>\n",
       "      <td>78719</td>\n",
       "      <td>67625</td>\n",
       "      <td>86.4</td>\n",
       "      <td>5841</td>\n",
       "      <td>558</td>\n",
       "      <td>6400</td>\n",
       "      <td>1664</td>\n",
       "      <td>3582</td>\n",
       "      <td>521</td>\n",
       "      <td>5767</td>\n",
       "      <td>633</td>\n",
       "      <td>2.54</td>\n",
       "    </tr>\n",
       "    <tr>\n",
       "      <th>1</th>\n",
       "      <td>1976/77</td>\n",
       "      <td>84588</td>\n",
       "      <td>71506</td>\n",
       "      <td>88.0</td>\n",
       "      <td>6289</td>\n",
       "      <td>633</td>\n",
       "      <td>6925</td>\n",
       "      <td>1645</td>\n",
       "      <td>3602</td>\n",
       "      <td>542</td>\n",
       "      <td>5789</td>\n",
       "      <td>1136</td>\n",
       "      <td>2.15</td>\n",
       "    </tr>\n",
       "    <tr>\n",
       "      <th>2</th>\n",
       "      <td>1977/78</td>\n",
       "      <td>84328</td>\n",
       "      <td>71614</td>\n",
       "      <td>90.8</td>\n",
       "      <td>6505</td>\n",
       "      <td>1136</td>\n",
       "      <td>7643</td>\n",
       "      <td>1896</td>\n",
       "      <td>3730</td>\n",
       "      <td>581</td>\n",
       "      <td>6207</td>\n",
       "      <td>1436</td>\n",
       "      <td>2.02</td>\n",
       "    </tr>\n",
       "    <tr>\n",
       "      <th>3</th>\n",
       "      <td>1978/79</td>\n",
       "      <td>81675</td>\n",
       "      <td>71930</td>\n",
       "      <td>101.0</td>\n",
       "      <td>7268</td>\n",
       "      <td>1436</td>\n",
       "      <td>8705</td>\n",
       "      <td>2113</td>\n",
       "      <td>4274</td>\n",
       "      <td>608</td>\n",
       "      <td>6995</td>\n",
       "      <td>1710</td>\n",
       "      <td>2.25</td>\n",
       "    </tr>\n",
       "    <tr>\n",
       "      <th>4</th>\n",
       "      <td>1979/80</td>\n",
       "      <td>81394</td>\n",
       "      <td>72400</td>\n",
       "      <td>109.5</td>\n",
       "      <td>7928</td>\n",
       "      <td>1710</td>\n",
       "      <td>9638</td>\n",
       "      <td>2402</td>\n",
       "      <td>4563</td>\n",
       "      <td>640</td>\n",
       "      <td>7604</td>\n",
       "      <td>2034</td>\n",
       "      <td>2.48</td>\n",
       "    </tr>\n",
       "  </tbody>\n",
       "</table>\n",
       "</div>"
      ],
      "text/plain": [
       "      Year  PLANTED  HARVEST  YIELD  PRODUCED  BEGIN  TOTSUP  EXPORTS  FEED  \\\n",
       "0  1975/76    78719    67625   86.4      5841    558    6400     1664  3582   \n",
       "1  1976/77    84588    71506   88.0      6289    633    6925     1645  3602   \n",
       "2  1977/78    84328    71614   90.8      6505   1136    7643     1896  3730   \n",
       "3  1978/79    81675    71930  101.0      7268   1436    8705     2113  4274   \n",
       "4  1979/80    81394    72400  109.5      7928   1710    9638     2402  4563   \n",
       "\n",
       "   FSI  CONS  ENDING  FPRICE  \n",
       "0  521  5767     633    2.54  \n",
       "1  542  5789    1136    2.15  \n",
       "2  581  6207    1436    2.02  \n",
       "3  608  6995    1710    2.25  \n",
       "4  640  7604    2034    2.48  "
      ]
     },
     "execution_count": 203,
     "metadata": {},
     "output_type": "execute_result"
    }
   ],
   "source": [
    "ui.head()"
   ]
  },
  {
   "cell_type": "markdown",
   "metadata": {},
   "source": [
    "Check the `type` of the 'Year' column"
   ]
  },
  {
   "cell_type": "code",
   "execution_count": 204,
   "metadata": {
    "collapsed": false
   },
   "outputs": [
    {
     "data": {
      "text/plain": [
       "str"
      ]
     },
     "execution_count": 204,
     "metadata": {},
     "output_type": "execute_result"
    }
   ],
   "source": [
    "type(ui['Year'][0])"
   ]
  },
  {
   "cell_type": "markdown",
   "metadata": {},
   "source": [
    "**Call the `.apply` method with a `lambda` function on the 'Year' column to preserve only the characters before '/'. Cast the 'Year' column as `int`**"
   ]
  },
  {
   "cell_type": "code",
   "execution_count": 205,
   "metadata": {
    "collapsed": false
   },
   "outputs": [],
   "source": [
    "ui['Year'] = ui['Year'].apply(lambda x: int(x.split('/')[0]))"
   ]
  },
  {
   "cell_type": "code",
   "execution_count": 206,
   "metadata": {
    "collapsed": false
   },
   "outputs": [
    {
     "data": {
      "text/html": [
       "<div>\n",
       "<table border=\"1\" class=\"dataframe\">\n",
       "  <thead>\n",
       "    <tr style=\"text-align: right;\">\n",
       "      <th></th>\n",
       "      <th>Year</th>\n",
       "      <th>PLANTED</th>\n",
       "      <th>HARVEST</th>\n",
       "      <th>YIELD</th>\n",
       "      <th>PRODUCED</th>\n",
       "      <th>BEGIN</th>\n",
       "      <th>TOTSUP</th>\n",
       "      <th>EXPORTS</th>\n",
       "      <th>FEED</th>\n",
       "      <th>FSI</th>\n",
       "      <th>CONS</th>\n",
       "      <th>ENDING</th>\n",
       "      <th>FPRICE</th>\n",
       "    </tr>\n",
       "  </thead>\n",
       "  <tbody>\n",
       "    <tr>\n",
       "      <th>0</th>\n",
       "      <td>1975</td>\n",
       "      <td>78719</td>\n",
       "      <td>67625</td>\n",
       "      <td>86.4</td>\n",
       "      <td>5841</td>\n",
       "      <td>558</td>\n",
       "      <td>6400</td>\n",
       "      <td>1664</td>\n",
       "      <td>3582</td>\n",
       "      <td>521</td>\n",
       "      <td>5767</td>\n",
       "      <td>633</td>\n",
       "      <td>2.54</td>\n",
       "    </tr>\n",
       "    <tr>\n",
       "      <th>1</th>\n",
       "      <td>1976</td>\n",
       "      <td>84588</td>\n",
       "      <td>71506</td>\n",
       "      <td>88.0</td>\n",
       "      <td>6289</td>\n",
       "      <td>633</td>\n",
       "      <td>6925</td>\n",
       "      <td>1645</td>\n",
       "      <td>3602</td>\n",
       "      <td>542</td>\n",
       "      <td>5789</td>\n",
       "      <td>1136</td>\n",
       "      <td>2.15</td>\n",
       "    </tr>\n",
       "    <tr>\n",
       "      <th>2</th>\n",
       "      <td>1977</td>\n",
       "      <td>84328</td>\n",
       "      <td>71614</td>\n",
       "      <td>90.8</td>\n",
       "      <td>6505</td>\n",
       "      <td>1136</td>\n",
       "      <td>7643</td>\n",
       "      <td>1896</td>\n",
       "      <td>3730</td>\n",
       "      <td>581</td>\n",
       "      <td>6207</td>\n",
       "      <td>1436</td>\n",
       "      <td>2.02</td>\n",
       "    </tr>\n",
       "    <tr>\n",
       "      <th>3</th>\n",
       "      <td>1978</td>\n",
       "      <td>81675</td>\n",
       "      <td>71930</td>\n",
       "      <td>101.0</td>\n",
       "      <td>7268</td>\n",
       "      <td>1436</td>\n",
       "      <td>8705</td>\n",
       "      <td>2113</td>\n",
       "      <td>4274</td>\n",
       "      <td>608</td>\n",
       "      <td>6995</td>\n",
       "      <td>1710</td>\n",
       "      <td>2.25</td>\n",
       "    </tr>\n",
       "    <tr>\n",
       "      <th>4</th>\n",
       "      <td>1979</td>\n",
       "      <td>81394</td>\n",
       "      <td>72400</td>\n",
       "      <td>109.5</td>\n",
       "      <td>7928</td>\n",
       "      <td>1710</td>\n",
       "      <td>9638</td>\n",
       "      <td>2402</td>\n",
       "      <td>4563</td>\n",
       "      <td>640</td>\n",
       "      <td>7604</td>\n",
       "      <td>2034</td>\n",
       "      <td>2.48</td>\n",
       "    </tr>\n",
       "  </tbody>\n",
       "</table>\n",
       "</div>"
      ],
      "text/plain": [
       "   Year  PLANTED  HARVEST  YIELD  PRODUCED  BEGIN  TOTSUP  EXPORTS  FEED  FSI  \\\n",
       "0  1975    78719    67625   86.4      5841    558    6400     1664  3582  521   \n",
       "1  1976    84588    71506   88.0      6289    633    6925     1645  3602  542   \n",
       "2  1977    84328    71614   90.8      6505   1136    7643     1896  3730  581   \n",
       "3  1978    81675    71930  101.0      7268   1436    8705     2113  4274  608   \n",
       "4  1979    81394    72400  109.5      7928   1710    9638     2402  4563  640   \n",
       "\n",
       "   CONS  ENDING  FPRICE  \n",
       "0  5767     633    2.54  \n",
       "1  5789    1136    2.15  \n",
       "2  6207    1436    2.02  \n",
       "3  6995    1710    2.25  \n",
       "4  7604    2034    2.48  "
      ]
     },
     "execution_count": 206,
     "metadata": {},
     "output_type": "execute_result"
    }
   ],
   "source": [
    "ui.head()"
   ]
  },
  {
   "cell_type": "code",
   "execution_count": 207,
   "metadata": {
    "collapsed": false
   },
   "outputs": [
    {
     "data": {
      "text/plain": [
       "numpy.int64"
      ]
     },
     "execution_count": 207,
     "metadata": {},
     "output_type": "execute_result"
    }
   ],
   "source": [
    "type(ui['Year'][0])"
   ]
  },
  {
   "cell_type": "markdown",
   "metadata": {},
   "source": [
    "### Merge the ui dataframe to clim_mw"
   ]
  },
  {
   "cell_type": "code",
   "execution_count": 208,
   "metadata": {
    "collapsed": false
   },
   "outputs": [],
   "source": [
    "corn = clim_mw.merge(ui, on='Year', how='outer')"
   ]
  },
  {
   "cell_type": "code",
   "execution_count": 209,
   "metadata": {
    "collapsed": false
   },
   "outputs": [
    {
     "data": {
      "text/html": [
       "<div>\n",
       "<table border=\"1\" class=\"dataframe\">\n",
       "  <thead>\n",
       "    <tr style=\"text-align: right;\">\n",
       "      <th></th>\n",
       "      <th>Year</th>\n",
       "      <th>Station</th>\n",
       "      <th>Jan_tmax</th>\n",
       "      <th>Feb_tmax</th>\n",
       "      <th>Mar_tmax</th>\n",
       "      <th>Apr_tmax</th>\n",
       "      <th>May_tmax</th>\n",
       "      <th>Jun_tmax</th>\n",
       "      <th>Jul_tmax</th>\n",
       "      <th>Aug_tmax</th>\n",
       "      <th>...</th>\n",
       "      <th>YIELD</th>\n",
       "      <th>PRODUCED</th>\n",
       "      <th>BEGIN</th>\n",
       "      <th>TOTSUP</th>\n",
       "      <th>EXPORTS</th>\n",
       "      <th>FEED</th>\n",
       "      <th>FSI</th>\n",
       "      <th>CONS</th>\n",
       "      <th>ENDING</th>\n",
       "      <th>FPRICE</th>\n",
       "    </tr>\n",
       "  </thead>\n",
       "  <tbody>\n",
       "    <tr>\n",
       "      <th>0</th>\n",
       "      <td>1975.0</td>\n",
       "      <td>177007.284024</td>\n",
       "      <td>328.313609</td>\n",
       "      <td>316.035503</td>\n",
       "      <td>400.715976</td>\n",
       "      <td>547.775148</td>\n",
       "      <td>744.786982</td>\n",
       "      <td>799.337278</td>\n",
       "      <td>862.213018</td>\n",
       "      <td>845.804734</td>\n",
       "      <td>...</td>\n",
       "      <td>86.4</td>\n",
       "      <td>5841</td>\n",
       "      <td>558</td>\n",
       "      <td>6400</td>\n",
       "      <td>1664</td>\n",
       "      <td>3582</td>\n",
       "      <td>521</td>\n",
       "      <td>5767</td>\n",
       "      <td>633</td>\n",
       "      <td>2.54</td>\n",
       "    </tr>\n",
       "    <tr>\n",
       "      <th>1</th>\n",
       "      <td>1976.0</td>\n",
       "      <td>175997.858824</td>\n",
       "      <td>303.082353</td>\n",
       "      <td>455.123529</td>\n",
       "      <td>501.652941</td>\n",
       "      <td>643.688235</td>\n",
       "      <td>704.723529</td>\n",
       "      <td>823.170588</td>\n",
       "      <td>865.435294</td>\n",
       "      <td>843.076471</td>\n",
       "      <td>...</td>\n",
       "      <td>88.0</td>\n",
       "      <td>6289</td>\n",
       "      <td>633</td>\n",
       "      <td>6925</td>\n",
       "      <td>1645</td>\n",
       "      <td>3602</td>\n",
       "      <td>542</td>\n",
       "      <td>5789</td>\n",
       "      <td>1136</td>\n",
       "      <td>2.15</td>\n",
       "    </tr>\n",
       "    <tr>\n",
       "      <th>2</th>\n",
       "      <td>1977.0</td>\n",
       "      <td>175997.424419</td>\n",
       "      <td>193.622093</td>\n",
       "      <td>390.354651</td>\n",
       "      <td>520.790698</td>\n",
       "      <td>669.395349</td>\n",
       "      <td>789.470930</td>\n",
       "      <td>820.011628</td>\n",
       "      <td>878.959302</td>\n",
       "      <td>799.988372</td>\n",
       "      <td>...</td>\n",
       "      <td>90.8</td>\n",
       "      <td>6505</td>\n",
       "      <td>1136</td>\n",
       "      <td>7643</td>\n",
       "      <td>1896</td>\n",
       "      <td>3730</td>\n",
       "      <td>581</td>\n",
       "      <td>6207</td>\n",
       "      <td>1436</td>\n",
       "      <td>2.02</td>\n",
       "    </tr>\n",
       "    <tr>\n",
       "      <th>3</th>\n",
       "      <td>1978.0</td>\n",
       "      <td>176091.840237</td>\n",
       "      <td>205.674556</td>\n",
       "      <td>239.591716</td>\n",
       "      <td>423.230769</td>\n",
       "      <td>597.514793</td>\n",
       "      <td>703.218935</td>\n",
       "      <td>817.278107</td>\n",
       "      <td>842.852071</td>\n",
       "      <td>831.733728</td>\n",
       "      <td>...</td>\n",
       "      <td>101.0</td>\n",
       "      <td>7268</td>\n",
       "      <td>1436</td>\n",
       "      <td>8705</td>\n",
       "      <td>2113</td>\n",
       "      <td>4274</td>\n",
       "      <td>608</td>\n",
       "      <td>6995</td>\n",
       "      <td>1710</td>\n",
       "      <td>2.25</td>\n",
       "    </tr>\n",
       "    <tr>\n",
       "      <th>4</th>\n",
       "      <td>1979.0</td>\n",
       "      <td>176444.273810</td>\n",
       "      <td>174.880952</td>\n",
       "      <td>243.720238</td>\n",
       "      <td>445.809524</td>\n",
       "      <td>562.601190</td>\n",
       "      <td>698.500000</td>\n",
       "      <td>811.011905</td>\n",
       "      <td>828.916667</td>\n",
       "      <td>811.315476</td>\n",
       "      <td>...</td>\n",
       "      <td>109.5</td>\n",
       "      <td>7928</td>\n",
       "      <td>1710</td>\n",
       "      <td>9638</td>\n",
       "      <td>2402</td>\n",
       "      <td>4563</td>\n",
       "      <td>640</td>\n",
       "      <td>7604</td>\n",
       "      <td>2034</td>\n",
       "      <td>2.48</td>\n",
       "    </tr>\n",
       "  </tbody>\n",
       "</table>\n",
       "<p>5 rows × 53 columns</p>\n",
       "</div>"
      ],
      "text/plain": [
       "     Year        Station    Jan_tmax    Feb_tmax    Mar_tmax    Apr_tmax  \\\n",
       "0  1975.0  177007.284024  328.313609  316.035503  400.715976  547.775148   \n",
       "1  1976.0  175997.858824  303.082353  455.123529  501.652941  643.688235   \n",
       "2  1977.0  175997.424419  193.622093  390.354651  520.790698  669.395349   \n",
       "3  1978.0  176091.840237  205.674556  239.591716  423.230769  597.514793   \n",
       "4  1979.0  176444.273810  174.880952  243.720238  445.809524  562.601190   \n",
       "\n",
       "     May_tmax    Jun_tmax    Jul_tmax    Aug_tmax   ...    YIELD  PRODUCED  \\\n",
       "0  744.786982  799.337278  862.213018  845.804734   ...     86.4      5841   \n",
       "1  704.723529  823.170588  865.435294  843.076471   ...     88.0      6289   \n",
       "2  789.470930  820.011628  878.959302  799.988372   ...     90.8      6505   \n",
       "3  703.218935  817.278107  842.852071  831.733728   ...    101.0      7268   \n",
       "4  698.500000  811.011905  828.916667  811.315476   ...    109.5      7928   \n",
       "\n",
       "   BEGIN  TOTSUP  EXPORTS  FEED  FSI  CONS  ENDING  FPRICE  \n",
       "0    558    6400     1664  3582  521  5767     633    2.54  \n",
       "1    633    6925     1645  3602  542  5789    1136    2.15  \n",
       "2   1136    7643     1896  3730  581  6207    1436    2.02  \n",
       "3   1436    8705     2113  4274  608  6995    1710    2.25  \n",
       "4   1710    9638     2402  4563  640  7604    2034    2.48  \n",
       "\n",
       "[5 rows x 53 columns]"
      ]
     },
     "execution_count": 209,
     "metadata": {},
     "output_type": "execute_result"
    }
   ],
   "source": [
    "corn.head()"
   ]
  },
  {
   "cell_type": "code",
   "execution_count": 210,
   "metadata": {
    "collapsed": false
   },
   "outputs": [
    {
     "name": "stdout",
     "output_type": "stream",
     "text": [
      "<class 'pandas.core.frame.DataFrame'>\n",
      "Int64Index: 42 entries, 0 to 41\n",
      "Data columns (total 53 columns):\n",
      "Year              42 non-null float64\n",
      "Station           40 non-null float64\n",
      "Jan_tmax          40 non-null float64\n",
      "Feb_tmax          40 non-null float64\n",
      "Mar_tmax          40 non-null float64\n",
      "Apr_tmax          40 non-null float64\n",
      "May_tmax          40 non-null float64\n",
      "Jun_tmax          40 non-null float64\n",
      "Jul_tmax          40 non-null float64\n",
      "Aug_tmax          40 non-null float64\n",
      "Sep_tmax          40 non-null float64\n",
      "Oct_tmax          40 non-null float64\n",
      "Nov_tmax          40 non-null float64\n",
      "Dec_tmax          40 non-null float64\n",
      "Avg/Total_tmax    40 non-null float64\n",
      "Jan_tmin          40 non-null float64\n",
      "Feb_tmin          40 non-null float64\n",
      "Mar_tmin          40 non-null float64\n",
      "Apr_tmin          40 non-null float64\n",
      "May_tmin          40 non-null float64\n",
      "Jun_tmin          40 non-null float64\n",
      "Jul_tmin          40 non-null float64\n",
      "Aug_tmin          40 non-null float64\n",
      "Sep_tmin          40 non-null float64\n",
      "Oct_tmin          40 non-null float64\n",
      "Nov_tmin          40 non-null float64\n",
      "Dec_tmin          40 non-null float64\n",
      "Avg/Total_tmin    40 non-null float64\n",
      "Jan_pr            40 non-null float64\n",
      "Feb_pr            40 non-null float64\n",
      "Mar_pr            40 non-null float64\n",
      "Apr_pr            40 non-null float64\n",
      "May_pr            40 non-null float64\n",
      "Jun_pr            40 non-null float64\n",
      "Jul_pr            40 non-null float64\n",
      "Aug_pr            40 non-null float64\n",
      "Sep_pr            40 non-null float64\n",
      "Oct_pr            40 non-null float64\n",
      "Nov_pr            40 non-null float64\n",
      "Dec_pr            40 non-null float64\n",
      "Avg/Total_pr      40 non-null float64\n",
      "PLANTED           42 non-null int64\n",
      "HARVEST           42 non-null int64\n",
      "YIELD             42 non-null float64\n",
      "PRODUCED          42 non-null int64\n",
      "BEGIN             42 non-null int64\n",
      "TOTSUP            42 non-null int64\n",
      "EXPORTS           42 non-null int64\n",
      "FEED              42 non-null int64\n",
      "FSI               42 non-null int64\n",
      "CONS              42 non-null int64\n",
      "ENDING            42 non-null int64\n",
      "FPRICE            42 non-null float64\n",
      "dtypes: float64(43), int64(10)\n",
      "memory usage: 17.7 KB\n"
     ]
    }
   ],
   "source": [
    "corn.info()"
   ]
  },
  {
   "cell_type": "markdown",
   "metadata": {},
   "source": [
    "Based on the above output, we can see that there is an uneven distribution between our variables. Let's call the `.tail()` method to look at the last 5 rows of the corn dataframe"
   ]
  },
  {
   "cell_type": "code",
   "execution_count": 213,
   "metadata": {
    "collapsed": false
   },
   "outputs": [
    {
     "data": {
      "text/html": [
       "<div>\n",
       "<table border=\"1\" class=\"dataframe\">\n",
       "  <thead>\n",
       "    <tr style=\"text-align: right;\">\n",
       "      <th></th>\n",
       "      <th>Year</th>\n",
       "      <th>Jan_tmax</th>\n",
       "      <th>Feb_tmax</th>\n",
       "      <th>Mar_tmax</th>\n",
       "      <th>Apr_tmax</th>\n",
       "      <th>May_tmax</th>\n",
       "      <th>Jun_tmax</th>\n",
       "      <th>Jul_tmax</th>\n",
       "      <th>Aug_tmax</th>\n",
       "      <th>Sep_tmax</th>\n",
       "      <th>...</th>\n",
       "      <th>YIELD</th>\n",
       "      <th>PRODUCED</th>\n",
       "      <th>BEGIN</th>\n",
       "      <th>TOTSUP</th>\n",
       "      <th>EXPORTS</th>\n",
       "      <th>FEED</th>\n",
       "      <th>FSI</th>\n",
       "      <th>CONS</th>\n",
       "      <th>ENDING</th>\n",
       "      <th>FPRICE</th>\n",
       "    </tr>\n",
       "  </thead>\n",
       "  <tbody>\n",
       "    <tr>\n",
       "      <th>37</th>\n",
       "      <td>2012.0</td>\n",
       "      <td>388.560</td>\n",
       "      <td>406.512</td>\n",
       "      <td>640.688</td>\n",
       "      <td>649.400</td>\n",
       "      <td>779.344</td>\n",
       "      <td>842.464</td>\n",
       "      <td>925.392</td>\n",
       "      <td>851.280</td>\n",
       "      <td>770.200</td>\n",
       "      <td>...</td>\n",
       "      <td>123.1</td>\n",
       "      <td>10755</td>\n",
       "      <td>989</td>\n",
       "      <td>11904</td>\n",
       "      <td>730</td>\n",
       "      <td>4315</td>\n",
       "      <td>6038</td>\n",
       "      <td>11083</td>\n",
       "      <td>821</td>\n",
       "      <td>6.89</td>\n",
       "    </tr>\n",
       "    <tr>\n",
       "      <th>38</th>\n",
       "      <td>2013.0</td>\n",
       "      <td>342.872</td>\n",
       "      <td>350.632</td>\n",
       "      <td>408.552</td>\n",
       "      <td>561.368</td>\n",
       "      <td>716.224</td>\n",
       "      <td>800.648</td>\n",
       "      <td>831.312</td>\n",
       "      <td>831.680</td>\n",
       "      <td>794.920</td>\n",
       "      <td>...</td>\n",
       "      <td>158.1</td>\n",
       "      <td>13829</td>\n",
       "      <td>821</td>\n",
       "      <td>14686</td>\n",
       "      <td>1920</td>\n",
       "      <td>5041</td>\n",
       "      <td>6493</td>\n",
       "      <td>13454</td>\n",
       "      <td>1232</td>\n",
       "      <td>4.46</td>\n",
       "    </tr>\n",
       "    <tr>\n",
       "      <th>39</th>\n",
       "      <td>2014.0</td>\n",
       "      <td>291.224</td>\n",
       "      <td>273.928</td>\n",
       "      <td>437.904</td>\n",
       "      <td>612.576</td>\n",
       "      <td>724.376</td>\n",
       "      <td>811.200</td>\n",
       "      <td>809.824</td>\n",
       "      <td>821.936</td>\n",
       "      <td>747.464</td>\n",
       "      <td>...</td>\n",
       "      <td>171.0</td>\n",
       "      <td>14216</td>\n",
       "      <td>1232</td>\n",
       "      <td>15479</td>\n",
       "      <td>1864</td>\n",
       "      <td>5324</td>\n",
       "      <td>6560</td>\n",
       "      <td>13748</td>\n",
       "      <td>1731</td>\n",
       "      <td>3.70</td>\n",
       "    </tr>\n",
       "    <tr>\n",
       "      <th>40</th>\n",
       "      <td>2015.0</td>\n",
       "      <td>NaN</td>\n",
       "      <td>NaN</td>\n",
       "      <td>NaN</td>\n",
       "      <td>NaN</td>\n",
       "      <td>NaN</td>\n",
       "      <td>NaN</td>\n",
       "      <td>NaN</td>\n",
       "      <td>NaN</td>\n",
       "      <td>NaN</td>\n",
       "      <td>...</td>\n",
       "      <td>168.4</td>\n",
       "      <td>13601</td>\n",
       "      <td>1731</td>\n",
       "      <td>15392</td>\n",
       "      <td>1825</td>\n",
       "      <td>5250</td>\n",
       "      <td>6610</td>\n",
       "      <td>13685</td>\n",
       "      <td>1708</td>\n",
       "      <td>3.70</td>\n",
       "    </tr>\n",
       "    <tr>\n",
       "      <th>41</th>\n",
       "      <td>2016.0</td>\n",
       "      <td>NaN</td>\n",
       "      <td>NaN</td>\n",
       "      <td>NaN</td>\n",
       "      <td>NaN</td>\n",
       "      <td>NaN</td>\n",
       "      <td>NaN</td>\n",
       "      <td>NaN</td>\n",
       "      <td>NaN</td>\n",
       "      <td>NaN</td>\n",
       "      <td>...</td>\n",
       "      <td>168.0</td>\n",
       "      <td>14430</td>\n",
       "      <td>1708</td>\n",
       "      <td>16273</td>\n",
       "      <td>1950</td>\n",
       "      <td>5550</td>\n",
       "      <td>6670</td>\n",
       "      <td>14170</td>\n",
       "      <td>2008</td>\n",
       "      <td>3.50</td>\n",
       "    </tr>\n",
       "  </tbody>\n",
       "</table>\n",
       "<p>5 rows × 52 columns</p>\n",
       "</div>"
      ],
      "text/plain": [
       "      Year  Jan_tmax  Feb_tmax  Mar_tmax  Apr_tmax  May_tmax  Jun_tmax  \\\n",
       "37  2012.0   388.560   406.512   640.688   649.400   779.344   842.464   \n",
       "38  2013.0   342.872   350.632   408.552   561.368   716.224   800.648   \n",
       "39  2014.0   291.224   273.928   437.904   612.576   724.376   811.200   \n",
       "40  2015.0       NaN       NaN       NaN       NaN       NaN       NaN   \n",
       "41  2016.0       NaN       NaN       NaN       NaN       NaN       NaN   \n",
       "\n",
       "    Jul_tmax  Aug_tmax  Sep_tmax   ...    YIELD  PRODUCED  BEGIN  TOTSUP  \\\n",
       "37   925.392   851.280   770.200   ...    123.1     10755    989   11904   \n",
       "38   831.312   831.680   794.920   ...    158.1     13829    821   14686   \n",
       "39   809.824   821.936   747.464   ...    171.0     14216   1232   15479   \n",
       "40       NaN       NaN       NaN   ...    168.4     13601   1731   15392   \n",
       "41       NaN       NaN       NaN   ...    168.0     14430   1708   16273   \n",
       "\n",
       "    EXPORTS  FEED   FSI   CONS  ENDING  FPRICE  \n",
       "37      730  4315  6038  11083     821    6.89  \n",
       "38     1920  5041  6493  13454    1232    4.46  \n",
       "39     1864  5324  6560  13748    1731    3.70  \n",
       "40     1825  5250  6610  13685    1708    3.70  \n",
       "41     1950  5550  6670  14170    2008    3.50  \n",
       "\n",
       "[5 rows x 52 columns]"
      ]
     },
     "execution_count": 213,
     "metadata": {},
     "output_type": "execute_result"
    }
   ],
   "source": [
    "corn.tail()"
   ]
  },
  {
   "cell_type": "markdown",
   "metadata": {},
   "source": [
    "We can see that our final two entries contain NaN values. Lets call the `.dropna()` method once more"
   ]
  },
  {
   "cell_type": "code",
   "execution_count": 214,
   "metadata": {
    "collapsed": true
   },
   "outputs": [],
   "source": [
    "corn.dropna(inplace=True)"
   ]
  },
  {
   "cell_type": "code",
   "execution_count": 215,
   "metadata": {
    "collapsed": false
   },
   "outputs": [
    {
     "name": "stdout",
     "output_type": "stream",
     "text": [
      "<class 'pandas.core.frame.DataFrame'>\n",
      "Int64Index: 40 entries, 0 to 39\n",
      "Data columns (total 52 columns):\n",
      "Year              40 non-null float64\n",
      "Jan_tmax          40 non-null float64\n",
      "Feb_tmax          40 non-null float64\n",
      "Mar_tmax          40 non-null float64\n",
      "Apr_tmax          40 non-null float64\n",
      "May_tmax          40 non-null float64\n",
      "Jun_tmax          40 non-null float64\n",
      "Jul_tmax          40 non-null float64\n",
      "Aug_tmax          40 non-null float64\n",
      "Sep_tmax          40 non-null float64\n",
      "Oct_tmax          40 non-null float64\n",
      "Nov_tmax          40 non-null float64\n",
      "Dec_tmax          40 non-null float64\n",
      "Avg/Total_tmax    40 non-null float64\n",
      "Jan_tmin          40 non-null float64\n",
      "Feb_tmin          40 non-null float64\n",
      "Mar_tmin          40 non-null float64\n",
      "Apr_tmin          40 non-null float64\n",
      "May_tmin          40 non-null float64\n",
      "Jun_tmin          40 non-null float64\n",
      "Jul_tmin          40 non-null float64\n",
      "Aug_tmin          40 non-null float64\n",
      "Sep_tmin          40 non-null float64\n",
      "Oct_tmin          40 non-null float64\n",
      "Nov_tmin          40 non-null float64\n",
      "Dec_tmin          40 non-null float64\n",
      "Avg/Total_tmin    40 non-null float64\n",
      "Jan_pr            40 non-null float64\n",
      "Feb_pr            40 non-null float64\n",
      "Mar_pr            40 non-null float64\n",
      "Apr_pr            40 non-null float64\n",
      "May_pr            40 non-null float64\n",
      "Jun_pr            40 non-null float64\n",
      "Jul_pr            40 non-null float64\n",
      "Aug_pr            40 non-null float64\n",
      "Sep_pr            40 non-null float64\n",
      "Oct_pr            40 non-null float64\n",
      "Nov_pr            40 non-null float64\n",
      "Dec_pr            40 non-null float64\n",
      "Avg/Total_pr      40 non-null float64\n",
      "PLANTED           40 non-null int64\n",
      "HARVEST           40 non-null int64\n",
      "YIELD             40 non-null float64\n",
      "PRODUCED          40 non-null int64\n",
      "BEGIN             40 non-null int64\n",
      "TOTSUP            40 non-null int64\n",
      "EXPORTS           40 non-null int64\n",
      "FEED              40 non-null int64\n",
      "FSI               40 non-null int64\n",
      "CONS              40 non-null int64\n",
      "ENDING            40 non-null int64\n",
      "FPRICE            40 non-null float64\n",
      "dtypes: float64(42), int64(10)\n",
      "memory usage: 16.6 KB\n"
     ]
    }
   ],
   "source": [
    "corn.info()"
   ]
  },
  {
   "cell_type": "markdown",
   "metadata": {},
   "source": [
    "Finally, lets drop the 'Station' column"
   ]
  },
  {
   "cell_type": "code",
   "execution_count": 211,
   "metadata": {
    "collapsed": true
   },
   "outputs": [],
   "source": [
    "corn.drop('Station', axis = 1, inplace=True)"
   ]
  },
  {
   "cell_type": "markdown",
   "metadata": {},
   "source": [
    "### Exploring additional variables (ethanol production)"
   ]
  },
  {
   "cell_type": "code",
   "execution_count": 225,
   "metadata": {
    "collapsed": true
   },
   "outputs": [],
   "source": [
    "eth = pd.read_csv(path + ethanol, skiprows=[0])"
   ]
  },
  {
   "cell_type": "code",
   "execution_count": 226,
   "metadata": {
    "collapsed": false
   },
   "outputs": [
    {
     "data": {
      "text/html": [
       "<div>\n",
       "<table border=\"1\" class=\"dataframe\">\n",
       "  <thead>\n",
       "    <tr style=\"text-align: right;\">\n",
       "      <th></th>\n",
       "      <th>Year</th>\n",
       "      <th>Frequency</th>\n",
       "      <th>Attribute</th>\n",
       "      <th>Commodity</th>\n",
       "      <th>Geography</th>\n",
       "      <th>Unit</th>\n",
       "      <th>Amount</th>\n",
       "    </tr>\n",
       "  </thead>\n",
       "  <tbody>\n",
       "    <tr>\n",
       "      <th>0</th>\n",
       "      <td>1980</td>\n",
       "      <td>MY Sep-Aug</td>\n",
       "      <td>Alcohol for fuel use</td>\n",
       "      <td>Corn</td>\n",
       "      <td>United States</td>\n",
       "      <td>Million bushels</td>\n",
       "      <td>35.0</td>\n",
       "    </tr>\n",
       "    <tr>\n",
       "      <th>1</th>\n",
       "      <td>1981</td>\n",
       "      <td>MY Sep-Aug</td>\n",
       "      <td>Alcohol for fuel use</td>\n",
       "      <td>Corn</td>\n",
       "      <td>United States</td>\n",
       "      <td>Million bushels</td>\n",
       "      <td>86.0</td>\n",
       "    </tr>\n",
       "    <tr>\n",
       "      <th>2</th>\n",
       "      <td>1982</td>\n",
       "      <td>MY Sep-Aug</td>\n",
       "      <td>Alcohol for fuel use</td>\n",
       "      <td>Corn</td>\n",
       "      <td>United States</td>\n",
       "      <td>Million bushels</td>\n",
       "      <td>140.0</td>\n",
       "    </tr>\n",
       "    <tr>\n",
       "      <th>3</th>\n",
       "      <td>1983</td>\n",
       "      <td>MY Sep-Aug</td>\n",
       "      <td>Alcohol for fuel use</td>\n",
       "      <td>Corn</td>\n",
       "      <td>United States</td>\n",
       "      <td>Million bushels</td>\n",
       "      <td>160.0</td>\n",
       "    </tr>\n",
       "    <tr>\n",
       "      <th>4</th>\n",
       "      <td>1984</td>\n",
       "      <td>MY Sep-Aug</td>\n",
       "      <td>Alcohol for fuel use</td>\n",
       "      <td>Corn</td>\n",
       "      <td>United States</td>\n",
       "      <td>Million bushels</td>\n",
       "      <td>232.0</td>\n",
       "    </tr>\n",
       "  </tbody>\n",
       "</table>\n",
       "</div>"
      ],
      "text/plain": [
       "   Year   Frequency             Attribute Commodity      Geography  \\\n",
       "0  1980  MY Sep-Aug  Alcohol for fuel use      Corn  United States   \n",
       "1  1981  MY Sep-Aug  Alcohol for fuel use      Corn  United States   \n",
       "2  1982  MY Sep-Aug  Alcohol for fuel use      Corn  United States   \n",
       "3  1983  MY Sep-Aug  Alcohol for fuel use      Corn  United States   \n",
       "4  1984  MY Sep-Aug  Alcohol for fuel use      Corn  United States   \n",
       "\n",
       "              Unit  Amount  \n",
       "0  Million bushels    35.0  \n",
       "1  Million bushels    86.0  \n",
       "2  Million bushels   140.0  \n",
       "3  Million bushels   160.0  \n",
       "4  Million bushels   232.0  "
      ]
     },
     "execution_count": 226,
     "metadata": {},
     "output_type": "execute_result"
    }
   ],
   "source": [
    "eth.head()"
   ]
  },
  {
   "cell_type": "markdown",
   "metadata": {},
   "source": [
    "Select only the 'Year' and 'Amount' columns from eth"
   ]
  },
  {
   "cell_type": "code",
   "execution_count": 227,
   "metadata": {
    "collapsed": true
   },
   "outputs": [],
   "source": [
    "eth = eth[['Year', 'Amount']]"
   ]
  },
  {
   "cell_type": "code",
   "execution_count": 228,
   "metadata": {
    "collapsed": false
   },
   "outputs": [
    {
     "data": {
      "text/html": [
       "<div>\n",
       "<table border=\"1\" class=\"dataframe\">\n",
       "  <thead>\n",
       "    <tr style=\"text-align: right;\">\n",
       "      <th></th>\n",
       "      <th>Year</th>\n",
       "      <th>Amount</th>\n",
       "    </tr>\n",
       "  </thead>\n",
       "  <tbody>\n",
       "    <tr>\n",
       "      <th>0</th>\n",
       "      <td>1980</td>\n",
       "      <td>35.0</td>\n",
       "    </tr>\n",
       "    <tr>\n",
       "      <th>1</th>\n",
       "      <td>1981</td>\n",
       "      <td>86.0</td>\n",
       "    </tr>\n",
       "    <tr>\n",
       "      <th>2</th>\n",
       "      <td>1982</td>\n",
       "      <td>140.0</td>\n",
       "    </tr>\n",
       "    <tr>\n",
       "      <th>3</th>\n",
       "      <td>1983</td>\n",
       "      <td>160.0</td>\n",
       "    </tr>\n",
       "    <tr>\n",
       "      <th>4</th>\n",
       "      <td>1984</td>\n",
       "      <td>232.0</td>\n",
       "    </tr>\n",
       "  </tbody>\n",
       "</table>\n",
       "</div>"
      ],
      "text/plain": [
       "   Year  Amount\n",
       "0  1980    35.0\n",
       "1  1981    86.0\n",
       "2  1982   140.0\n",
       "3  1983   160.0\n",
       "4  1984   232.0"
      ]
     },
     "execution_count": 228,
     "metadata": {},
     "output_type": "execute_result"
    }
   ],
   "source": [
    "eth.head()"
   ]
  },
  {
   "cell_type": "markdown",
   "metadata": {},
   "source": [
    "Check the type of the 'Year' column"
   ]
  },
  {
   "cell_type": "code",
   "execution_count": 231,
   "metadata": {
    "collapsed": false
   },
   "outputs": [
    {
     "data": {
      "text/plain": [
       "numpy.int64"
      ]
     },
     "execution_count": 231,
     "metadata": {},
     "output_type": "execute_result"
    }
   ],
   "source": [
    "type(eth['Year'][0])"
   ]
  },
  {
   "cell_type": "markdown",
   "metadata": {},
   "source": [
    "### Join eth onto corn"
   ]
  },
  {
   "cell_type": "code",
   "execution_count": 232,
   "metadata": {
    "collapsed": true
   },
   "outputs": [],
   "source": [
    "corn = corn.merge(eth, on='Year', how='outer')"
   ]
  },
  {
   "cell_type": "code",
   "execution_count": 233,
   "metadata": {
    "collapsed": false
   },
   "outputs": [
    {
     "data": {
      "text/html": [
       "<div>\n",
       "<table border=\"1\" class=\"dataframe\">\n",
       "  <thead>\n",
       "    <tr style=\"text-align: right;\">\n",
       "      <th></th>\n",
       "      <th>Year</th>\n",
       "      <th>Jan_tmax</th>\n",
       "      <th>Feb_tmax</th>\n",
       "      <th>Mar_tmax</th>\n",
       "      <th>Apr_tmax</th>\n",
       "      <th>May_tmax</th>\n",
       "      <th>Jun_tmax</th>\n",
       "      <th>Jul_tmax</th>\n",
       "      <th>Aug_tmax</th>\n",
       "      <th>Sep_tmax</th>\n",
       "      <th>...</th>\n",
       "      <th>PRODUCED</th>\n",
       "      <th>BEGIN</th>\n",
       "      <th>TOTSUP</th>\n",
       "      <th>EXPORTS</th>\n",
       "      <th>FEED</th>\n",
       "      <th>FSI</th>\n",
       "      <th>CONS</th>\n",
       "      <th>ENDING</th>\n",
       "      <th>FPRICE</th>\n",
       "      <th>Amount</th>\n",
       "    </tr>\n",
       "  </thead>\n",
       "  <tbody>\n",
       "    <tr>\n",
       "      <th>0</th>\n",
       "      <td>1975.0</td>\n",
       "      <td>328.313609</td>\n",
       "      <td>316.035503</td>\n",
       "      <td>400.715976</td>\n",
       "      <td>547.775148</td>\n",
       "      <td>744.786982</td>\n",
       "      <td>799.337278</td>\n",
       "      <td>862.213018</td>\n",
       "      <td>845.804734</td>\n",
       "      <td>712.390533</td>\n",
       "      <td>...</td>\n",
       "      <td>5841.0</td>\n",
       "      <td>558.0</td>\n",
       "      <td>6400.0</td>\n",
       "      <td>1664.0</td>\n",
       "      <td>3582.0</td>\n",
       "      <td>521.0</td>\n",
       "      <td>5767.0</td>\n",
       "      <td>633.0</td>\n",
       "      <td>2.54</td>\n",
       "      <td>NaN</td>\n",
       "    </tr>\n",
       "    <tr>\n",
       "      <th>1</th>\n",
       "      <td>1976.0</td>\n",
       "      <td>303.082353</td>\n",
       "      <td>455.123529</td>\n",
       "      <td>501.652941</td>\n",
       "      <td>643.688235</td>\n",
       "      <td>704.723529</td>\n",
       "      <td>823.170588</td>\n",
       "      <td>865.435294</td>\n",
       "      <td>843.076471</td>\n",
       "      <td>762.088235</td>\n",
       "      <td>...</td>\n",
       "      <td>6289.0</td>\n",
       "      <td>633.0</td>\n",
       "      <td>6925.0</td>\n",
       "      <td>1645.0</td>\n",
       "      <td>3602.0</td>\n",
       "      <td>542.0</td>\n",
       "      <td>5789.0</td>\n",
       "      <td>1136.0</td>\n",
       "      <td>2.15</td>\n",
       "      <td>NaN</td>\n",
       "    </tr>\n",
       "    <tr>\n",
       "      <th>2</th>\n",
       "      <td>1977.0</td>\n",
       "      <td>193.622093</td>\n",
       "      <td>390.354651</td>\n",
       "      <td>520.790698</td>\n",
       "      <td>669.395349</td>\n",
       "      <td>789.470930</td>\n",
       "      <td>820.011628</td>\n",
       "      <td>878.959302</td>\n",
       "      <td>799.988372</td>\n",
       "      <td>753.703488</td>\n",
       "      <td>...</td>\n",
       "      <td>6505.0</td>\n",
       "      <td>1136.0</td>\n",
       "      <td>7643.0</td>\n",
       "      <td>1896.0</td>\n",
       "      <td>3730.0</td>\n",
       "      <td>581.0</td>\n",
       "      <td>6207.0</td>\n",
       "      <td>1436.0</td>\n",
       "      <td>2.02</td>\n",
       "      <td>NaN</td>\n",
       "    </tr>\n",
       "    <tr>\n",
       "      <th>3</th>\n",
       "      <td>1978.0</td>\n",
       "      <td>205.674556</td>\n",
       "      <td>239.591716</td>\n",
       "      <td>423.230769</td>\n",
       "      <td>597.514793</td>\n",
       "      <td>703.218935</td>\n",
       "      <td>817.278107</td>\n",
       "      <td>842.852071</td>\n",
       "      <td>831.733728</td>\n",
       "      <td>800.840237</td>\n",
       "      <td>...</td>\n",
       "      <td>7268.0</td>\n",
       "      <td>1436.0</td>\n",
       "      <td>8705.0</td>\n",
       "      <td>2113.0</td>\n",
       "      <td>4274.0</td>\n",
       "      <td>608.0</td>\n",
       "      <td>6995.0</td>\n",
       "      <td>1710.0</td>\n",
       "      <td>2.25</td>\n",
       "      <td>NaN</td>\n",
       "    </tr>\n",
       "    <tr>\n",
       "      <th>4</th>\n",
       "      <td>1979.0</td>\n",
       "      <td>174.880952</td>\n",
       "      <td>243.720238</td>\n",
       "      <td>445.809524</td>\n",
       "      <td>562.601190</td>\n",
       "      <td>698.500000</td>\n",
       "      <td>811.011905</td>\n",
       "      <td>828.916667</td>\n",
       "      <td>811.315476</td>\n",
       "      <td>777.666667</td>\n",
       "      <td>...</td>\n",
       "      <td>7928.0</td>\n",
       "      <td>1710.0</td>\n",
       "      <td>9638.0</td>\n",
       "      <td>2402.0</td>\n",
       "      <td>4563.0</td>\n",
       "      <td>640.0</td>\n",
       "      <td>7604.0</td>\n",
       "      <td>2034.0</td>\n",
       "      <td>2.48</td>\n",
       "      <td>NaN</td>\n",
       "    </tr>\n",
       "  </tbody>\n",
       "</table>\n",
       "<p>5 rows × 53 columns</p>\n",
       "</div>"
      ],
      "text/plain": [
       "     Year    Jan_tmax    Feb_tmax    Mar_tmax    Apr_tmax    May_tmax  \\\n",
       "0  1975.0  328.313609  316.035503  400.715976  547.775148  744.786982   \n",
       "1  1976.0  303.082353  455.123529  501.652941  643.688235  704.723529   \n",
       "2  1977.0  193.622093  390.354651  520.790698  669.395349  789.470930   \n",
       "3  1978.0  205.674556  239.591716  423.230769  597.514793  703.218935   \n",
       "4  1979.0  174.880952  243.720238  445.809524  562.601190  698.500000   \n",
       "\n",
       "     Jun_tmax    Jul_tmax    Aug_tmax    Sep_tmax   ...    PRODUCED   BEGIN  \\\n",
       "0  799.337278  862.213018  845.804734  712.390533   ...      5841.0   558.0   \n",
       "1  823.170588  865.435294  843.076471  762.088235   ...      6289.0   633.0   \n",
       "2  820.011628  878.959302  799.988372  753.703488   ...      6505.0  1136.0   \n",
       "3  817.278107  842.852071  831.733728  800.840237   ...      7268.0  1436.0   \n",
       "4  811.011905  828.916667  811.315476  777.666667   ...      7928.0  1710.0   \n",
       "\n",
       "   TOTSUP  EXPORTS    FEED    FSI    CONS  ENDING  FPRICE  Amount  \n",
       "0  6400.0   1664.0  3582.0  521.0  5767.0   633.0    2.54     NaN  \n",
       "1  6925.0   1645.0  3602.0  542.0  5789.0  1136.0    2.15     NaN  \n",
       "2  7643.0   1896.0  3730.0  581.0  6207.0  1436.0    2.02     NaN  \n",
       "3  8705.0   2113.0  4274.0  608.0  6995.0  1710.0    2.25     NaN  \n",
       "4  9638.0   2402.0  4563.0  640.0  7604.0  2034.0    2.48     NaN  \n",
       "\n",
       "[5 rows x 53 columns]"
      ]
     },
     "execution_count": 233,
     "metadata": {},
     "output_type": "execute_result"
    }
   ],
   "source": [
    "corn.head()"
   ]
  },
  {
   "cell_type": "code",
   "execution_count": 234,
   "metadata": {
    "collapsed": false
   },
   "outputs": [
    {
     "name": "stdout",
     "output_type": "stream",
     "text": [
      "<class 'pandas.core.frame.DataFrame'>\n",
      "Int64Index: 42 entries, 0 to 41\n",
      "Data columns (total 53 columns):\n",
      "Year              42 non-null float64\n",
      "Jan_tmax          40 non-null float64\n",
      "Feb_tmax          40 non-null float64\n",
      "Mar_tmax          40 non-null float64\n",
      "Apr_tmax          40 non-null float64\n",
      "May_tmax          40 non-null float64\n",
      "Jun_tmax          40 non-null float64\n",
      "Jul_tmax          40 non-null float64\n",
      "Aug_tmax          40 non-null float64\n",
      "Sep_tmax          40 non-null float64\n",
      "Oct_tmax          40 non-null float64\n",
      "Nov_tmax          40 non-null float64\n",
      "Dec_tmax          40 non-null float64\n",
      "Avg/Total_tmax    40 non-null float64\n",
      "Jan_tmin          40 non-null float64\n",
      "Feb_tmin          40 non-null float64\n",
      "Mar_tmin          40 non-null float64\n",
      "Apr_tmin          40 non-null float64\n",
      "May_tmin          40 non-null float64\n",
      "Jun_tmin          40 non-null float64\n",
      "Jul_tmin          40 non-null float64\n",
      "Aug_tmin          40 non-null float64\n",
      "Sep_tmin          40 non-null float64\n",
      "Oct_tmin          40 non-null float64\n",
      "Nov_tmin          40 non-null float64\n",
      "Dec_tmin          40 non-null float64\n",
      "Avg/Total_tmin    40 non-null float64\n",
      "Jan_pr            40 non-null float64\n",
      "Feb_pr            40 non-null float64\n",
      "Mar_pr            40 non-null float64\n",
      "Apr_pr            40 non-null float64\n",
      "May_pr            40 non-null float64\n",
      "Jun_pr            40 non-null float64\n",
      "Jul_pr            40 non-null float64\n",
      "Aug_pr            40 non-null float64\n",
      "Sep_pr            40 non-null float64\n",
      "Oct_pr            40 non-null float64\n",
      "Nov_pr            40 non-null float64\n",
      "Dec_pr            40 non-null float64\n",
      "Avg/Total_pr      40 non-null float64\n",
      "PLANTED           40 non-null float64\n",
      "HARVEST           40 non-null float64\n",
      "YIELD             40 non-null float64\n",
      "PRODUCED          40 non-null float64\n",
      "BEGIN             40 non-null float64\n",
      "TOTSUP            40 non-null float64\n",
      "EXPORTS           40 non-null float64\n",
      "FEED              40 non-null float64\n",
      "FSI               40 non-null float64\n",
      "CONS              40 non-null float64\n",
      "ENDING            40 non-null float64\n",
      "FPRICE            40 non-null float64\n",
      "Amount            37 non-null float64\n",
      "dtypes: float64(53)\n",
      "memory usage: 17.7 KB\n"
     ]
    }
   ],
   "source": [
    "corn.info()"
   ]
  },
  {
   "cell_type": "markdown",
   "metadata": {},
   "source": [
    "We see that there are again several instances of missing values. Lets go ahead and drop those"
   ]
  },
  {
   "cell_type": "code",
   "execution_count": 235,
   "metadata": {
    "collapsed": true
   },
   "outputs": [],
   "source": [
    "corn.dropna(inplace=True)"
   ]
  },
  {
   "cell_type": "code",
   "execution_count": 238,
   "metadata": {
    "collapsed": false
   },
   "outputs": [
    {
     "data": {
      "text/html": [
       "<div>\n",
       "<table border=\"1\" class=\"dataframe\">\n",
       "  <thead>\n",
       "    <tr style=\"text-align: right;\">\n",
       "      <th></th>\n",
       "      <th>Year</th>\n",
       "      <th>Jan_tmax</th>\n",
       "      <th>Feb_tmax</th>\n",
       "      <th>Mar_tmax</th>\n",
       "      <th>Apr_tmax</th>\n",
       "      <th>May_tmax</th>\n",
       "      <th>Jun_tmax</th>\n",
       "      <th>Jul_tmax</th>\n",
       "      <th>Aug_tmax</th>\n",
       "      <th>Sep_tmax</th>\n",
       "      <th>...</th>\n",
       "      <th>PRODUCED</th>\n",
       "      <th>BEGIN</th>\n",
       "      <th>TOTSUP</th>\n",
       "      <th>EXPORTS</th>\n",
       "      <th>FEED</th>\n",
       "      <th>FSI</th>\n",
       "      <th>CONS</th>\n",
       "      <th>ENDING</th>\n",
       "      <th>FPRICE</th>\n",
       "      <th>Amount</th>\n",
       "    </tr>\n",
       "  </thead>\n",
       "  <tbody>\n",
       "    <tr>\n",
       "      <th>5</th>\n",
       "      <td>1980.0</td>\n",
       "      <td>304.604651</td>\n",
       "      <td>298.058140</td>\n",
       "      <td>419.250000</td>\n",
       "      <td>611.581395</td>\n",
       "      <td>741.034884</td>\n",
       "      <td>816.360465</td>\n",
       "      <td>894.093023</td>\n",
       "      <td>853.906977</td>\n",
       "      <td>772.098837</td>\n",
       "      <td>...</td>\n",
       "      <td>6639.0</td>\n",
       "      <td>2034.0</td>\n",
       "      <td>8675.0</td>\n",
       "      <td>2391.0</td>\n",
       "      <td>4232.0</td>\n",
       "      <td>659.0</td>\n",
       "      <td>7282.0</td>\n",
       "      <td>1392.0</td>\n",
       "      <td>3.12</td>\n",
       "      <td>35.0</td>\n",
       "    </tr>\n",
       "    <tr>\n",
       "      <th>6</th>\n",
       "      <td>1981.0</td>\n",
       "      <td>347.028902</td>\n",
       "      <td>399.289017</td>\n",
       "      <td>513.040462</td>\n",
       "      <td>666.930636</td>\n",
       "      <td>686.184971</td>\n",
       "      <td>818.265896</td>\n",
       "      <td>838.728324</td>\n",
       "      <td>810.294798</td>\n",
       "      <td>749.173410</td>\n",
       "      <td>...</td>\n",
       "      <td>8119.0</td>\n",
       "      <td>1392.0</td>\n",
       "      <td>9511.0</td>\n",
       "      <td>1997.0</td>\n",
       "      <td>4245.0</td>\n",
       "      <td>733.0</td>\n",
       "      <td>6975.0</td>\n",
       "      <td>2537.0</td>\n",
       "      <td>2.47</td>\n",
       "      <td>86.0</td>\n",
       "    </tr>\n",
       "    <tr>\n",
       "      <th>7</th>\n",
       "      <td>1982.0</td>\n",
       "      <td>222.075000</td>\n",
       "      <td>319.181250</td>\n",
       "      <td>448.562500</td>\n",
       "      <td>569.743750</td>\n",
       "      <td>738.812500</td>\n",
       "      <td>756.750000</td>\n",
       "      <td>851.362500</td>\n",
       "      <td>811.625000</td>\n",
       "      <td>729.931250</td>\n",
       "      <td>...</td>\n",
       "      <td>8235.0</td>\n",
       "      <td>2537.0</td>\n",
       "      <td>10772.0</td>\n",
       "      <td>1821.0</td>\n",
       "      <td>4573.0</td>\n",
       "      <td>855.0</td>\n",
       "      <td>7249.0</td>\n",
       "      <td>3523.0</td>\n",
       "      <td>2.55</td>\n",
       "      <td>140.0</td>\n",
       "    </tr>\n",
       "    <tr>\n",
       "      <th>8</th>\n",
       "      <td>1983.0</td>\n",
       "      <td>325.353659</td>\n",
       "      <td>391.920732</td>\n",
       "      <td>458.615854</td>\n",
       "      <td>535.060976</td>\n",
       "      <td>675.115854</td>\n",
       "      <td>802.621951</td>\n",
       "      <td>890.926829</td>\n",
       "      <td>900.695122</td>\n",
       "      <td>778.585366</td>\n",
       "      <td>...</td>\n",
       "      <td>4174.0</td>\n",
       "      <td>3523.0</td>\n",
       "      <td>7699.0</td>\n",
       "      <td>1886.0</td>\n",
       "      <td>3876.0</td>\n",
       "      <td>930.0</td>\n",
       "      <td>6693.0</td>\n",
       "      <td>1006.0</td>\n",
       "      <td>3.21</td>\n",
       "      <td>160.0</td>\n",
       "    </tr>\n",
       "    <tr>\n",
       "      <th>9</th>\n",
       "      <td>1984.0</td>\n",
       "      <td>279.734177</td>\n",
       "      <td>420.525316</td>\n",
       "      <td>386.132911</td>\n",
       "      <td>567.702532</td>\n",
       "      <td>686.575949</td>\n",
       "      <td>824.164557</td>\n",
       "      <td>844.221519</td>\n",
       "      <td>863.170886</td>\n",
       "      <td>731.164557</td>\n",
       "      <td>...</td>\n",
       "      <td>7672.0</td>\n",
       "      <td>1006.0</td>\n",
       "      <td>8680.0</td>\n",
       "      <td>1850.0</td>\n",
       "      <td>4115.0</td>\n",
       "      <td>1067.0</td>\n",
       "      <td>7032.0</td>\n",
       "      <td>1648.0</td>\n",
       "      <td>2.63</td>\n",
       "      <td>232.0</td>\n",
       "    </tr>\n",
       "  </tbody>\n",
       "</table>\n",
       "<p>5 rows × 53 columns</p>\n",
       "</div>"
      ],
      "text/plain": [
       "     Year    Jan_tmax    Feb_tmax    Mar_tmax    Apr_tmax    May_tmax  \\\n",
       "5  1980.0  304.604651  298.058140  419.250000  611.581395  741.034884   \n",
       "6  1981.0  347.028902  399.289017  513.040462  666.930636  686.184971   \n",
       "7  1982.0  222.075000  319.181250  448.562500  569.743750  738.812500   \n",
       "8  1983.0  325.353659  391.920732  458.615854  535.060976  675.115854   \n",
       "9  1984.0  279.734177  420.525316  386.132911  567.702532  686.575949   \n",
       "\n",
       "     Jun_tmax    Jul_tmax    Aug_tmax    Sep_tmax   ...    PRODUCED   BEGIN  \\\n",
       "5  816.360465  894.093023  853.906977  772.098837   ...      6639.0  2034.0   \n",
       "6  818.265896  838.728324  810.294798  749.173410   ...      8119.0  1392.0   \n",
       "7  756.750000  851.362500  811.625000  729.931250   ...      8235.0  2537.0   \n",
       "8  802.621951  890.926829  900.695122  778.585366   ...      4174.0  3523.0   \n",
       "9  824.164557  844.221519  863.170886  731.164557   ...      7672.0  1006.0   \n",
       "\n",
       "    TOTSUP  EXPORTS    FEED     FSI    CONS  ENDING  FPRICE  Amount  \n",
       "5   8675.0   2391.0  4232.0   659.0  7282.0  1392.0    3.12    35.0  \n",
       "6   9511.0   1997.0  4245.0   733.0  6975.0  2537.0    2.47    86.0  \n",
       "7  10772.0   1821.0  4573.0   855.0  7249.0  3523.0    2.55   140.0  \n",
       "8   7699.0   1886.0  3876.0   930.0  6693.0  1006.0    3.21   160.0  \n",
       "9   8680.0   1850.0  4115.0  1067.0  7032.0  1648.0    2.63   232.0  \n",
       "\n",
       "[5 rows x 53 columns]"
      ]
     },
     "execution_count": 238,
     "metadata": {},
     "output_type": "execute_result"
    }
   ],
   "source": [
    "corn.head()"
   ]
  },
  {
   "cell_type": "markdown",
   "metadata": {},
   "source": [
    "Rename the 'Amount' column to 'Ethanol'"
   ]
  },
  {
   "cell_type": "code",
   "execution_count": 241,
   "metadata": {
    "collapsed": true
   },
   "outputs": [],
   "source": [
    "corn.rename(columns={'Amount': 'Ethanol'}, inplace=True)"
   ]
  },
  {
   "cell_type": "code",
   "execution_count": 242,
   "metadata": {
    "collapsed": false
   },
   "outputs": [
    {
     "name": "stdout",
     "output_type": "stream",
     "text": [
      "<class 'pandas.core.frame.DataFrame'>\n",
      "Int64Index: 35 entries, 5 to 39\n",
      "Data columns (total 53 columns):\n",
      "Year              35 non-null float64\n",
      "Jan_tmax          35 non-null float64\n",
      "Feb_tmax          35 non-null float64\n",
      "Mar_tmax          35 non-null float64\n",
      "Apr_tmax          35 non-null float64\n",
      "May_tmax          35 non-null float64\n",
      "Jun_tmax          35 non-null float64\n",
      "Jul_tmax          35 non-null float64\n",
      "Aug_tmax          35 non-null float64\n",
      "Sep_tmax          35 non-null float64\n",
      "Oct_tmax          35 non-null float64\n",
      "Nov_tmax          35 non-null float64\n",
      "Dec_tmax          35 non-null float64\n",
      "Avg/Total_tmax    35 non-null float64\n",
      "Jan_tmin          35 non-null float64\n",
      "Feb_tmin          35 non-null float64\n",
      "Mar_tmin          35 non-null float64\n",
      "Apr_tmin          35 non-null float64\n",
      "May_tmin          35 non-null float64\n",
      "Jun_tmin          35 non-null float64\n",
      "Jul_tmin          35 non-null float64\n",
      "Aug_tmin          35 non-null float64\n",
      "Sep_tmin          35 non-null float64\n",
      "Oct_tmin          35 non-null float64\n",
      "Nov_tmin          35 non-null float64\n",
      "Dec_tmin          35 non-null float64\n",
      "Avg/Total_tmin    35 non-null float64\n",
      "Jan_pr            35 non-null float64\n",
      "Feb_pr            35 non-null float64\n",
      "Mar_pr            35 non-null float64\n",
      "Apr_pr            35 non-null float64\n",
      "May_pr            35 non-null float64\n",
      "Jun_pr            35 non-null float64\n",
      "Jul_pr            35 non-null float64\n",
      "Aug_pr            35 non-null float64\n",
      "Sep_pr            35 non-null float64\n",
      "Oct_pr            35 non-null float64\n",
      "Nov_pr            35 non-null float64\n",
      "Dec_pr            35 non-null float64\n",
      "Avg/Total_pr      35 non-null float64\n",
      "PLANTED           35 non-null float64\n",
      "HARVEST           35 non-null float64\n",
      "YIELD             35 non-null float64\n",
      "PRODUCED          35 non-null float64\n",
      "BEGIN             35 non-null float64\n",
      "TOTSUP            35 non-null float64\n",
      "EXPORTS           35 non-null float64\n",
      "FEED              35 non-null float64\n",
      "FSI               35 non-null float64\n",
      "CONS              35 non-null float64\n",
      "ENDING            35 non-null float64\n",
      "FPRICE            35 non-null float64\n",
      "Ethanol           35 non-null float64\n",
      "dtypes: float64(53)\n",
      "memory usage: 14.8 KB\n"
     ]
    }
   ],
   "source": [
    "corn.info()"
   ]
  },
  {
   "cell_type": "markdown",
   "metadata": {},
   "source": [
    "# Writing corn to a csv file"
   ]
  },
  {
   "cell_type": "code",
   "execution_count": 244,
   "metadata": {
    "collapsed": true
   },
   "outputs": [],
   "source": [
    "corn.to_csv(path + 'csvs_from_jupyter_nb/corn.csv', index=False)"
   ]
  }
 ],
 "metadata": {
  "kernelspec": {
   "display_name": "Python [Root]",
   "language": "python",
   "name": "Python [Root]"
  },
  "language_info": {
   "codemirror_mode": {
    "name": "ipython",
    "version": 3
   },
   "file_extension": ".py",
   "mimetype": "text/x-python",
   "name": "python",
   "nbconvert_exporter": "python",
   "pygments_lexer": "ipython3",
   "version": "3.5.2"
  }
 },
 "nbformat": 4,
 "nbformat_minor": 0
}
